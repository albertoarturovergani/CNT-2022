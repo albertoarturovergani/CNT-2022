{
 "cells": [
  {
   "cell_type": "markdown",
   "metadata": {},
   "source": [
    "# 1D small world network\n",
    "\n",
    "http://www.scholarpedia.org/article/Small-world_network <br>\n",
    "https://en.wikipedia.org/wiki/Network_science"
   ]
  },
  {
   "cell_type": "code",
   "execution_count": 1,
   "metadata": {},
   "outputs": [],
   "source": [
    "# fileName\n",
    "\n",
    "fileName = 'eg_1D_small-world_network'"
   ]
  },
  {
   "cell_type": "code",
   "execution_count": 2,
   "metadata": {},
   "outputs": [
    {
     "name": "stdout",
     "output_type": "stream",
     "text": [
      "Detected PyNN version 0.9.4 and Neo version 0.6.1\n"
     ]
    }
   ],
   "source": [
    "# libs\n",
    "\n",
    "import pyNN.spiNNaker as sim\n",
    "from pyNN import space \n",
    "import numpy as np\n",
    "import matplotlib.pyplot as plt\n"
   ]
  },
  {
   "cell_type": "code",
   "execution_count": 3,
   "metadata": {},
   "outputs": [
    {
     "name": "stderr",
     "output_type": "stream",
     "text": [
      "2022-01-11 11:38:15 INFO: Read cfg files: /home/spinnaker/sPyNNaker/lib/python3.6/site-packages/spinn_front_end_common/interface/spinnaker.cfg, /home/spinnaker/sPyNNaker/lib/python3.6/site-packages/spynnaker/pyNN/spynnaker.cfg, /home/spinnaker/.spynnaker.cfg\n",
      "2022-01-11 11:38:15 INFO: Will search these locations for binaries: /home/spinnaker/sPyNNaker/lib/python3.6/site-packages/spinn_front_end_common/common_model_binaries : /home/spinnaker/sPyNNaker/lib/python3.6/site-packages/spynnaker/pyNN/model_binaries\n",
      "2022-01-11 11:38:15 INFO: Setting time scale factor to 1.\n",
      "2022-01-11 11:38:15 INFO: Setting machine time step to 1000 micro-seconds.\n"
     ]
    },
    {
     "name": "stdout",
     "output_type": "stream",
     "text": [
      "['/home/spinnaker/sPyNNaker/lib/python3.6/site-packages/spinn_front_end_common/interface/spinnaker.cfg', '/home/spinnaker/sPyNNaker/lib/python3.6/site-packages/spynnaker/pyNN/spynnaker.cfg', '/home/spinnaker/.spynnaker.cfg']\n"
     ]
    }
   ],
   "source": [
    "# simulation settings\n",
    "\n",
    "sim.setup(\n",
    "        timestep=1, # [ms]\n",
    "        min_delay=1, # [ms]\n",
    "        max_delay=100) # [ms]\n",
    "\n",
    "simtime = 250 # [ms]\n"
   ]
  },
  {
   "cell_type": "code",
   "execution_count": 4,
   "metadata": {},
   "outputs": [],
   "source": [
    "# make the network\n",
    "\n",
    "pops = {}\n",
    "n_pops = {}\n",
    "model_pops = {}\n",
    "\n",
    "model_pops['cx'] = sim.IF_cond_exp\n",
    "n_pops['cx'] = 100\n",
    "v_init = sim.RandomDistribution('normal', (-65, 2))\n",
    "\n",
    "pops['cx'] = sim.Population(\n",
    "                            n_pops['cx'],\n",
    "                            model_pops['cx'] ,\n",
    "                            cellparams=sim.IF_cond_exp.default_parameters,\n",
    "                            structure = space.Line(dx=1.0, x0=0.0, y=0.0, z=0.0),\n",
    "                            initial_values = {'v' : v_init},\n",
    "                            label=None,\n",
    "                            constraints=None,\n",
    "                            additional_parameters=None,\n",
    "                            )\n"
   ]
  },
  {
   "cell_type": "code",
   "execution_count": 5,
   "metadata": {},
   "outputs": [],
   "source": [
    "# make the connections \n",
    "\n",
    "# the region length where nodes will be connected locally.\n",
    "degree = {'exc': 1.5,\n",
    "          'inh': 1.5         \n",
    "         }\n",
    "\n",
    "# the probability of rewiring each edge.\n",
    "rewiring = {'exc': 0.01,\n",
    "            'inh': 0.01         \n",
    "           }\n",
    " \n",
    "# if specified, the number of efferent synaptic connections per neuron.\n",
    "n_connections = {'exc': None,\n",
    "                 'inh': None} \n",
    "\n",
    "conns = {}\n",
    "for value in ['exc', 'inh']:\n",
    "    conns['cx', 'cx', value] = sim.SmallWorldConnector(\n",
    "                                                degree[value], \n",
    "                                                rewiring[value], \n",
    "                                                allow_self_connections=True,\n",
    "                                                safe=True,\n",
    "                                                verbose=True,\n",
    "                                                n_connections = n_connections[value], \n",
    "                                                        )\n",
    "\n",
    "\n",
    "\n"
   ]
  },
  {
   "cell_type": "code",
   "execution_count": 6,
   "metadata": {},
   "outputs": [],
   "source": [
    "# make the synapses\n",
    "\n",
    "synapses = {}\n",
    "\n",
    "delay = sim.RandomDistribution(\"normal_clipped\", mu=1.5, sigma=1.75, low=0.1, high=100)\n",
    "\n",
    "synapses['cx', 'cx', 'exc'] = sim.StaticSynapse(weight=0.1, delay=delay)\n",
    "synapses['cx', 'cx', 'inh'] = sim.StaticSynapse(weight=0.5, delay=delay)\n",
    "synapses['thal', 'cx'] = sim.StaticSynapse(weight=0.1, delay=1)\n"
   ]
  },
  {
   "cell_type": "code",
   "execution_count": 7,
   "metadata": {},
   "outputs": [
    {
     "data": {
      "application/vnd.jupyter.widget-view+json": {
       "model_id": "8783192a4358437499533ed253b39f53",
       "version_major": 2,
       "version_minor": 0
      },
      "text/plain": [
       "Canvas(toolbar=Toolbar(toolitems=[('Home', 'Reset original view', 'home', 'home'), ('Back', 'Back to previous …"
      ]
     },
     "metadata": {},
     "output_type": "display_data"
    },
    {
     "data": {
      "text/plain": [
       "array([40, 41, 42, 43, 44, 45, 46, 47, 48, 49, 50, 51, 52, 53, 54, 55, 56,\n",
       "       57, 58, 59])"
      ]
     },
     "execution_count": 7,
     "metadata": {},
     "output_type": "execute_result"
    }
   ],
   "source": [
    "# make the thalamic input sources\n",
    "\n",
    "n_pops['thal'] = n_pops['cx']\n",
    "\n",
    "spike_times = [[]]*n_pops['thal'] #list of spike lists, where one spike list is related to one spike source\n",
    "\n",
    "random_sources_idx = np.arange(int(n_pops['thal']*0.40), int(n_pops['thal']*0.60)) #[0,1,2]\n",
    "\n",
    "for idx, sources in enumerate(random_sources_idx):\n",
    "    spike_times[sources] = np.sort([abs(np.random.normal(loc=50, scale=10)) for n in range(5)])\n",
    "\n",
    "model_pops['thal'] = sim.SpikeSourceArray(spike_times)\n",
    "\n",
    "pops['thal'] = sim.Population(n_pops['thal'], \n",
    "                              model_pops['thal'])\n",
    "\n",
    "\n",
    "fig, axes = plt.subplots(1,1)\n",
    "axes_list = fig.axes\n",
    "axes_list[0].eventplot(spike_times)\n",
    "axes_list[0].set_xlabel('[ms]')\n",
    "axes_list[0].set_ylabel('thalamic spike sources')\n",
    "axes_list[0].set_title('rasterplot of spike sources')\n",
    "axes_list[0].set_xlim(0, simtime)\n",
    "\n",
    "random_sources_idx"
   ]
  },
  {
   "cell_type": "code",
   "execution_count": 8,
   "metadata": {},
   "outputs": [],
   "source": [
    "# make the projections\n",
    "\n",
    "projs = {}\n",
    "\n",
    "projs['thal', 'cx'] = sim.Projection(pops['thal'], \n",
    "                                    pops['cx'],\n",
    "                                    connector = sim.OneToOneConnector(),\n",
    "                                    synapse_type = synapses['thal', 'cx'],\n",
    "                                    space = sim.Space(axes='x', periodic_boundaries=((0,500), None, None)),\n",
    "                                    receptor_type = 'excitatory')\n",
    "\n",
    "projs['cx', 'cx', 'exc'] = sim.Projection(pops['cx'], \n",
    "                                         pops['cx'],\n",
    "                                         connector = conns['cx', 'cx', 'exc'],\n",
    "                                         synapse_type = synapses['cx', 'cx', 'exc'],\n",
    "                                         space = sim.Space(axes='x', periodic_boundaries=((0,500), None, None)),\n",
    "                                         receptor_type = 'excitatory')\n",
    "\n",
    "projs['cx', 'cx', 'inh'] = sim.Projection(pops['cx'], \n",
    "                                         pops['cx'],\n",
    "                                         connector = conns['cx', 'cx', 'inh'],\n",
    "                                         synapse_type = synapses['cx', 'cx', 'inh'],\n",
    "                                         space = sim.Space(axes='x', periodic_boundaries=((0,500), None, None)),\n",
    "                                         receptor_type = 'inhibitory')"
   ]
  },
  {
   "cell_type": "code",
   "execution_count": 9,
   "metadata": {},
   "outputs": [],
   "source": [
    "# record state variables\n",
    "\n",
    "pops['cx'].record(['spikes','v','gsyn_exc','gsyn_inh'])   \n",
    "\n",
    "pops['thal'].record(['spikes'])\n"
   ]
  },
  {
   "cell_type": "code",
   "execution_count": 10,
   "metadata": {},
   "outputs": [
    {
     "name": "stderr",
     "output_type": "stream",
     "text": [
      "2022-01-11 11:38:30 INFO: Simulating for 250 1.0ms timesteps using a hardware timestep of 1000us\n",
      "2022-01-11 11:38:30 INFO: Starting execution process\n",
      "2022-01-11 11:38:33 INFO: Time 0:00:03.141017 taken by SpallocMaxMachineGenerator\n",
      "Pre allocating resources for Extra Monitor support vertices\n",
      "|0%                          50%                         100%|\n",
      " ============================================================\n",
      "2022-01-11 11:38:41 INFO: Time 0:00:08.340504 taken by PreAllocateResourcesForExtraMonitorSupport\n",
      "Partitioning graph vertices\n",
      "|0%                          50%                         100%|\n",
      " ============================================================\n",
      "Partitioning graph edges\n",
      "|0%                          50%                         100%|\n",
      " ============================================================\n",
      "2022-01-11 11:38:46 INFO: Time 0:00:04.865680 taken by PartitionAndPlacePartitioner\n",
      "Created spalloc job 6241565\n",
      "2022-01-11 11:38:46 INFO: Created spalloc job 6241565\n",
      "Waiting for board power commands to complete.\n",
      "2022-01-11 11:38:46 INFO: Waiting for board power commands to complete.\n",
      "2022-01-11 11:38:55 INFO: Time 0:00:08.941799 taken by SpallocAllocator\n",
      "2022-01-11 11:38:55 INFO: Creating transceiver for 10.11.193.1\n",
      "2022-01-11 11:38:55 INFO: Working out if machine is booted\n",
      "2022-01-11 11:38:59 INFO: Attempting to boot machine\n",
      "2022-01-11 11:39:05 INFO: Found board with version [Version: SC&MP 3.2.5 at SpiNNaker:0:0:0 (built Thu Aug  1 08:15:06 2019)]\n",
      "2022-01-11 11:39:05 INFO: Machine communication successful\n",
      "2022-01-11 11:39:05 INFO: Detected a machine on IP address 10.11.193.1 which has 856 cores and 120.0 links\n",
      "2022-01-11 11:39:05 INFO: Time 0:00:09.636696 taken by MachineGenerator\n",
      "Generating partitioner report\n",
      "|0%                          50%                         100%|\n",
      " ============================================================\n",
      "2022-01-11 11:39:05 INFO: Time 0:00:00.009099 taken by PartitionerReport\n",
      "2022-01-11 11:39:05 INFO: Time 0:00:00.000394 taken by NetworkSpecificationReport\n",
      "Allocating virtual identifiers\n",
      "|0%                          50%                         100%|\n",
      " ============================================================\n",
      "2022-01-11 11:39:05 INFO: Time 0:00:00.028433 taken by MallocBasedChipIDAllocator\n",
      "Inserting extra monitors into graphs\n",
      "|0%                          50%                         100%|\n",
      " ============================================================\n",
      "2022-01-11 11:39:05 INFO: Time 0:00:00.027067 taken by InsertExtraMonitorVerticesToGraphs\n",
      "Writing the board chip report\n",
      "|0%                          50%                         100%|\n",
      " ============================================================\n",
      "2022-01-11 11:39:05 INFO: Time 0:00:00.011076 taken by BoardChipReport\n",
      "Filtering edges\n",
      "|0%                          50%                         100%|\n",
      " ============================================================\n",
      "2022-01-11 11:39:05 INFO: Time 0:00:00.027412 taken by GraphEdgeFilter\n",
      "Placing graph vertices\n",
      "|0%                          50%                         100%|\n",
      " ============================================================\n",
      "2022-01-11 11:39:05 INFO: Time 0:00:00.031565 taken by OneToOnePlacer\n",
      "Inserting edges between vertices which require FR speed up functionality.\n",
      "|0%                          50%                         100%|\n",
      " ============================================================\n",
      "2022-01-11 11:39:05 INFO: Time 0:00:00.037762 taken by InsertEdgesToExtraMonitorFunctionality\n",
      "Generating routing tables for data in system processes\n",
      "|0%                          50%                         100%|\n",
      " ============================================================\n",
      "2022-01-11 11:39:05 INFO: Time 0:00:00.008397 taken by DataInMulticastRoutingGenerator\n",
      "Generating fixed router routes\n",
      "|0%                          50%                         100%|\n",
      " ============================================================\n",
      "2022-01-11 11:39:05 INFO: Time 0:00:00.023246 taken by FixedRouteRouter\n",
      "Generating placement report\n",
      "|0%                          50%                         100%|\n",
      " ============================================================\n",
      "Generating placement by core report\n",
      "|0%                          50%                         100%|\n",
      " ============================================================\n",
      "2022-01-11 11:39:05 INFO: Time 0:00:00.058017 taken by PlacerReportWithApplicationGraph\n",
      "Routing\n",
      "|0%                          50%                         100%|\n",
      " ============================================================\n",
      "\n",
      "2022-01-11 11:39:05 INFO: Time 0:00:00.028202 taken by NerRoute\n",
      "Discovering tags\n",
      "|0%                          50%                         100%|\n",
      " ============================================================\n",
      "Allocating tags\n",
      "|0%                          50%                         100%|\n",
      " ============================================================\n",
      "2022-01-11 11:39:05 INFO: Time 0:00:00.033513 taken by BasicTagAllocator\n",
      "Reporting Tags\n",
      "|0%                          50%                         100%|\n",
      " ============================================================\n",
      "2022-01-11 11:39:05 INFO: Time 0:00:00.009129 taken by TagReport\n",
      "Getting number of keys required by each edge using application graph\n",
      "|0%                          50%                         100%|\n",
      " ============================================================\n",
      "2022-01-11 11:39:05 INFO: Time 0:00:00.022850 taken by EdgeToNKeysMapper\n",
      "Getting constraints for application graph\n",
      "|0%                          50%                         100%|\n",
      " ============================================================\n",
      "2022-01-11 11:39:05 INFO: Time 0:00:00.019229 taken by ProcessPartitionConstraints\n",
      "Allocating routing keys\n",
      "|0%                          50%                         100%|\n",
      " ============================================================\n",
      "2022-01-11 11:39:05 INFO: Time 0:00:00.011684 taken by MallocBasedRoutingInfoAllocator\n",
      "Generating Routing info report\n",
      "|0%                          50%                         100%|\n",
      " ============================================================\n",
      "2022-01-11 11:39:05 INFO: Time 0:00:00.029079 taken by routingInfoReports\n",
      "Generating routing tables\n",
      "|0%                          50%                         100%|\n",
      " ============================================================\n",
      "2022-01-11 11:39:05 INFO: Time 0:00:00.023472 taken by BasicRoutingTableGenerator\n",
      "Finding executable start types\n",
      "|0%                          50%                         100%|\n",
      " ============================================================\n",
      "2022-01-11 11:39:05 INFO: Time 0:00:00.030465 taken by LocateExecutableStartType\n",
      "Initialising buffers\n",
      "|0%                          50%                         100%|\n",
      " ============================================================\n",
      "2022-01-11 11:39:05 INFO: Time 0:00:00.029306 taken by BufferManagerCreator\n",
      "Generating data specifications\n",
      "|0%                          50%                         100%|\n",
      " ============================================================\n",
      "2022-01-11 11:39:05 INFO: Time 0:00:00.091829 taken by SpynnakerDataSpecificationWriter\n",
      "Preparing Routing Tables\n",
      "|0%                          50%                         100%|\n",
      " ============================================================\n",
      "2022-01-11 11:39:05 INFO: Time 0:00:00.011057 taken by RoutingSetup\n",
      "Finding binaries\n",
      "|0%                          50%                         100%|\n",
      " ============================================================\n",
      "2022-01-11 11:39:05 INFO: Time 0:00:00.027181 taken by GraphBinaryGatherer\n",
      "Running routing table compression on chip\n",
      "|0%                          50%                         100%|\n",
      " ============================================================\n",
      "2022-01-11 11:39:10 INFO: Time 0:00:04.522057 taken by MundyOnChipRouterCompression\n",
      "Generating Router table report\n",
      "|0%                          50%                         100%|\n",
      " ============================================================\n",
      "2022-01-11 11:39:10 INFO: Time 0:00:00.008275 taken by unCompressedRoutingTableReports\n",
      "loading fixed routes\n",
      "|0%                          50%                         100%|\n",
      " ============================================================\n",
      "2022-01-11 11:39:10 INFO: Time 0:00:00.038690 taken by LoadFixedRoutes\n",
      "Executing data specifications and loading data for system vertices\n",
      "|0%                          50%                         100%|\n",
      " ============================================================\n",
      "2022-01-11 11:39:10 INFO: Time 0:00:00.163759 taken by HostExecuteSystemDataSpecification\n",
      "Loading system executables onto the machine\n",
      "|0%                          50%                         100%|\n",
      " ============================================================\n",
      "2022-01-11 11:39:16 INFO: Time 0:00:05.722288 taken by LoadSystemExecutableImages\n",
      "Clearing tags\n",
      "|0%                          50%                         100%|\n",
      " ============================================================\n",
      "Loading Tags\n",
      "|0%                          50%                         100%|\n",
      " ============================================================\n",
      "2022-01-11 11:39:16 INFO: Time 0:00:00.017189 taken by TagsLoader\n",
      "Writing data\n",
      "|0%                          50%                         100%|\n",
      " ============================================================\n",
      "2022-01-11 11:39:16 INFO: Time 0:00:00.022657 taken by WriteMemoryIOData\n",
      "Executing data specifications and loading data for application vertices\n",
      "|0%                          50%                         100%|\n",
      " ============================================================\n",
      "2022-01-11 11:39:16 INFO: Time 0:00:00.150736 taken by HostExecuteApplicationDataSpecification\n",
      "Expanding Synapses\n",
      "|0%                          50%                         100%|\n",
      " ============================================================\n",
      "2022-01-11 11:39:16 INFO: Time 0:00:00.538587 taken by SynapseExpander\n",
      "Writing fixed route report\n",
      "|0%                          50%                         100%|\n",
      " ============================================================\n",
      "2022-01-11 11:39:17 INFO: Time 0:00:00.042502 taken by FixedRouteFromMachineReport\n",
      "Loading executables onto the machine\n",
      "|0%                          50%                         100%|\n",
      " ============================================================\n",
      "2022-01-11 11:39:23 INFO: Time 0:00:06.770193 taken by LoadApplicationExecutableImages\n",
      "Reading Routing Tables from Machine\n",
      "|0%                          50%                         100%|\n",
      " ============================================================\n",
      "2022-01-11 11:39:23 INFO: Time 0:00:00.013880 taken by RoutingTableFromMachineReport\n",
      "Generating compressed router table report\n",
      "|0%                          50%                         100%|\n",
      " ============================================================\n",
      "2022-01-11 11:39:23 INFO: Time 0:00:00.008059 taken by compressedRoutingTableReports\n",
      "Generating comparison of router table report\n",
      "|0%                          50%                         100%|\n",
      " ============================================================\n",
      "2022-01-11 11:39:23 INFO: Time 0:00:00.007461 taken by comparisonOfRoutingTablesReport\n",
      "2022-01-11 11:39:23 INFO: Running for 1 steps for a total of 250.0ms\n",
      "2022-01-11 11:39:23 INFO: Run 1 of 1\n",
      "Generating SDRAM usage report\n",
      "|0%                          50%                         100%|\n",
      " ============================================================\n",
      "2022-01-11 11:39:23 INFO: Time 0:00:00.055152 taken by SdramUsageReportPerChip\n",
      "Updating run time\n",
      "|0%                          50%                         100%|\n",
      " ============================================================\n",
      "2022-01-11 11:39:23 INFO: Time 0:00:00.028692 taken by ChipRuntimeUpdater\n",
      "2022-01-11 11:39:23 INFO: creating live event connection database in /home/spinnaker/CNT-2022/SpiNNaker/application_generated_data_files/2022-01-11-11-38-15-711986/run_1/input_output_database.db\n",
      "Creating graph description database\n",
      "|0%                          50%                         100%|\n",
      " ============================================================\n",
      "2022-01-11 11:39:23 INFO: Time 0:00:00.056474 taken by DatabaseInterface\n",
      "2022-01-11 11:39:23 INFO: ** Notifying external sources that the database is ready for reading **\n",
      "2022-01-11 11:39:23 INFO: Time 0:00:00.001052 taken by NotificationProtocol\n",
      "2022-01-11 11:39:23 INFO: *** Running simulation... *** \n",
      "Loading buffers\n",
      "|0%                          50%                         100%|\n",
      " ============================================================\n",
      "2022-01-11 11:39:24 INFO: ** Awaiting for a response from an external source to state its ready for the simulation to start **\n",
      "2022-01-11 11:39:24 INFO: ** Sending start / resume message to external sources to state the simulation has started or resumed. **\n",
      "2022-01-11 11:39:24 INFO: ** Awaiting for a response from an external source to state its ready for the simulation to start **\n",
      "2022-01-11 11:39:24 INFO: Application started; waiting 0.35s for it to stop\n",
      "2022-01-11 11:39:24 INFO: ** Sending pause / stop message to external sources to state the simulation has been paused or stopped. **\n",
      "2022-01-11 11:39:24 INFO: Time 0:00:00.440743 taken by ApplicationRunner\n",
      "Extracting buffers from the last run\n",
      "|0%                          50%                         100%|\n",
      " ============================================================\n",
      "2022-01-11 11:39:24 INFO: Time 0:00:00.186124 taken by BufferExtractor\n",
      "Getting provenance data from machine graph\n",
      "|0%                          50%                         100%|\n",
      " ============================================================\n",
      "Getting provenance data from application graph\n",
      "|0%                          50%                         100%|\n",
      " ============================================================\n",
      "2022-01-11 11:39:24 INFO: Time 0:00:00.126822 taken by GraphProvenanceGatherer\n",
      "Getting provenance data\n",
      "|0%                          50%                         100%|\n",
      " ============================================================\n",
      "2022-01-11 11:39:24 INFO: Time 0:00:00.027739 taken by PlacementsProvenanceGatherer\n",
      "Getting Router Provenance\n",
      "|0%                          50%                         100%|\n",
      " ============================================================\n",
      "2022-01-11 11:39:24 INFO: Time 0:00:00.059678 taken by RouterProvenanceGatherer\n",
      "Getting profile data\n",
      "|0%                          50%                         100%|\n",
      " ============================================================\n",
      "2022-01-11 11:39:24 INFO: Time 0:00:00.025933 taken by ProfileDataGatherer\n"
     ]
    },
    {
     "data": {
      "text/plain": [
       "250.0"
      ]
     },
     "execution_count": 10,
     "metadata": {},
     "output_type": "execute_result"
    }
   ],
   "source": [
    "# run simulation\n",
    "\n",
    "sim.run(simtime) "
   ]
  },
  {
   "cell_type": "code",
   "execution_count": 11,
   "metadata": {},
   "outputs": [
    {
     "name": "stderr",
     "output_type": "stream",
     "text": [
      "Getting spikes for AbstractPopulationVertex_1\n",
      "|0%                          50%                         100%|\n",
      " ============================================================\n",
      "Getting v for AbstractPopulationVertex_1\n",
      "|0%                          50%                         100%|\n",
      " ============================================================\n",
      "Getting gsyn_exc for AbstractPopulationVertex_1\n",
      "|0%                          50%                         100%|\n",
      " ============================================================\n",
      "Getting gsyn_inh for AbstractPopulationVertex_1\n",
      "|0%                          50%                         100%|\n",
      " ============================================================\n",
      "Getting spikes for AbstractPopulationVertex_1\n",
      "|0%                          50%                         100%|\n",
      " ============================================================\n",
      "Getting v for AbstractPopulationVertex_1\n",
      "|0%                          50%                         100%|\n",
      " ============================================================\n",
      "Getting gsyn_exc for AbstractPopulationVertex_1\n",
      "|0%                          50%                         100%|\n",
      " ============================================================\n",
      "Getting gsyn_inh for AbstractPopulationVertex_1\n",
      "|0%                          50%                         100%|\n",
      " ============================================================\n",
      "Getting spikes for AbstractPopulationVertex_1\n",
      "|0%                          50%                         100%|\n",
      " ============================================================\n",
      "Getting v for AbstractPopulationVertex_1\n",
      "|0%                          50%                         100%|\n",
      " ============================================================\n",
      "Getting gsyn_exc for AbstractPopulationVertex_1\n",
      "|0%                          50%                         100%|\n",
      " ============================================================\n",
      "Getting gsyn_inh for AbstractPopulationVertex_1\n",
      "|0%                          50%                         100%|\n",
      " ============================================================\n",
      "Getting spikes for AbstractPopulationVertex_1\n",
      "|0%                          50%                         100%|\n",
      " ============================================================\n",
      "Getting v for AbstractPopulationVertex_1\n",
      "|0%                          50%                         100%|\n",
      " ============================================================\n",
      "Getting gsyn_exc for AbstractPopulationVertex_1\n",
      "|0%                          50%                         100%|\n",
      " ============================================================\n",
      "Getting gsyn_inh for AbstractPopulationVertex_1\n",
      "|0%                          50%                         100%|\n",
      " ============================================================\n",
      "Getting spikes for AbstractPopulationVertex_1\n",
      "|0%                          50%                         100%|\n",
      " ============================================================\n",
      "Getting v for AbstractPopulationVertex_1\n",
      "|0%                          50%                         100%|\n",
      " ============================================================\n",
      "Getting gsyn_exc for AbstractPopulationVertex_1\n",
      "|0%                          50%                         100%|\n",
      " ============================================================\n",
      "Getting gsyn_inh for AbstractPopulationVertex_1\n",
      "|0%                          50%                         100%|\n",
      " ============================================================\n",
      "Getting spikes for SpikeSourceArrayVertex_2\n",
      "|0%                          50%                         100%|\n",
      " ============================================================\n",
      "Getting spikes for SpikeSourceArrayVertex_2\n",
      "|0%                          50%                         100%|\n",
      " ============================================================\n"
     ]
    }
   ],
   "source": [
    "# save the results\n",
    "\n",
    "outputs = {}\n",
    "\n",
    "outputs['cx'] = pops['cx'].get_data()\n",
    "for recording in ['v', 'gsyn_inh', 'gsyn_exc', 'spikes']:\n",
    "    pops['cx'].write_data(fileName + '_' + str(recording) + '.pkl')\n",
    "\n",
    "outputs['thal'] = pops['thal'].get_data()\n",
    "for recording in ['spikes']:\n",
    "    pops['thal'].write_data(fileName + '_' + str(recording) + '.pkl')\n"
   ]
  },
  {
   "cell_type": "code",
   "execution_count": 12,
   "metadata": {},
   "outputs": [],
   "source": [
    "# recover results function\n",
    "\n",
    "def recover_results(outputs):\n",
    "    results = {}\n",
    "    for key in outputs.keys(): # to extract the name of the layer, e.g., Exc, Inh, Thalamus, etc  \n",
    "        \n",
    "        # to get voltage and conductances\n",
    "        for analogsignal in outputs[key].segments[0].analogsignals:\n",
    "            print(analogsignal.name)\n",
    "            results[key, analogsignal.name] = analogsignal\n",
    "\n",
    "        # to get spikes\n",
    "        results[key, 'spikes'] = outputs[key].segments[0].spiketrains\n",
    "    return results\n"
   ]
  },
  {
   "cell_type": "code",
   "execution_count": 13,
   "metadata": {},
   "outputs": [
    {
     "name": "stdout",
     "output_type": "stream",
     "text": [
      "v\n",
      "gsyn_exc\n",
      "gsyn_inh\n"
     ]
    },
    {
     "data": {
      "text/plain": [
       "dict_keys([('cx', 'v'), ('cx', 'gsyn_exc'), ('cx', 'gsyn_inh'), ('cx', 'spikes'), ('thal', 'spikes')])"
      ]
     },
     "execution_count": 13,
     "metadata": {},
     "output_type": "execute_result"
    }
   ],
   "source": [
    "# recover results\n",
    "\n",
    "results = recover_results(outputs)\n",
    "results.keys()"
   ]
  },
  {
   "cell_type": "code",
   "execution_count": 19,
   "metadata": {},
   "outputs": [
    {
     "data": {
      "application/vnd.jupyter.widget-view+json": {
       "model_id": "b1c2d97778674bf4922e09aa44aeb2c6",
       "version_major": 2,
       "version_minor": 0
      },
      "text/plain": [
       "Canvas(toolbar=Toolbar(toolitems=[('Home', 'Reset original view', 'home', 'home'), ('Back', 'Back to previous …"
      ]
     },
     "metadata": {},
     "output_type": "display_data"
    }
   ],
   "source": [
    "# check the spikes\n",
    "\n",
    "fig, axes = plt.subplots(1, 2)\n",
    "fig.tight_layout(pad=5)\n",
    "axes_list = fig.axes\n",
    "\n",
    "for idx, value in enumerate(['thal', 'cx']):\n",
    "    axes_list[idx].eventplot(results[value, 'spikes'])\n",
    "    axes_list[idx].set_title('rasterplot of ' + str(value) + ' layer')\n",
    "    axes_list[idx].set_xlabel('[ms]')\n",
    "    axes_list[idx].set_ylabel('cells')\n",
    "    axes_list[idx].set_xlim(0, simtime)\n",
    "\n"
   ]
  },
  {
   "cell_type": "code",
   "execution_count": 20,
   "metadata": {},
   "outputs": [
    {
     "data": {
      "application/vnd.jupyter.widget-view+json": {
       "model_id": "42c380ccb23e4281ae5db29ebfcd1ef2",
       "version_major": 2,
       "version_minor": 0
      },
      "text/plain": [
       "Canvas(toolbar=Toolbar(toolitems=[('Home', 'Reset original view', 'home', 'home'), ('Back', 'Back to previous …"
      ]
     },
     "metadata": {},
     "output_type": "display_data"
    }
   ],
   "source": [
    "# check the voltage\n",
    "\n",
    "fig, axes = plt.subplots(1, 1)#, figsize=(9,5))\n",
    "fig.tight_layout(pad=4)\n",
    "\n",
    "axes_list = fig.axes\n",
    "\n",
    "for idx, value in enumerate(['cx']):\n",
    "    im = axes_list[idx].imshow(results[value, 'v'].T)\n",
    "    axes_list[idx].set_title('voltage of ' + str(value) + ' layer')\n",
    "    axes_list[idx].set_xlabel('time [ms]')\n",
    "    axes_list[idx].set_ylabel('cells')\n",
    "    fig.colorbar(im, ax=axes_list[idx], fraction=0.010, label='[mV]')\n",
    "\n"
   ]
  },
  {
   "cell_type": "code",
   "execution_count": 21,
   "metadata": {},
   "outputs": [
    {
     "data": {
      "application/vnd.jupyter.widget-view+json": {
       "model_id": "09f68fc270ea469783a8b9ba491e05c3",
       "version_major": 2,
       "version_minor": 0
      },
      "text/plain": [
       "Canvas(toolbar=Toolbar(toolitems=[('Home', 'Reset original view', 'home', 'home'), ('Back', 'Back to previous …"
      ]
     },
     "metadata": {},
     "output_type": "display_data"
    }
   ],
   "source": [
    "# check the conductances\n",
    "\n",
    "for layer in ['cx']:\n",
    "    fig, axes = plt.subplots(2, 1)\n",
    "    fig.tight_layout(pad=4)\n",
    "    fig.suptitle(str(layer) + ' layer')\n",
    "    axes_list = fig.axes\n",
    "    \n",
    "    for idx, gsyn in enumerate(['gsyn_exc', 'gsyn_inh']):\n",
    "        im = axes_list[idx].imshow(results[layer, gsyn].T)\n",
    "        axes_list[idx].set_title(str(gsyn))\n",
    "        axes_list[idx].set_xlabel('time [ms]')\n",
    "        axes_list[idx].set_ylabel('cells')\n",
    "        fig.colorbar(im, ax=axes_list[idx], fraction=0.010, label='[uS]')\n"
   ]
  },
  {
   "cell_type": "code",
   "execution_count": 22,
   "metadata": {},
   "outputs": [
    {
     "data": {
      "text/plain": [
       "dict_keys([('thal', 'cx'), ('cx', 'cx', 'exc'), ('cx', 'cx', 'inh')])"
      ]
     },
     "execution_count": 22,
     "metadata": {},
     "output_type": "execute_result"
    }
   ],
   "source": [
    "# check the small world projections\n",
    "\n",
    "projs.keys()"
   ]
  },
  {
   "cell_type": "code",
   "execution_count": 26,
   "metadata": {},
   "outputs": [
    {
     "name": "stderr",
     "output_type": "stream",
     "text": [
      "Getting ['source']s for projection between AbstractPopulationVertex_1 and AbstractPopulationVertex_1\n",
      "|0%                          50%                         100%|\n",
      " ============================================================\n",
      "Getting ['source']s for projection between AbstractPopulationVertex_1 and AbstractPopulationVertex_1\n",
      "|0%                          50%                         100%|\n",
      " ============================================================"
     ]
    },
    {
     "name": "stdout",
     "output_type": "stream",
     "text": [
      "Using matplotlib backend: module://ipympl.backend_nbagg\n"
     ]
    },
    {
     "name": "stderr",
     "output_type": "stream",
     "text": [
      "\n"
     ]
    },
    {
     "data": {
      "application/vnd.jupyter.widget-view+json": {
       "model_id": "ae546866f71a47239ca61bcab68f9680",
       "version_major": 2,
       "version_minor": 0
      },
      "text/plain": [
       "Canvas(toolbar=Toolbar(toolitems=[('Home', 'Reset original view', 'home', 'home'), ('Back', 'Back to previous …"
      ]
     },
     "metadata": {},
     "output_type": "display_data"
    },
    {
     "data": {
      "text/plain": [
       "<matplotlib.image.AxesImage at 0x7f8f8b4d2978>"
      ]
     },
     "execution_count": 26,
     "metadata": {},
     "output_type": "execute_result"
    }
   ],
   "source": [
    "%matplotlib\n",
    "\n",
    "syn = {}\n",
    "\n",
    "syn['exc'] = projs['cx', 'cx', 'exc'].get('source', 'target', 'list')\n",
    "syn['inh'] = projs['cx', 'cx', 'inh'].get('source', 'target', 'list')\n",
    "\n",
    "#plt.matshow(syn['exc'])\n",
    "plt.matshow(syn['exc'])\n"
   ]
  },
  {
   "cell_type": "code",
   "execution_count": 27,
   "metadata": {},
   "outputs": [
    {
     "data": {
      "text/plain": [
       "array([[ 0.,  0., nan, ..., nan, nan, nan],\n",
       "       [ 1.,  1.,  1., ..., nan, nan, nan],\n",
       "       [nan,  2.,  2., ..., nan, nan, nan],\n",
       "       ...,\n",
       "       [nan, nan, nan, ..., 97., 97., nan],\n",
       "       [nan, nan, nan, ..., 98., 98., 98.],\n",
       "       [nan, nan, nan, ..., nan, 99., 99.]])"
      ]
     },
     "execution_count": 27,
     "metadata": {},
     "output_type": "execute_result"
    }
   ],
   "source": [
    "syn['exc']"
   ]
  },
  {
   "cell_type": "code",
   "execution_count": 25,
   "metadata": {},
   "outputs": [
    {
     "data": {
      "text/plain": [
       "array([[ 0.,  0., nan, ..., nan, nan, nan],\n",
       "       [ 1.,  1.,  1., ..., nan, nan, nan],\n",
       "       [nan,  2.,  2., ..., nan, nan, nan],\n",
       "       ...,\n",
       "       [nan, nan, nan, ..., 97., 97., nan],\n",
       "       [nan, nan, nan, ..., 98., 98., 98.],\n",
       "       [nan, nan, nan, ..., nan, 99., 99.]])"
      ]
     },
     "execution_count": 25,
     "metadata": {},
     "output_type": "execute_result"
    }
   ],
   "source": [
    "syn['exc']"
   ]
  },
  {
   "cell_type": "code",
   "execution_count": 28,
   "metadata": {},
   "outputs": [
    {
     "data": {
      "text/plain": [
       "dict_keys([('cx', 'v'), ('cx', 'gsyn_exc'), ('cx', 'gsyn_inh'), ('cx', 'spikes'), ('thal', 'spikes')])"
      ]
     },
     "execution_count": 28,
     "metadata": {},
     "output_type": "execute_result"
    }
   ],
   "source": [
    "results.keys()"
   ]
  },
  {
   "cell_type": "code",
   "execution_count": 29,
   "metadata": {},
   "outputs": [
    {
     "name": "stderr",
     "output_type": "stream",
     "text": [
      "2022-01-11 11:55:48 WARNING: The delays in the connector SmallWorldConnector from AbstractPopulationVertex_1 to AbstractPopulationVertex_1 was clipped to 1.0 a total of 77 times.  This can be avoided by reducing the timestep or increasing the minimum delay to one timestep\n",
      "2022-01-11 11:55:48 WARNING: The delays in the connector SmallWorldConnector from AbstractPopulationVertex_1 to AbstractPopulationVertex_1 was clipped to 1.0 a total of 56 times.  This can be avoided by reducing the timestep or increasing the minimum delay to one timestep\n"
     ]
    }
   ],
   "source": [
    "# end simulation\n",
    "\n",
    "sim.end()"
   ]
  },
  {
   "cell_type": "markdown",
   "metadata": {},
   "source": [
    "# Task1: on the small-world network\n",
    "- try to find in literature a 1D small-world network and use its parameter \n"
   ]
  },
  {
   "cell_type": "code",
   "execution_count": null,
   "metadata": {},
   "outputs": [],
   "source": []
  }
 ],
 "metadata": {
  "kernelspec": {
   "display_name": "sPyNNaker",
   "language": "python",
   "name": "spynnaker"
  },
  "language_info": {
   "codemirror_mode": {
    "name": "ipython",
    "version": 3
   },
   "file_extension": ".py",
   "mimetype": "text/x-python",
   "name": "python",
   "nbconvert_exporter": "python",
   "pygments_lexer": "ipython3",
   "version": "3.6.9"
  }
 },
 "nbformat": 4,
 "nbformat_minor": 4
}
