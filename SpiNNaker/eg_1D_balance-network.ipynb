{
 "cells": [
  {
   "cell_type": "markdown",
   "metadata": {},
   "source": [
    "# Balanced network of excitatory and inhibitory neurons.\n",
    "\n",
    "An implementation of benchmarks from Brette et al. (2007) Journal of Computational Neuroscience 23: 349-398\n",
    "https://www.ncbi.nlm.nih.gov/pmc/articles/PMC2638500/ (see Fig. 24). \n",
    "\n",
    "In the paper, they compared simulations from NEST and NEURON. Here, we are going to simulate the balanced network with SpiNNaker.\n",
    "\n",
    "The network is based on the COBA models of Vogels & Abbott (J. Neurosci, 2005) https://www.ncbi.nlm.nih.gov/pmc/articles/PMC6725859/ .\n",
    "\n",
    "You can look also the explicit model in the supplementary material of Brette et al. (2007) https://www.ncbi.nlm.nih.gov/pmc/articles/PMC2638500/#APP2"
   ]
  },
  {
   "cell_type": "markdown",
   "metadata": {},
   "source": [
    "<img src=\"./old/official_examples/VA_BENCHMARK/VA_EXC_SPIKES.png\">"
   ]
  },
  {
   "cell_type": "markdown",
   "metadata": {},
   "source": [
    "# step0: import the simulator"
   ]
  },
  {
   "cell_type": "code",
   "execution_count": 1,
   "metadata": {},
   "outputs": [
    {
     "name": "stdout",
     "output_type": "stream",
     "text": [
      "Detected PyNN version 0.9.4 and Neo version 0.6.1\n"
     ]
    }
   ],
   "source": [
    "import socket\n",
    "import spynnaker8 as sim\n",
    "from pyNN.random import NumpyRNG, RandomDistribution\n",
    "from pyNN.utility.plotting import Figure, Panel\n",
    "import matplotlib.pyplot as plt\n",
    "import matplotlib.colors as colors"
   ]
  },
  {
   "cell_type": "markdown",
   "metadata": {},
   "source": [
    "# step1: setup the simulator"
   ]
  },
  {
   "cell_type": "code",
   "execution_count": 2,
   "metadata": {},
   "outputs": [
    {
     "name": "stderr",
     "output_type": "stream",
     "text": [
      "2022-01-11 11:56:32 INFO: Read cfg files: /home/spinnaker/sPyNNaker/lib/python3.6/site-packages/spinn_front_end_common/interface/spinnaker.cfg, /home/spinnaker/sPyNNaker/lib/python3.6/site-packages/spynnaker/pyNN/spynnaker.cfg, /home/spinnaker/.spynnaker.cfg\n",
      "2022-01-11 11:56:32 INFO: Will search these locations for binaries: /home/spinnaker/sPyNNaker/lib/python3.6/site-packages/spinn_front_end_common/common_model_binaries : /home/spinnaker/sPyNNaker/lib/python3.6/site-packages/spynnaker/pyNN/model_binaries\n",
      "2022-01-11 11:56:32 INFO: Setting time scale factor to 1.\n",
      "2022-01-11 11:56:32 INFO: Setting machine time step to 1000 micro-seconds.\n"
     ]
    },
    {
     "name": "stdout",
     "output_type": "stream",
     "text": [
      "['/home/spinnaker/sPyNNaker/lib/python3.6/site-packages/spinn_front_end_common/interface/spinnaker.cfg', '/home/spinnaker/sPyNNaker/lib/python3.6/site-packages/spynnaker/pyNN/spynnaker.cfg', '/home/spinnaker/.spynnaker.cfg']\n"
     ]
    }
   ],
   "source": [
    "dt = 1          # (ms) simulation timestep\n",
    "tstop = 1000      # (ms) simulaton duration\n",
    "delay = 2 # (ms) \n",
    "\n",
    "sim.setup(\n",
    "    timestep=dt, \n",
    "    min_delay=delay, \n",
    "    max_delay=delay) # [ms] # not that the max_delay supported by SpiNNaker is timestep * 144\n",
    "\n",
    "rngseed = 98766987\n",
    "rng = NumpyRNG(seed=rngseed, parallel_safe=True)"
   ]
  },
  {
   "cell_type": "markdown",
   "metadata": {},
   "source": [
    "# step2: decide the cell types and parameters"
   ]
  },
  {
   "cell_type": "code",
   "execution_count": 3,
   "metadata": {},
   "outputs": [
    {
     "name": "stdout",
     "output_type": "stream",
     "text": [
      "{'tau_m': 20.0, 'tau_syn_E': 5.0, 'tau_syn_I': 10.0, 'v_rest': -60.0, 'v_reset': -60.0, 'v_thresh': -50.0, 'cm': 0.2, 'tau_refrac': 5.0, 'i_offset': 0, 'e_rev_E': 0.0, 'e_rev_I': -80.0}\n"
     ]
    }
   ],
   "source": [
    "# cell type\n",
    "celltype = sim.IF_cond_exp\n",
    "#  Leaky integrate and fire model with fixed threshold and exponentially-decaying post-synaptic conductance.\n",
    "#  http://neuralensemble.org/docs/PyNN/_modules/pyNN/standardmodels/cells.html#IF_cond_exp\n",
    "    \n",
    "# Cell parameters\n",
    "area = 20000.     # (µm²)\n",
    "tau_m = 20.       # (ms)\n",
    "cm = 1.           # (µF/cm²)\n",
    "g_leak = 5e-5     # (S/cm²)\n",
    "\n",
    "E_leak = None\n",
    "E_leak = -60.  # (mV)\n",
    "v_thresh = -50.   # (mV)\n",
    "v_reset = -60.    # (mV)\n",
    "t_refrac = 5.     # (ms) (clamped at v_reset)\n",
    "v_mean = -60.     # (mV) mean membrane potential, for calculating CUBA weights\n",
    "tau_exc = 5.      # (ms)\n",
    "tau_inh = 10.     # (ms)\n",
    "Erev_exc = 0.     # (mV)\n",
    "Erev_inh = -80.   # (mV)\n",
    "\n",
    "# === Calculate derived parameters ===\n",
    "area = area * 1e-8                     # convert to cm²\n",
    "cm = cm * area * 1000                  # convert to nF\n",
    "Rm = 1e-6 / (g_leak * area)            # membrane resistance in MΩ\n",
    "assert tau_m == cm * Rm                # just to check\n",
    "\n",
    "cell_params = {'tau_m': tau_m,\n",
    "               'tau_syn_E': tau_exc,\n",
    "               'tau_syn_I': tau_inh,\n",
    "               'v_rest': E_leak,\n",
    "               'v_reset': v_reset,\n",
    "               'v_thresh': v_thresh,\n",
    "               'cm': cm,\n",
    "               'tau_refrac': t_refrac,\n",
    "               'i_offset': 0\n",
    "               }\n",
    "\n",
    "cell_params['e_rev_E'] = Erev_exc\n",
    "cell_params['e_rev_I'] = Erev_inh\n",
    "\n",
    "print(cell_params)"
   ]
  },
  {
   "cell_type": "markdown",
   "metadata": {},
   "source": [
    "# step3: making cell populations\n"
   ]
  },
  {
   "cell_type": "code",
   "execution_count": 4,
   "metadata": {},
   "outputs": [
    {
     "name": "stdout",
     "output_type": "stream",
     "text": [
      "1200 300\n"
     ]
    },
    {
     "data": {
      "text/plain": [
       "dict_keys(['exc', 'inh'])"
      ]
     },
     "execution_count": 4,
     "metadata": {},
     "output_type": "execute_result"
    }
   ],
   "source": [
    "n = 1500          # number of cells\n",
    "r_ei = 4.0        # number of excitatory cells:number of inhibitory cells\n",
    "n_exc = int(round((n * r_ei / (1 + r_ei))))  # number of excitatory cells\n",
    "n_inh = n - n_exc                            # number of inhibitory cells\n",
    "print(\"{} {}\".format(n_exc, n_inh))\n",
    "\n",
    "pops = {\n",
    "    'exc': sim.Population(\n",
    "                                n_exc, \n",
    "                                celltype(**cell_params), \n",
    "                                label=\"Excitatory_Cells\"),\n",
    "\n",
    "    'inh': sim.Population(\n",
    "                                n_inh, \n",
    "                                celltype(**cell_params), \n",
    "                                label=\"Inhibitory_Cells\")\n",
    "}\n",
    "\n",
    "pops['exc'].record([\"spikes\", 'v', 'gsyn_exc', 'gsyn_inh'])\n",
    "pops['inh'].record([\"spikes\", 'v', 'gsyn_exc', 'gsyn_inh'])\n",
    "\n",
    "\n",
    "uniformDistr = RandomDistribution('uniform', [v_reset, v_thresh], rng=rng)\n",
    "pops['exc'].initialize(v=uniformDistr)\n",
    "pops['inh'].initialize(v=uniformDistr)\n",
    "\n",
    "sim.set_number_of_neurons_per_core(sim.IF_cond_exp, 50)      # this will set\n",
    "# 50 neurons per core\n",
    "pops.keys()"
   ]
  },
  {
   "cell_type": "markdown",
   "metadata": {},
   "source": [
    "# step4: define the synapse types"
   ]
  },
  {
   "cell_type": "code",
   "execution_count": 5,
   "metadata": {},
   "outputs": [],
   "source": [
    "# Synapse parameters\n",
    "Gexc = None\n",
    "Ginh = None\n",
    "Gexc = 4.     # (nS)\n",
    "Ginh = 51.    # (nS)\n",
    "w_exc = Gexc * 1e-3              # We convert conductances to uS\n",
    "w_inh = Ginh * 1e-3\n",
    "\n",
    "exc_synapses = sim.StaticSynapse(weight=w_exc, delay=delay)\n",
    "inh_synapses = sim.StaticSynapse(weight=w_inh, delay=delay)"
   ]
  },
  {
   "cell_type": "markdown",
   "metadata": {},
   "source": [
    "# step5: select the connections algorithm"
   ]
  },
  {
   "cell_type": "code",
   "execution_count": 6,
   "metadata": {},
   "outputs": [],
   "source": [
    "pconn = 0.02      # connection probability\n",
    "\n",
    "exc_conn = sim.FixedProbabilityConnector(pconn, rng=rng)\n",
    "inh_conn = sim.FixedProbabilityConnector(pconn, rng=rng)"
   ]
  },
  {
   "cell_type": "markdown",
   "metadata": {},
   "source": [
    "# step6: make the projections"
   ]
  },
  {
   "cell_type": "code",
   "execution_count": 7,
   "metadata": {},
   "outputs": [
    {
     "data": {
      "text/plain": [
       "dict_keys(['e2e', 'e2i', 'i2e', 'i2i'])"
      ]
     },
     "execution_count": 7,
     "metadata": {},
     "output_type": "execute_result"
    }
   ],
   "source": [
    "connections = {\n",
    "    \n",
    "    'e2e': sim.Projection(\n",
    "        pops['exc'],\n",
    "        pops['exc'], \n",
    "        exc_conn, \n",
    "        receptor_type='excitatory',\n",
    "        synapse_type=exc_synapses),\n",
    "    \n",
    "    'e2i': sim.Projection(\n",
    "        pops['exc'], \n",
    "        pops['inh'], \n",
    "        exc_conn, \n",
    "        receptor_type='excitatory',\n",
    "        synapse_type=exc_synapses),\n",
    "    \n",
    "    'i2e': sim.Projection(\n",
    "        pops['inh'], \n",
    "        pops['exc'], \n",
    "        inh_conn, \n",
    "        receptor_type='inhibitory',\n",
    "        synapse_type=inh_synapses),\n",
    "    \n",
    "    'i2i': sim.Projection(\n",
    "        pops['inh'],\n",
    "        pops['inh'],\n",
    "        inh_conn, \n",
    "        receptor_type='inhibitory',\n",
    "        synapse_type=inh_synapses)\n",
    "    \n",
    "        }\n",
    "\n",
    "connections.keys()"
   ]
  },
  {
   "cell_type": "markdown",
   "metadata": {},
   "source": [
    "# step7: setting the thalamic stimulus"
   ]
  },
  {
   "cell_type": "code",
   "execution_count": 8,
   "metadata": {},
   "outputs": [
    {
     "data": {
      "text/plain": [
       "(dict_keys(['e2e', 'e2i', 'i2e', 'i2i', 'ext2e', 'ext2i']),\n",
       " dict_keys(['exc', 'inh', 'thalamus']))"
      ]
     },
     "execution_count": 8,
     "metadata": {},
     "output_type": "execute_result"
    }
   ],
   "source": [
    "n_thalamic_cells = 20 \n",
    "stim_dur = 50.    # (ms) duration of random stimulation\n",
    "rate = 100.       # (Hz) frequency of the random stimulation\n",
    "\n",
    "exc_conn = None\n",
    "\n",
    "pops['thalamus'] = sim.Population(\n",
    "    n_thalamic_cells, \n",
    "    sim.SpikeSourcePoisson(rate=rate, duration=stim_dur),\n",
    "    label=\"expoisson\")\n",
    "pops['thalamus'].record(\"spikes\")\n",
    "\n",
    "\n",
    "rconn = 0.01\n",
    "ext_conn = sim.FixedProbabilityConnector(rconn)\n",
    "\n",
    "connections['ext2e'] = sim.Projection(\n",
    "    pops['thalamus'], \n",
    "    pops['exc'], \n",
    "    ext_conn, \n",
    "    receptor_type='excitatory',\n",
    "    synapse_type=sim.StaticSynapse(weight=0.1))\n",
    "\n",
    "connections['ext2i'] = sim.Projection(\n",
    "    pops['thalamus'], \n",
    "    pops['inh'], \n",
    "    ext_conn, \n",
    "    receptor_type='excitatory',\n",
    "    synapse_type=sim.StaticSynapse(weight=0.1))\n",
    "\n",
    "connections.keys(), pops.keys()"
   ]
  },
  {
   "cell_type": "markdown",
   "metadata": {},
   "source": [
    "# step8: run simulation"
   ]
  },
  {
   "cell_type": "code",
   "execution_count": 9,
   "metadata": {},
   "outputs": [
    {
     "name": "stderr",
     "output_type": "stream",
     "text": [
      "2022-01-11 11:56:39 INFO: Simulating for 1000 1.0ms timesteps using a hardware timestep of 1000us\n",
      "2022-01-11 11:56:39 INFO: Starting execution process\n",
      "2022-01-11 11:56:42 INFO: Time 0:00:03.099610 taken by SpallocMaxMachineGenerator\n",
      "Pre allocating resources for Extra Monitor support vertices\n",
      "|0%                          50%                         100%|\n",
      " ============================================================\n",
      "2022-01-11 11:56:51 INFO: Time 0:00:09.029416 taken by PreAllocateResourcesForExtraMonitorSupport\n",
      "Partitioning graph vertices\n",
      "|0%                          50%                         100%|\n",
      " ============================================================\n",
      "Partitioning graph edges\n",
      "|0%                          50%                         100%|\n",
      " ============================================================\n",
      "2022-01-11 11:56:56 INFO: Time 0:00:04.813280 taken by PartitionAndPlacePartitioner\n",
      "Created spalloc job 6241777\n",
      "2022-01-11 11:56:56 INFO: Created spalloc job 6241777\n",
      "Waiting for board power commands to complete.\n",
      "2022-01-11 11:56:56 INFO: Waiting for board power commands to complete.\n",
      "2022-01-11 11:57:05 INFO: Time 0:00:08.940013 taken by SpallocAllocator\n",
      "2022-01-11 11:57:05 INFO: Creating transceiver for 10.11.196.1\n",
      "2022-01-11 11:57:05 INFO: Working out if machine is booted\n",
      "2022-01-11 11:57:09 INFO: Attempting to boot machine\n",
      "2022-01-11 11:57:14 INFO: Found board with version [Version: SC&MP 3.2.5 at SpiNNaker:0:0:0 (built Thu Aug  1 08:15:06 2019)]\n",
      "2022-01-11 11:57:14 INFO: Machine communication successful\n",
      "2022-01-11 11:57:14 INFO: Detected a machine on IP address 10.11.196.1 which has 855 cores and 120.0 links\n",
      "2022-01-11 11:57:14 INFO: Time 0:00:09.633740 taken by MachineGenerator\n",
      "Generating partitioner report\n",
      "|0%                          50%                         100%|\n",
      " ============================================================\n",
      "2022-01-11 11:57:14 INFO: Time 0:00:00.009381 taken by PartitionerReport\n",
      "2022-01-11 11:57:14 INFO: Time 0:00:00.000250 taken by NetworkSpecificationReport\n",
      "Allocating virtual identifiers\n",
      "|0%                          50%                         100%|\n",
      " ============================================================\n",
      "2022-01-11 11:57:14 INFO: Time 0:00:00.055869 taken by MallocBasedChipIDAllocator\n",
      "Inserting extra monitors into graphs\n",
      "|0%                          50%                         100%|\n",
      " ============================================================\n",
      "2022-01-11 11:57:14 INFO: Time 0:00:00.041420 taken by InsertExtraMonitorVerticesToGraphs\n",
      "Writing the board chip report\n",
      "|0%                          50%                         100%|\n",
      " ============================================================\n",
      "2022-01-11 11:57:14 INFO: Time 0:00:00.009554 taken by BoardChipReport\n",
      "Filtering edges\n",
      "|0%                          50%                         100%|\n",
      " ============================================================\n",
      "2022-01-11 11:57:14 INFO: Time 0:00:00.044885 taken by GraphEdgeFilter\n",
      "Placing graph vertices\n",
      "|0%                          50%                         100%|\n",
      " ============================================================\n",
      "2022-01-11 11:57:15 INFO: Time 0:00:00.044038 taken by OneToOnePlacer\n",
      "Inserting edges between vertices which require FR speed up functionality.\n",
      "|0%                          50%                         100%|\n",
      " ============================================================\n",
      "2022-01-11 11:57:15 INFO: Time 0:00:00.049854 taken by InsertEdgesToExtraMonitorFunctionality\n",
      "Generating routing tables for data in system processes\n",
      "|0%                          50%                         100%|\n",
      " ============================================================\n",
      "2022-01-11 11:57:15 INFO: Time 0:00:00.009305 taken by DataInMulticastRoutingGenerator\n",
      "Generating fixed router routes\n",
      "|0%                          50%                         100%|\n",
      " ============================================================\n",
      "2022-01-11 11:57:15 INFO: Time 0:00:00.007879 taken by FixedRouteRouter\n",
      "Generating placement report\n",
      "|0%                          50%                         100%|\n",
      " ============================================================\n",
      "Generating placement by core report\n",
      "|0%                          50%                         100%|\n",
      " ============================================================\n",
      "2022-01-11 11:57:15 INFO: Time 0:00:00.072590 taken by PlacerReportWithApplicationGraph\n",
      "Routing\n",
      "|0%                          50%                         100%|\n",
      " ============================================================\n",
      "\n",
      "2022-01-11 11:57:15 INFO: Time 0:00:00.035736 taken by NerRoute\n",
      "Discovering tags\n",
      "|0%                          50%                         100%|\n",
      " ============================================================\n",
      "Allocating tags\n",
      "|0%                          50%                         100%|\n",
      " ============================================================\n",
      "2022-01-11 11:57:15 INFO: Time 0:00:00.044076 taken by BasicTagAllocator\n",
      "Reporting Tags\n",
      "|0%                          50%                         100%|\n",
      " ============================================================\n",
      "2022-01-11 11:57:15 INFO: Time 0:00:00.008025 taken by TagReport\n",
      "Getting number of keys required by each edge using application graph\n",
      "|0%                          50%                         100%|\n",
      " ============================================================\n",
      "2022-01-11 11:57:15 INFO: Time 0:00:00.032566 taken by EdgeToNKeysMapper\n",
      "Getting constraints for application graph\n",
      "|0%                          50%                         100%|\n",
      " ============================================================\n",
      "2022-01-11 11:57:15 INFO: Time 0:00:00.029020 taken by ProcessPartitionConstraints\n",
      "Allocating routing keys\n",
      "|0%                          50%                         100%|\n",
      " ============================================================\n",
      "2022-01-11 11:57:15 INFO: Time 0:00:00.017603 taken by MallocBasedRoutingInfoAllocator\n",
      "Generating Routing info report\n",
      "|0%                          50%                         100%|\n",
      " ============================================================\n",
      "2022-01-11 11:57:15 INFO: Time 0:00:00.034368 taken by routingInfoReports\n",
      "Generating routing tables\n",
      "|0%                          50%                         100%|\n",
      " ============================================================\n",
      "2022-01-11 11:57:15 INFO: Time 0:00:00.028414 taken by BasicRoutingTableGenerator\n",
      "Finding executable start types\n",
      "|0%                          50%                         100%|\n",
      " ============================================================\n",
      "2022-01-11 11:57:15 INFO: Time 0:00:00.042230 taken by LocateExecutableStartType\n",
      "Initialising buffers\n",
      "|0%                          50%                         100%|\n",
      " ============================================================\n",
      "2022-01-11 11:57:15 INFO: Time 0:00:00.044024 taken by BufferManagerCreator\n",
      "Generating data specifications\n",
      "|0%                          50%                         100%|\n",
      " ============================================================\n",
      "2022-01-11 11:57:15 INFO: Time 0:00:00.434749 taken by SpynnakerDataSpecificationWriter\n",
      "Preparing Routing Tables\n",
      "|0%                          50%                         100%|\n",
      " ============================================================\n",
      "2022-01-11 11:57:15 INFO: Time 0:00:00.011476 taken by RoutingSetup\n",
      "Finding binaries\n",
      "|0%                          50%                         100%|\n",
      " ============================================================\n",
      "2022-01-11 11:57:16 INFO: Time 0:00:00.033206 taken by GraphBinaryGatherer\n",
      "Running routing table compression on chip\n",
      "|0%                          50%                         100%|\n",
      " ============================================================\n",
      "2022-01-11 11:57:20 INFO: Time 0:00:04.539066 taken by MundyOnChipRouterCompression\n",
      "Generating Router table report\n",
      "|0%                          50%                         100%|\n",
      " ============================================================\n",
      "2022-01-11 11:57:20 INFO: Time 0:00:00.006376 taken by unCompressedRoutingTableReports\n",
      "loading fixed routes\n",
      "|0%                          50%                         100%|\n",
      " ============================================================\n",
      "2022-01-11 11:57:20 INFO: Time 0:00:00.047360 taken by LoadFixedRoutes\n",
      "Executing data specifications and loading data for system vertices\n",
      "|0%                          50%                         100%|\n",
      " ============================================================\n",
      "2022-01-11 11:57:20 INFO: Time 0:00:00.150213 taken by HostExecuteSystemDataSpecification\n",
      "Loading system executables onto the machine\n",
      "|0%                          50%                         100%|\n",
      " ============================================================\n",
      "2022-01-11 11:57:26 INFO: Time 0:00:05.724205 taken by LoadSystemExecutableImages\n",
      "Clearing tags\n",
      "|0%                          50%                         100%|\n",
      " ============================================================\n",
      "Loading Tags\n",
      "|0%                          50%                         100%|\n",
      " ============================================================\n",
      "2022-01-11 11:57:26 INFO: Time 0:00:00.024052 taken by TagsLoader\n",
      "Writing data\n",
      "|0%                          50%                         100%|\n",
      " ============================================================\n",
      "2022-01-11 11:57:26 INFO: Time 0:00:00.032037 taken by WriteMemoryIOData\n",
      "Executing data specifications and loading data for application vertices\n",
      "|0%                          50%                         100%|\n",
      " ============================================================\n",
      "2022-01-11 11:57:28 INFO: Time 0:00:02.311381 taken by HostExecuteApplicationDataSpecification\n",
      "Expanding Synapses\n",
      "|0%                          50%                         100%|\n",
      " ============================================================\n",
      "2022-01-11 11:57:32 INFO: Time 0:00:04.024328 taken by SynapseExpander\n",
      "Writing fixed route report\n",
      "|0%                          50%                         100%|\n",
      " ============================================================\n",
      "2022-01-11 11:57:32 INFO: Time 0:00:00.050004 taken by FixedRouteFromMachineReport\n",
      "Loading executables onto the machine\n",
      "|0%                          50%                         100%|\n",
      " ============================================================\n",
      "2022-01-11 11:57:39 INFO: Time 0:00:06.881297 taken by LoadApplicationExecutableImages\n",
      "Reading Routing Tables from Machine\n",
      "|0%                          50%                         100%|\n",
      " ============================================================\n",
      "2022-01-11 11:57:39 INFO: Time 0:00:00.015294 taken by RoutingTableFromMachineReport\n",
      "Generating compressed router table report\n",
      "|0%                          50%                         100%|\n",
      " ============================================================\n",
      "2022-01-11 11:57:39 INFO: Time 0:00:00.011858 taken by compressedRoutingTableReports\n",
      "Generating comparison of router table report\n",
      "|0%                          50%                         100%|\n",
      " ============================================================\n",
      "2022-01-11 11:57:39 INFO: Time 0:00:00.008012 taken by comparisonOfRoutingTablesReport\n",
      "2022-01-11 11:57:39 INFO: Running for 1 steps for a total of 1000.0ms\n",
      "2022-01-11 11:57:39 INFO: Run 1 of 1\n",
      "Generating SDRAM usage report\n",
      "|0%                          50%                         100%|\n",
      " ============================================================\n",
      "2022-01-11 11:57:39 INFO: Time 0:00:00.061689 taken by SdramUsageReportPerChip\n",
      "Updating run time\n",
      "|0%                          50%                         100%|\n",
      " ============================================================\n",
      "2022-01-11 11:57:39 INFO: Time 0:00:00.033337 taken by ChipRuntimeUpdater\n",
      "2022-01-11 11:57:39 INFO: creating live event connection database in /home/spinnaker/CNT-2022/SpiNNaker/application_generated_data_files/2022-01-11-11-56-32-533151/run_1/input_output_database.db\n",
      "Creating graph description database\n",
      "|0%                          50%                         100%|\n",
      " ============================================================\n",
      "2022-01-11 11:57:40 INFO: Time 0:00:00.074380 taken by DatabaseInterface\n",
      "2022-01-11 11:57:40 INFO: ** Notifying external sources that the database is ready for reading **\n",
      "2022-01-11 11:57:40 INFO: Time 0:00:00.001834 taken by NotificationProtocol\n",
      "2022-01-11 11:57:40 INFO: *** Running simulation... *** \n",
      "Loading buffers\n",
      "|0%                          50%                         100%|\n",
      " ============================================================\n",
      "2022-01-11 11:57:40 INFO: ** Awaiting for a response from an external source to state its ready for the simulation to start **\n",
      "2022-01-11 11:57:40 INFO: ** Sending start / resume message to external sources to state the simulation has started or resumed. **\n",
      "2022-01-11 11:57:40 INFO: ** Awaiting for a response from an external source to state its ready for the simulation to start **\n",
      "2022-01-11 11:57:40 INFO: Application started; waiting 1.1s for it to stop\n",
      "2022-01-11 11:57:41 INFO: ** Sending pause / stop message to external sources to state the simulation has been paused or stopped. **\n",
      "2022-01-11 11:57:41 INFO: Time 0:00:01.187842 taken by ApplicationRunner\n",
      "Extracting buffers from the last run\n",
      "|0%                          50%                         100%|\n",
      " ============================================================\n",
      "2022-01-11 11:57:45 INFO: Time 0:00:03.944419 taken by BufferExtractor\n",
      "Getting provenance data from machine graph\n",
      "|0%                          50%                         100%|\n",
      " ============================================================\n",
      "Getting provenance data from application graph\n",
      "|0%                          50%                         100%|\n",
      " ============================================================\n",
      "2022-01-11 11:57:45 INFO: Time 0:00:00.093068 taken by GraphProvenanceGatherer\n",
      "Getting provenance data\n",
      "|0%                          50%                         100%|\n",
      " ============================================================\n",
      "2022-01-11 11:57:45 INFO: Time 0:00:00.045623 taken by PlacementsProvenanceGatherer\n",
      "Getting Router Provenance\n",
      "|0%                          50%                         100%|\n",
      " ============================================================\n",
      "2022-01-11 11:57:45 INFO: Time 0:00:00.058937 taken by RouterProvenanceGatherer\n",
      "Getting profile data\n",
      "|0%                          50%                         100%|\n",
      " ============================================================\n",
      "2022-01-11 11:57:45 INFO: Time 0:00:00.054153 taken by ProfileDataGatherer\n"
     ]
    },
    {
     "data": {
      "text/plain": [
       "1000.0"
      ]
     },
     "execution_count": 9,
     "metadata": {},
     "output_type": "execute_result"
    }
   ],
   "source": [
    "tstop = 1000 # (ms)\n",
    "sim.run(tstop)"
   ]
  },
  {
   "cell_type": "markdown",
   "metadata": {},
   "source": [
    "# step9: save results in a folder"
   ]
  },
  {
   "cell_type": "code",
   "execution_count": 10,
   "metadata": {},
   "outputs": [
    {
     "name": "stderr",
     "output_type": "stream",
     "text": [
      "Getting spikes for Excitatory_Cells\n",
      "|0%                          50%                         100%|\n",
      " ============================================================\n",
      "Getting v for Excitatory_Cells\n",
      "|0%                          50%                         100%|\n",
      " ============================================================\n",
      "Getting gsyn_exc for Excitatory_Cells\n",
      "|0%                          50%                         100%|\n",
      " ============================================================\n",
      "Getting gsyn_inh for Excitatory_Cells\n",
      "|0%                          50%                         100%|\n",
      " ============================================================\n",
      "Getting spikes for Excitatory_Cells\n",
      "|0%                          50%                         100%|\n",
      " ============================================================\n",
      "Getting v for Excitatory_Cells\n",
      "|0%                          50%                         100%|\n",
      " ============================================================\n",
      "Getting gsyn_exc for Excitatory_Cells\n",
      "|0%                          50%                         100%|\n",
      " ============================================================\n",
      "Getting gsyn_inh for Excitatory_Cells\n",
      "|0%                          50%                         100%|\n",
      " ============================================================\n",
      "Getting spikes for Excitatory_Cells\n",
      "|0%                          50%                         100%|\n",
      " ============================================================\n",
      "Getting v for Excitatory_Cells\n",
      "|0%                          50%                         100%|\n",
      " ============================================================\n",
      "Getting gsyn_exc for Excitatory_Cells\n",
      "|0%                          50%                         100%|\n",
      " ============================================================\n",
      "Getting gsyn_inh for Excitatory_Cells\n",
      "|0%                          50%                         100%|\n",
      " ============================================================\n",
      "Getting spikes for Excitatory_Cells\n",
      "|0%                          50%                         100%|\n",
      " ============================================================\n",
      "Getting v for Excitatory_Cells\n",
      "|0%                          50%                         100%|\n",
      " ============================================================\n",
      "Getting gsyn_exc for Excitatory_Cells\n",
      "|0%                          50%                         100%|\n",
      " ============================================================\n",
      "Getting gsyn_inh for Excitatory_Cells\n",
      "|0%                          50%                         100%|\n",
      " ============================================================\n",
      "Getting spikes for Excitatory_Cells\n",
      "|0%                          50%                         100%|\n",
      " ============================================================\n",
      "Getting v for Excitatory_Cells\n",
      "|0%                          50%                         100%|\n",
      " ============================================================\n",
      "Getting gsyn_exc for Excitatory_Cells\n",
      "|0%                          50%                         100%|\n",
      " ============================================================\n",
      "Getting gsyn_inh for Excitatory_Cells\n",
      "|0%                          50%                         100%|\n",
      " ============================================================\n",
      "Getting spikes for Inhibitory_Cells\n",
      "|0%                          50%                         100%|\n",
      " ============================================================\n",
      "Getting v for Inhibitory_Cells\n",
      "|0%                          50%                         100%|\n",
      " ============================================================\n",
      "2022-01-11 11:57:48 WARNING: Warning getting data on a whole population when selective recording is active will result in only the requested neurons being returned in numerical order and without repeats.\n",
      "Getting gsyn_exc for Inhibitory_Cells\n",
      "|0%                          50%                         100%|\n",
      " ============================================================\n",
      "Getting gsyn_inh for Inhibitory_Cells\n",
      "|0%                          50%                         100%|\n",
      " ============================================================\n",
      "Getting spikes for Inhibitory_Cells\n",
      "|0%                          50%                         100%|\n",
      " ============================================================\n",
      "Getting v for Inhibitory_Cells\n",
      "|0%                          50%                         100%|\n",
      " ============================================================\n",
      "Getting gsyn_exc for Inhibitory_Cells\n",
      "|0%                          50%                         100%|\n",
      " ============================================================\n",
      "Getting gsyn_inh for Inhibitory_Cells\n",
      "|0%                          50%                         100%|\n",
      " ============================================================\n",
      "Getting spikes for Inhibitory_Cells\n",
      "|0%                          50%                         100%|\n",
      " ============================================================\n",
      "Getting v for Inhibitory_Cells\n",
      "|0%                          50%                         100%|\n",
      " ============================================================\n",
      "Getting gsyn_exc for Inhibitory_Cells\n",
      "|0%                          50%                         100%|\n",
      " ============================================================\n",
      "Getting gsyn_inh for Inhibitory_Cells\n",
      "|0%                          50%                         100%|\n",
      " ============================================================\n",
      "Getting spikes for Inhibitory_Cells\n",
      "|0%                          50%                         100%|\n",
      " ============================================================\n",
      "Getting v for Inhibitory_Cells\n",
      "|0%                          50%                         100%|\n",
      " ============================================================\n",
      "Getting gsyn_exc for Inhibitory_Cells\n",
      "|0%                          50%                         100%|\n",
      " ============================================================\n",
      "Getting gsyn_inh for Inhibitory_Cells\n",
      "|0%                          50%                         100%|\n",
      " ============================================================\n",
      "Getting spikes for Inhibitory_Cells\n",
      "|0%                          50%                         100%|\n",
      " ============================================================\n",
      "Getting v for Inhibitory_Cells\n",
      "|0%                          50%                         100%|\n",
      " ============================================================\n",
      "Getting gsyn_exc for Inhibitory_Cells\n",
      "|0%                          50%                         100%|\n",
      " ============================================================\n",
      "Getting gsyn_inh for Inhibitory_Cells\n",
      "|0%                          50%                         100%|\n",
      " ============================================================\n"
     ]
    }
   ],
   "source": [
    "outputs = {}\n",
    "\n",
    "for layer in ['exc', 'inh']:\n",
    "    \n",
    "    # save on the notebook space\n",
    "    outputs[layer] = pops[layer].get_data()\n",
    "    \n",
    "    # save in the folder space\n",
    "    for recording in ['v', 'gsyn_inh', 'gsyn_exc', 'spikes']:\n",
    "        pops[layer].write_data(str(layer) + '_' + str(recording) + '.pkl')\n",
    "        "
   ]
  },
  {
   "cell_type": "markdown",
   "metadata": {},
   "source": [
    "# step10: recover results"
   ]
  },
  {
   "cell_type": "code",
   "execution_count": 11,
   "metadata": {},
   "outputs": [
    {
     "name": "stdout",
     "output_type": "stream",
     "text": [
      "exc v\n",
      "exc gsyn_exc\n",
      "exc gsyn_inh\n",
      "inh v\n",
      "inh gsyn_exc\n",
      "inh gsyn_inh\n"
     ]
    },
    {
     "data": {
      "text/plain": [
       "dict_keys([('exc', 'v'), ('exc', 'gsyn_exc'), ('exc', 'gsyn_inh'), ('exc', 'spikes'), ('inh', 'v'), ('inh', 'gsyn_exc'), ('inh', 'gsyn_inh'), ('inh', 'spikes')])"
      ]
     },
     "execution_count": 11,
     "metadata": {},
     "output_type": "execute_result"
    }
   ],
   "source": [
    "def recover_results(outputs):\n",
    "    results = {}\n",
    "    for key in outputs.keys(): # to extract the name of the layer, e.g., Exc, Inh, Thalamus, etc  \n",
    "        \n",
    "        # to get voltage and conductances\n",
    "        for analogsignal in outputs[key].segments[0].analogsignals:\n",
    "            print(key, analogsignal.name)\n",
    "            results[key, analogsignal.name] = analogsignal\n",
    "\n",
    "        # to get spikes\n",
    "        results[key, 'spikes'] = outputs[key].segments[0].spiketrains\n",
    "    return results\n",
    "\n",
    "# check results\n",
    "results = recover_results(outputs)\n",
    "results.keys()"
   ]
  },
  {
   "cell_type": "markdown",
   "metadata": {},
   "source": [
    "# step11: postprocessing (looking the results)"
   ]
  },
  {
   "cell_type": "code",
   "execution_count": 12,
   "metadata": {},
   "outputs": [
    {
     "name": "stdout",
     "output_type": "stream",
     "text": [
      "Using matplotlib backend: module://ipympl.backend_nbagg\n"
     ]
    },
    {
     "data": {
      "application/vnd.jupyter.widget-view+json": {
       "model_id": "8ea12ca6f3454d958184a908845428d7",
       "version_major": 2,
       "version_minor": 0
      },
      "text/plain": [
       "Canvas(toolbar=Toolbar(toolitems=[('Home', 'Reset original view', 'home', 'home'), ('Back', 'Back to previous …"
      ]
     },
     "metadata": {},
     "output_type": "display_data"
    },
    {
     "data": {
      "text/plain": [
       "<pyNN.utility.plotting.Figure at 0x7f119b8e9518>"
      ]
     },
     "execution_count": 12,
     "metadata": {},
     "output_type": "execute_result"
    }
   ],
   "source": [
    "from pyNN.utility.plotting import Figure, Panel\n",
    "%matplotlib\n",
    "Figure(\n",
    "    # raster plot of the presynaptic neuron spike times\n",
    "    Panel(results['exc', 'spikes'], xlabel=\"Time/ms\", xticks=True,\n",
    "          yticks=True, markersize=0.2, xlim=(0, tstop)),\n",
    "    title=\"Vogels-Abbott benchmark: excitatory cells spikes\")\n"
   ]
  },
  {
   "cell_type": "code",
   "execution_count": 13,
   "metadata": {},
   "outputs": [
    {
     "name": "stdout",
     "output_type": "stream",
     "text": [
      "Using matplotlib backend: module://ipympl.backend_nbagg\n"
     ]
    },
    {
     "data": {
      "application/vnd.jupyter.widget-view+json": {
       "model_id": "b7eb58ea900d447d8ef585643e387a36",
       "version_major": 2,
       "version_minor": 0
      },
      "text/plain": [
       "Canvas(toolbar=Toolbar(toolitems=[('Home', 'Reset original view', 'home', 'home'), ('Back', 'Back to previous …"
      ]
     },
     "metadata": {},
     "output_type": "display_data"
    },
    {
     "data": {
      "text/plain": [
       "<pyNN.utility.plotting.Figure at 0x7f118d081f98>"
      ]
     },
     "execution_count": 13,
     "metadata": {},
     "output_type": "execute_result"
    }
   ],
   "source": [
    "from pyNN.utility.plotting import Figure, Panel\n",
    "%matplotlib\n",
    "Figure(\n",
    "    # raster plot of the presynaptic neuron spike times\n",
    "    Panel(results['inh', 'spikes'], xlabel=\"Time (ms)\", xticks=True,\n",
    "          yticks=True, markersize=0.2, xlim=(0, tstop)),\n",
    "    title=\"Vogels-Abbott benchmark: inhibitory cells spikes\")\n"
   ]
  },
  {
   "cell_type": "code",
   "execution_count": 14,
   "metadata": {},
   "outputs": [
    {
     "name": "stdout",
     "output_type": "stream",
     "text": [
      "Using matplotlib backend: module://ipympl.backend_nbagg\n"
     ]
    },
    {
     "data": {
      "application/vnd.jupyter.widget-view+json": {
       "model_id": "520f19adb1b448eb82d38d8cf7e08bf6",
       "version_major": 2,
       "version_minor": 0
      },
      "text/plain": [
       "Canvas(toolbar=Toolbar(toolitems=[('Home', 'Reset original view', 'home', 'home'), ('Back', 'Back to previous …"
      ]
     },
     "metadata": {},
     "output_type": "display_data"
    },
    {
     "data": {
      "text/plain": [
       "[Text(0, 0.5, 'Excitatory cells'), Text(0, 0.5, 'Inhibitory cells')]"
      ]
     },
     "execution_count": 14,
     "metadata": {},
     "output_type": "execute_result"
    }
   ],
   "source": [
    "# classic matplotlib rasterplot function\n",
    "\n",
    "%matplotlib\n",
    "fig, ax = plt.subplots(2,1, sharex=True, figsize=(9,5))\n",
    "p0=ax[0].eventplot(results['exc', 'spikes'], color='green')\n",
    "p1=ax[1].eventplot(results['inh', 'spikes'], color='red')\n",
    "[ax[i].set_xlabel('Time (ms)', fontsize=14) for i in [0,1]]\n",
    "[ax[i].set_ylabel(feat, fontsize=14) for i, feat in enumerate(['Excitatory cells', 'Inhibitory cells'])]"
   ]
  },
  {
   "cell_type": "code",
   "execution_count": 15,
   "metadata": {},
   "outputs": [
    {
     "name": "stderr",
     "output_type": "stream",
     "text": [
      "Getting spikes for Excitatory_Cells\n",
      "|0%                          50%                         100%|\n",
      " ============================================================\n",
      "Getting spikes for Inhibitory_Cells\n",
      "|0%                          50%                         100%|\n",
      " ============================================================"
     ]
    },
    {
     "name": "stdout",
     "output_type": "stream",
     "text": [
      "exc cell 200 : 15 spikes/1000ms\n"
     ]
    },
    {
     "name": "stderr",
     "output_type": "stream",
     "text": [
      "\n"
     ]
    }
   ],
   "source": [
    "# check spikes\n",
    "\n",
    "spike_rate = {\n",
    "    'exc': pops['exc'].get_spike_counts(),\n",
    "    'inh': pops['inh'].get_spike_counts()\n",
    "}\n",
    "\n",
    "idx=200\n",
    "pop = 'exc'\n",
    "print(pop + ' cell ' + str(idx) + ' :', spike_rate[pop][idx], 'spikes/' + str(tstop) + 'ms')"
   ]
  },
  {
   "cell_type": "code",
   "execution_count": 16,
   "metadata": {},
   "outputs": [
    {
     "name": "stdout",
     "output_type": "stream",
     "text": [
      "Using matplotlib backend: module://ipympl.backend_nbagg\n"
     ]
    },
    {
     "data": {
      "application/vnd.jupyter.widget-view+json": {
       "model_id": "0108601237ee4f3e9746c21f322e24c9",
       "version_major": 2,
       "version_minor": 0
      },
      "text/plain": [
       "Canvas(toolbar=Toolbar(toolitems=[('Home', 'Reset original view', 'home', 'home'), ('Back', 'Back to previous …"
      ]
     },
     "metadata": {},
     "output_type": "display_data"
    },
    {
     "data": {
      "text/plain": [
       "[Text(0.5, 0, 'membrane potential [mV]'),\n",
       " Text(0.5, 0, 'gsyn_exc [uS]'),\n",
       " Text(0.5, 0, 'gsyn_inh [uS]')]"
      ]
     },
     "execution_count": 16,
     "metadata": {},
     "output_type": "execute_result"
    }
   ],
   "source": [
    "# check conductances and membrane voltage potentials\n",
    "\n",
    "import numpy as np\n",
    "import matplotlib.pyplot as plt\n",
    "%matplotlib\n",
    "fig, ax = plt.subplots(1,3,figsize=(13,4), sharey=True, sharex=False)\n",
    "ax = ax.flatten()\n",
    "p=ax[0].hist(np.asarray(results['exc', 'v']).ravel(), 100, label='exc', log=False)\n",
    "p=ax[1].hist(np.asarray(results['exc', 'gsyn_exc']).ravel(), 100, label='exc')\n",
    "p=ax[2].hist(np.asarray(results['exc', 'gsyn_inh']).ravel(), 100, label='exc')\n",
    "\n",
    "p=ax[0].hist(np.asarray(results['inh', 'v']).ravel(), 100, label='inh')\n",
    "p=ax[1].hist(np.asarray(results['inh', 'gsyn_exc']).ravel(), 100, label='inh')\n",
    "p=ax[2].hist(np.asarray(results['inh', 'gsyn_inh']).ravel(), 100, label='inh')\n",
    "\n",
    "ax[0].set_xlim(-90,-40)\n",
    "ax[1].set_xlim(0,0.2)\n",
    "ax[2].set_xlim(0,0.5)\n",
    "\n",
    "[ax[i].legend() for i in [0,1,2]]\n",
    "\n",
    "[ax[i].set_ylabel('excitatory cells', fontsize=14) for i in [0,1,2]]\n",
    "[ax[idx].set_xlabel(feat, fontsize=14) for idx, feat in enumerate(['membrane potential [mV]', 'gsyn_exc [uS]', 'gsyn_inh [uS]'])]"
   ]
  },
  {
   "cell_type": "code",
   "execution_count": 17,
   "metadata": {},
   "outputs": [
    {
     "data": {
      "application/vnd.jupyter.widget-view+json": {
       "model_id": "e7f80024cafe44f2ad55cefc153d0333",
       "version_major": 2,
       "version_minor": 0
      },
      "text/plain": [
       "Canvas(toolbar=Toolbar(toolitems=[('Home', 'Reset original view', 'home', 'home'), ('Back', 'Back to previous …"
      ]
     },
     "metadata": {},
     "output_type": "display_data"
    },
    {
     "data": {
      "text/plain": [
       "dict_keys([0, 1, 2])"
      ]
     },
     "execution_count": 17,
     "metadata": {},
     "output_type": "execute_result"
    }
   ],
   "source": [
    "# voltage in excitatory pop\n",
    "\n",
    "fig, ax = plt.subplots(1,3, figsize=(13,4), sharey=True, sharex=True)\n",
    "ax = ax.flatten()\n",
    "\n",
    "p = {}\n",
    "for idx, feat in enumerate(['v', 'gsyn_exc', 'gsyn_inh']):\n",
    "    p[idx] = ax[idx].imshow(np.asarray(results['exc', feat]).T,  norm=colors.PowerNorm(gamma= 0.75))\n",
    "\n",
    "[fig.colorbar(p[idx], ax=ax[idx], shrink=0.5) for idx in [0,1,2]]\n",
    "\n",
    "[ax[i].set_xlabel('time [ms]', fontsize=14) for i in [0,1,2]]\n",
    "[ax[i].set_ylabel('excitatory cells', fontsize=14) for i in [0,1,2]]\n",
    "[ax[idx].set_title(feat, fontsize=14) for idx, feat in enumerate(['membrane potential [mV]', 'gsyn_exc [uS]', 'gsyn_inh [uS]'])]\n",
    "\n",
    "p.keys()"
   ]
  },
  {
   "cell_type": "code",
   "execution_count": 18,
   "metadata": {},
   "outputs": [
    {
     "data": {
      "application/vnd.jupyter.widget-view+json": {
       "model_id": "49ad4404b5af4b0880df0fe9c8672c3b",
       "version_major": 2,
       "version_minor": 0
      },
      "text/plain": [
       "Canvas(toolbar=Toolbar(toolitems=[('Home', 'Reset original view', 'home', 'home'), ('Back', 'Back to previous …"
      ]
     },
     "metadata": {},
     "output_type": "display_data"
    }
   ],
   "source": [
    "# voltage in inhibitory pop\n",
    "\n",
    "\n",
    "fig, ax = plt.subplots(3,1, figsize=(11,11), sharey=True, sharex=False)\n",
    "ax = ax.flatten()\n",
    "\n",
    "p = {}\n",
    "for idx, feat in enumerate(['v', 'gsyn_exc', 'gsyn_inh']):\n",
    "    p[idx] = ax[idx].imshow(np.asarray(results['inh', feat]).T,  norm=colors.PowerNorm(gamma= 0.75))\n",
    "\n",
    "[fig.colorbar(p[idx], ax=ax[idx], shrink=0.6) for idx in [0,1,2]]\n",
    "\n",
    "[ax[i].set_xlabel('time [ms]', fontsize=14) for i in [0,1,2]]\n",
    "[ax[i].set_ylabel('inhibitory cells', fontsize=14) for i in [0,1,2]]\n",
    "[ax[idx].set_title(feat, fontsize=14) for idx, feat in enumerate(['membrane potential [mV]', 'gsyn_exc [uS]', 'gsyn_inh [uS]'])]\n",
    "\n",
    "rasterplot=True\n",
    "if rasterplot:\n",
    "    for i in [0,1,2]:\n",
    "        ax[i].eventplot(results['inh', 'spikes'])\n"
   ]
  },
  {
   "cell_type": "code",
   "execution_count": 19,
   "metadata": {},
   "outputs": [],
   "source": [
    "# signal processing step, statistics, information theory tools, etc\n"
   ]
  },
  {
   "cell_type": "markdown",
   "metadata": {},
   "source": [
    "# step12: close simulation\n"
   ]
  },
  {
   "cell_type": "code",
   "execution_count": null,
   "metadata": {},
   "outputs": [],
   "source": [
    "# if you run it, you cannot reload some cells, but it is needed to restart the overall simulation\n",
    "\n",
    "sim.end()"
   ]
  }
 ],
 "metadata": {
  "kernelspec": {
   "display_name": "sPyNNaker",
   "language": "python",
   "name": "spynnaker"
  },
  "language_info": {
   "codemirror_mode": {
    "name": "ipython",
    "version": 3
   },
   "file_extension": ".py",
   "mimetype": "text/x-python",
   "name": "python",
   "nbconvert_exporter": "python",
   "pygments_lexer": "ipython3",
   "version": "3.6.9"
  }
 },
 "nbformat": 4,
 "nbformat_minor": 4
}
