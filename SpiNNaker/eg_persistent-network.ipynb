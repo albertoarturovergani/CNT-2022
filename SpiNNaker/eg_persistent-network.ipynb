{
 "cells": [
  {
   "cell_type": "markdown",
   "metadata": {},
   "source": [
    "# Persistent network\n",
    "\n",
    "- a network that fires even if the stimulus lasts few instants (aka, there's no decay...)"
   ]
  },
  {
   "cell_type": "code",
   "execution_count": 1,
   "metadata": {},
   "outputs": [],
   "source": [
    "# fileName\n",
    "\n",
    "fileName = 'eg_persistent_network'"
   ]
  },
  {
   "cell_type": "code",
   "execution_count": 2,
   "metadata": {},
   "outputs": [
    {
     "name": "stdout",
     "output_type": "stream",
     "text": [
      "Detected PyNN version 0.9.4 and Neo version 0.6.1\n"
     ]
    }
   ],
   "source": [
    "# libs\n",
    "\n",
    "import pyNN.spiNNaker as sim\n",
    "from pyNN import space \n",
    "import numpy as np\n",
    "import matplotlib.pyplot as plt\n"
   ]
  },
  {
   "cell_type": "code",
   "execution_count": 3,
   "metadata": {},
   "outputs": [
    {
     "name": "stderr",
     "output_type": "stream",
     "text": [
      "2022-01-18 18:57:56 INFO: Read cfg files: /home/spinnaker/sPyNNaker/lib/python3.6/site-packages/spinn_front_end_common/interface/spinnaker.cfg, /home/spinnaker/sPyNNaker/lib/python3.6/site-packages/spynnaker/pyNN/spynnaker.cfg, /home/spinnaker/.spynnaker.cfg\n",
      "2022-01-18 18:57:56 INFO: Will search these locations for binaries: /home/spinnaker/sPyNNaker/lib/python3.6/site-packages/spinn_front_end_common/common_model_binaries : /home/spinnaker/sPyNNaker/lib/python3.6/site-packages/spynnaker/pyNN/model_binaries\n",
      "2022-01-18 18:57:56 WARNING: /home/spinnaker/CNT-2022/SpiNNaker/reports has 9 old reports that have not been closed\n",
      "2022-01-18 18:57:56 WARNING: /home/spinnaker/CNT-2022/SpiNNaker/application_generated_data_files has 10 old reports that have not been closed\n",
      "2022-01-18 18:57:56 INFO: Setting time scale factor to 1.\n",
      "2022-01-18 18:57:56 INFO: Setting machine time step to 1000 micro-seconds.\n"
     ]
    },
    {
     "name": "stdout",
     "output_type": "stream",
     "text": [
      "['/home/spinnaker/sPyNNaker/lib/python3.6/site-packages/spinn_front_end_common/interface/spinnaker.cfg', '/home/spinnaker/sPyNNaker/lib/python3.6/site-packages/spynnaker/pyNN/spynnaker.cfg', '/home/spinnaker/.spynnaker.cfg']\n"
     ]
    }
   ],
   "source": [
    "# simulation settings\n",
    "\n",
    "sim.setup(\n",
    "        timestep=1, # [ms]\n",
    "        min_delay=1, # [ms]\n",
    "        max_delay=100) # [ms]\n",
    "\n",
    "simtime = 250 #ms"
   ]
  },
  {
   "cell_type": "code",
   "execution_count": 4,
   "metadata": {},
   "outputs": [
    {
     "data": {
      "text/plain": [
       "{'Exc': <spynnaker8.models.populations.population.Population at 0x7f6919ca1798>,\n",
       " 'Inh': <spynnaker8.models.populations.population.Population at 0x7f6919ca1868>}"
      ]
     },
     "execution_count": 4,
     "metadata": {},
     "output_type": "execute_result"
    }
   ],
   "source": [
    "# defining the network\n",
    "\n",
    "pops = {}\n",
    "n_cells = {}\n",
    "neuron_Model = {}\n",
    "neuron_ModelPars = {}\n",
    "initial_Values = {}\n",
    "\n",
    "for popName in ['Exc', 'Inh']:\n",
    "    n_cells[popName] = 100\n",
    "    neuron_Model[popName] = sim.IF_cond_exp\n",
    "    neuron_ModelPars[popName] = sim.IF_cond_exp.default_parameters # or standard_pars or testing_pars\n",
    "    initial_Values[popName] = sim.IF_cond_exp.default_initial_values\n",
    "    pops[popName] = sim.Population(n_cells[popName], \n",
    "                                   neuron_Model[popName],\n",
    "                                   neuron_ModelPars[popName],\n",
    "                                   structure = space.Line(dx=1.0, x0=0.0, y=0.0, z=0.0),\n",
    "                                   label = popName)\n",
    "\n",
    "    pops[popName].record(['spikes','v','gsyn_exc','gsyn_inh'])   \n",
    " \n",
    "pops"
   ]
  },
  {
   "cell_type": "code",
   "execution_count": 5,
   "metadata": {},
   "outputs": [],
   "source": [
    "# defining the list of connections\n",
    "\n",
    "def compute_manual_list(n_cells_i, n_cells_j, weights, d_thresh, p_thresh, width): \n",
    "        v_c = 0.35 #m/s\n",
    "        d0 = 1 #ms\n",
    "        scale = 1\n",
    "\n",
    "        connections = {}\n",
    "        probabilities = {}\n",
    "        distances = {}\n",
    "\n",
    "        connections = []\n",
    "        probabilities = []\n",
    "        distances = []\n",
    "        for pre in range(n_cells_i):\n",
    "            for post in range(n_cells_j):\n",
    "                d_ij = np.sqrt((pre - post)**2)\n",
    "                delay = d0 + d_ij / v_c\n",
    "                if d_ij > d_thresh: \n",
    "                    distances.append(d_ij)\n",
    "                    p_ij = scale*np.exp(-0.5 * (d_ij**2/width**2))\n",
    "                    probabilities.append(p_ij)\n",
    "\n",
    "                    if p_ij > p_thresh:\n",
    "                        connections.append([pre, post, weights, delay])#, [d_ij, p_ij]])\n",
    "\n",
    "        return connections, distances, probabilities\n"
   ]
  },
  {
   "cell_type": "code",
   "execution_count": 6,
   "metadata": {},
   "outputs": [],
   "source": [
    "# compute manual list of connections to have center-surround structure\n",
    "\n",
    "weight = {('Exc', 'Exc') : 0.08,\n",
    "          ('Exc', 'Inh') : 0.08,\n",
    "          ('Inh', 'Exc') : 0.24,\n",
    "          ('Inh', 'Inh') : 0.24          \n",
    "          }\n",
    "\n",
    "d_thresh = {('Exc', 'Exc'): 0, \n",
    "            ('Inh', 'Exc'): 2} \n",
    "\n",
    "p_thresh = {('Exc', 'Exc'): 0.1, \n",
    "            ('Inh', 'Exc'): 0.1}\n",
    "\n",
    "width = {('Exc', 'Exc'): 1,\n",
    "         ('Inh', 'Exc'): 3} \n",
    "\n",
    "\n",
    "\n",
    "connections = {}\n",
    "distances = {}\n",
    "probabilities = {}\n",
    "\n",
    "connections['Exc', 'Exc'], distances['Exc', 'Exc'], probabilities['Exc', 'Exc'] = compute_manual_list(n_cells['Exc'], \n",
    "                                                                                                      n_cells['Exc'], \n",
    "                                                                                                      weight['Exc', 'Exc'], \n",
    "                                                                                                      d_thresh['Exc', 'Exc'], \n",
    "                                                                                                      p_thresh['Exc', 'Exc'], \n",
    "                                                                                                      width['Exc', 'Exc'])\n",
    "\n",
    "connections['Inh', 'Exc'], distances['Inh', 'Exc'], probabilities['Inh', 'Exc'] = compute_manual_list(n_cells['Inh'], \n",
    "                                                                                                      n_cells['Exc'], \n",
    "                                                                                                      weight['Inh', 'Exc'], \n",
    "                                                                                                      d_thresh['Inh', 'Exc'], \n",
    "                                                                                                      p_thresh['Inh', 'Exc'], \n",
    "                                                                                                      width['Inh', 'Exc'])"
   ]
  },
  {
   "cell_type": "code",
   "execution_count": 7,
   "metadata": {},
   "outputs": [
    {
     "data": {
      "application/vnd.jupyter.widget-view+json": {
       "model_id": "d6d7a83132be49c8bb3e20dbcca45662",
       "version_major": 2,
       "version_minor": 0
      },
      "text/plain": [
       "Canvas(toolbar=Toolbar(toolitems=[('Home', 'Reset original view', 'home', 'home'), ('Back', 'Back to previous …"
      ]
     },
     "metadata": {},
     "output_type": "display_data"
    },
    {
     "data": {
      "text/plain": [
       "<matplotlib.legend.Legend at 0x7f6917683f60>"
      ]
     },
     "execution_count": 7,
     "metadata": {},
     "output_type": "execute_result"
    }
   ],
   "source": [
    "# visual check of the connections\n",
    "\n",
    "fig, ax = plt.subplots(1,2, figsize=(9,5))\n",
    "fig.tight_layout(pad=3)\n",
    "axes_list = fig.axes\n",
    "\n",
    "axes_list[0].plot(np.asarray(connections['Exc', 'Exc']).T[0], np.asarray(connections['Exc', 'Exc']).T[1],'go', label='Exc (i) - Exc (j)')\n",
    "axes_list[0].plot(np.asarray(connections['Inh', 'Exc']).T[0], np.asarray(connections['Inh', 'Exc']).T[1],'r+', label='Inh (i) - Exc (j)')\n",
    "axes_list[0].grid()\n",
    "axes_list[0].legend()\n",
    "axes_list[0].set_title('scatter plot of connections')\n",
    "axes_list[0].set_xlabel('i cells')\n",
    "axes_list[0].set_ylabel('j cells')\n",
    "axes_list[0].set_xlim(20,40)\n",
    "axes_list[0].set_ylim(20,40)\n",
    "\n",
    "axes_list[1].plot(distances['Exc', 'Exc'],probabilities['Exc', 'Exc'],'g+')\n",
    "axes_list[1].plot(distances['Inh', 'Exc'],probabilities['Inh', 'Exc'],'r+') \n",
    "axes_list[1].plot(np.arange(0, 50), 1*np.exp(-0.5 * (np.arange(0, 50)**2/width['Exc', 'Exc']**2)), 'g:')\n",
    "axes_list[1].plot(np.arange(0, 50), 1*np.exp(-0.5 * (np.arange(0, 50)**2/width['Inh', 'Exc']**2)), 'r:')\n",
    "axes_list[1].grid()\n",
    "axes_list[1].set_xlim(0,15)\n",
    "axes_list[1].set_ylim(0,1)\n",
    "axes_list[1].axhline(p_thresh['Inh', 'Exc'], color='k', label='p_threshold', )\n",
    "axes_list[1].set_title('connections as function of prob and dist')\n",
    "axes_list[1].set_xlabel('distance')\n",
    "axes_list[1].set_ylabel('probability')\n",
    "axes_list[1].legend()\n"
   ]
  },
  {
   "cell_type": "code",
   "execution_count": 8,
   "metadata": {},
   "outputs": [],
   "source": [
    "# make the projections\n",
    "\n",
    "proj = {}\n",
    "\n",
    "\n",
    "\n",
    "proj['Exc', 'Exc'] = sim.Projection(pops['Exc'], \n",
    "                                    pops['Exc'],\n",
    "                                    connector = sim.FromListConnector(connections['Exc', 'Exc']),\n",
    "                                    receptor_type = 'excitatory',\n",
    "                                    space = space.Space(axes = 'x'),\n",
    "                                    label = 'exc-exc connections'\n",
    "                                    )\n",
    "\n",
    "proj['Exc', 'Inh'] = sim.Projection(pops['Exc'], pops['Inh'],\n",
    "                                    connector = sim.OneToOneConnector(), \n",
    "                                    synapse_type = sim.StaticSynapse(weight=weight['Exc', 'Inh'], delay=1),\n",
    "                                    receptor_type = 'excitatory',\n",
    "                                    space = space.Space(axes = 'x'),\n",
    "                                    label = 'exc-inh connections'\n",
    "                                    )\n",
    "\n",
    "\n",
    "proj['Inh', 'Exc'] = sim.Projection(pops['Inh'], pops['Exc'],\n",
    "                                    connector = sim.FromListConnector(connections['Inh', 'Exc']),\n",
    "                                    receptor_type = 'inhibitory',\n",
    "                                    space = space.Space(axes = 'x'),\n",
    "                                    label = 'inh-exc connections'\n",
    "                                    )\n",
    "\n",
    "proj['Inh', 'Inh'] = sim.Projection(pops['Inh'], pops['Inh'],\n",
    "                                    connector = sim.OneToOneConnector(), \n",
    "                                    synapse_type = sim.StaticSynapse(weight=weight['Inh', 'Inh'], delay=1),\n",
    "                                    receptor_type = 'inhibitory',\n",
    "                                    space = space.Space(axes = 'x'),\n",
    "                                    label = 'inh-inh connections'\n",
    "                                    )"
   ]
  },
  {
   "cell_type": "code",
   "execution_count": 9,
   "metadata": {},
   "outputs": [
    {
     "data": {
      "application/vnd.jupyter.widget-view+json": {
       "model_id": "9c930dca44f54f0cac70b074a183393a",
       "version_major": 2,
       "version_minor": 0
      },
      "text/plain": [
       "Canvas(toolbar=Toolbar(toolitems=[('Home', 'Reset original view', 'home', 'home'), ('Back', 'Back to previous …"
      ]
     },
     "metadata": {},
     "output_type": "display_data"
    },
    {
     "data": {
      "text/plain": [
       "array([40, 41, 42, 43, 44, 45, 46, 47, 48, 49, 50, 51, 52, 53, 54, 55, 56,\n",
       "       57, 58, 59])"
      ]
     },
     "execution_count": 9,
     "metadata": {},
     "output_type": "execute_result"
    }
   ],
   "source": [
    "# make the thalamic input sources\n",
    "\n",
    "popName = 'Thalamus'  \n",
    "\n",
    "n_cells[popName] = n_cells['Exc']\n",
    "spike_times = [[]]*n_cells[popName] #list of spike lists, where one spike list is related to one spike source\n",
    "#random_sources_idx = [np.random.randint(n_cells[popName]*0.40, n_cells[popName]*0.60) for i in range(n_cells[popName])]\n",
    "random_sources_idx = np.arange(int(n_cells[popName]*0.40), int(n_cells[popName]*0.60))\n",
    "\n",
    "for idx, sources in enumerate(random_sources_idx):\n",
    "    spike_times[sources] = np.sort([abs(np.random.normal(loc=100, scale=25)) for n in range(5)])\n",
    "\n",
    "\n",
    "neuron_Model[popName] = sim.SpikeSourceArray(spike_times)\n",
    "\n",
    "\n",
    "pops[popName] = sim.Population(n_cells[popName], \n",
    "                           neuron_Model[popName],\n",
    "                           label = popName)\n",
    "\n",
    "proj['Thalamus', 'Exc'] = sim.Projection(pops['Thalamus'], \n",
    "                                         pops['Exc'],\n",
    "                                         connector = sim.OneToOneConnector(),\n",
    "                                         synapse_type = sim.StaticSynapse(weight=0.08, delay=1),\n",
    "                                         receptor_type = 'excitatory',\n",
    "                                         label = 'thalamus-exc connections')\n",
    "\n",
    "fig, axes = plt.subplots(1,1)\n",
    "axes_list = fig.axes\n",
    "axes_list[0].eventplot(spike_times)\n",
    "axes_list[0].set_xlabel('[ms]')\n",
    "axes_list[0].set_ylabel('thalamic spike sources')\n",
    "axes_list[0].set_title('rasterplot of spike sources')\n",
    "axes_list[0].set_xlim(0, simtime)\n",
    "\n",
    "random_sources_idx"
   ]
  },
  {
   "cell_type": "code",
   "execution_count": 10,
   "metadata": {},
   "outputs": [
    {
     "name": "stderr",
     "output_type": "stream",
     "text": [
      "2022-01-18 18:58:02 INFO: Simulating for 250 1.0ms timesteps using a hardware timestep of 1000us\n",
      "2022-01-18 18:58:02 INFO: Starting execution process\n",
      "2022-01-18 18:58:05 INFO: Time 0:00:03.150164 taken by SpallocMaxMachineGenerator\n",
      "Pre allocating resources for Extra Monitor support vertices\n",
      "|0%                          50%                         100%|\n",
      " ============================================================\n",
      "2022-01-18 18:58:13 INFO: Time 0:00:08.427316 taken by PreAllocateResourcesForExtraMonitorSupport\n",
      "Partitioning graph vertices\n",
      "|0%                          50%                         100%|\n",
      " ============================================================\n",
      "Partitioning graph edges\n",
      "|0%                          50%                         100%|\n",
      " ============================================================\n",
      "2022-01-18 18:58:18 INFO: Time 0:00:04.968181 taken by PartitionAndPlacePartitioner\n",
      "Created spalloc job 6254056\n",
      "2022-01-18 18:58:18 INFO: Created spalloc job 6254056\n",
      "Waiting for board power commands to complete.\n",
      "2022-01-18 18:58:18 INFO: Waiting for board power commands to complete.\n",
      "2022-01-18 18:58:23 INFO: Time 0:00:05.049036 taken by SpallocAllocator\n",
      "2022-01-18 18:58:23 INFO: Creating transceiver for 10.11.193.129\n",
      "2022-01-18 18:58:23 INFO: Working out if machine is booted\n",
      "2022-01-18 18:58:27 INFO: Attempting to boot machine\n",
      "2022-01-18 18:58:33 INFO: Found board with version [Version: SC&MP 3.2.5 at SpiNNaker:0:0:0 (built Thu Aug  1 08:15:06 2019)]\n",
      "2022-01-18 18:58:33 INFO: Machine communication successful\n",
      "2022-01-18 18:58:33 INFO: Detected a machine on IP address 10.11.193.129 which has 856 cores and 120.0 links\n",
      "2022-01-18 18:58:33 INFO: Time 0:00:09.634596 taken by MachineGenerator\n",
      "Generating partitioner report\n",
      "|0%                          50%                         100%|\n",
      " ============================================================\n",
      "2022-01-18 18:58:33 INFO: Time 0:00:00.010689 taken by PartitionerReport\n",
      "2022-01-18 18:58:33 INFO: Time 0:00:00.000348 taken by NetworkSpecificationReport\n",
      "Allocating virtual identifiers\n",
      "|0%                          50%                         100%|\n",
      " ============================================================\n",
      "2022-01-18 18:58:33 INFO: Time 0:00:00.028903 taken by MallocBasedChipIDAllocator\n",
      "Inserting extra monitors into graphs\n",
      "|0%                          50%                         100%|\n",
      " ============================================================\n",
      "2022-01-18 18:58:33 INFO: Time 0:00:00.031906 taken by InsertExtraMonitorVerticesToGraphs\n",
      "Writing the board chip report\n",
      "|0%                          50%                         100%|\n",
      " ============================================================\n",
      "2022-01-18 18:58:33 INFO: Time 0:00:00.005786 taken by BoardChipReport\n",
      "Filtering edges\n",
      "|0%                          50%                         100%|\n",
      " =======================================================/home/spinnaker/sPyNNaker/lib/python3.6/site-packages/spynnaker/pyNN/models/neural_projections/connectors/from_list_connector.py:129: VisibleDeprecationWarning: Creating an ndarray from ragged nested sequences (which is a list-or-tuple of lists-or-tuples-or ndarrays with different lengths or shapes) is deprecated. If you meant to do this, you must specify 'dtype=object' when creating the ndarray\n",
      "  sort_indices, numpy.cumsum(index_count)))\n",
      "=====\n",
      "2022-01-18 18:58:33 INFO: Time 0:00:00.034223 taken by GraphEdgeFilter\n",
      "Placing graph vertices\n",
      "|0%                          50%                         100%|\n",
      " ============================================================\n",
      "2022-01-18 18:58:33 INFO: Time 0:00:00.038208 taken by OneToOnePlacer\n",
      "Inserting edges between vertices which require FR speed up functionality.\n",
      "|0%                          50%                         100%|\n",
      " ============================================================\n",
      "2022-01-18 18:58:33 INFO: Time 0:00:00.050732 taken by InsertEdgesToExtraMonitorFunctionality\n",
      "Generating routing tables for data in system processes\n",
      "|0%                          50%                         100%|\n",
      " ============================================================\n",
      "2022-01-18 18:58:33 INFO: Time 0:00:00.009294 taken by DataInMulticastRoutingGenerator\n",
      "Generating fixed router routes\n",
      "|0%                          50%                         100%|\n",
      " ============================================================\n",
      "2022-01-18 18:58:33 INFO: Time 0:00:00.010115 taken by FixedRouteRouter\n",
      "Generating placement report\n",
      "|0%                          50%                         100%|\n",
      " ============================================================\n",
      "Generating placement by core report\n",
      "|0%                          50%                         100%|\n",
      " ============================================================\n",
      "2022-01-18 18:58:33 INFO: Time 0:00:00.091759 taken by PlacerReportWithApplicationGraph\n",
      "Routing\n",
      "|0%                          50%                         100%|\n",
      " ============================================================\n",
      "\n",
      "2022-01-18 18:58:33 INFO: Time 0:00:00.040066 taken by NerRoute\n",
      "Discovering tags\n",
      "|0%                          50%                         100%|\n",
      " ============================================================\n",
      "Allocating tags\n",
      "|0%                          50%                         100%|\n",
      " ============================================================\n",
      "2022-01-18 18:58:33 INFO: Time 0:00:00.038044 taken by BasicTagAllocator\n",
      "Reporting Tags\n",
      "|0%                          50%                         100%|\n",
      " ============================================================\n",
      "2022-01-18 18:58:33 INFO: Time 0:00:00.005330 taken by TagReport\n",
      "Getting number of keys required by each edge using application graph\n",
      "|0%                          50%                         100%|\n",
      " ============================================================\n",
      "2022-01-18 18:58:33 INFO: Time 0:00:00.027563 taken by EdgeToNKeysMapper\n",
      "Getting constraints for application graph\n",
      "|0%                          50%                         100%|\n",
      " ============================================================\n",
      "2022-01-18 18:58:33 INFO: Time 0:00:00.024883 taken by ProcessPartitionConstraints\n",
      "Allocating routing keys\n",
      "|0%                          50%                         100%|\n",
      " ============================================================\n",
      "2022-01-18 18:58:33 INFO: Time 0:00:00.013024 taken by MallocBasedRoutingInfoAllocator\n",
      "Generating Routing info report\n",
      "|0%                          50%                         100%|\n",
      " ============================================================\n",
      "2022-01-18 18:58:33 INFO: Time 0:00:00.031793 taken by routingInfoReports\n",
      "Generating routing tables\n",
      "|0%                          50%                         100%|\n",
      " ============================================================\n",
      "2022-01-18 18:58:33 INFO: Time 0:00:00.027999 taken by BasicRoutingTableGenerator\n",
      "Finding executable start types\n",
      "|0%                          50%                         100%|\n",
      " ============================================================\n",
      "2022-01-18 18:58:33 INFO: Time 0:00:00.033482 taken by LocateExecutableStartType\n",
      "Initialising buffers\n",
      "|0%                          50%                         100%|\n",
      " ============================================================\n",
      "2022-01-18 18:58:33 INFO: Time 0:00:00.044768 taken by BufferManagerCreator\n",
      "Generating data specifications\n",
      "|0%                          50%                         100%|\n",
      " ============================================================\n",
      "2022-01-18 18:58:34 INFO: Time 0:00:00.106519 taken by SpynnakerDataSpecificationWriter\n",
      "Preparing Routing Tables\n",
      "|0%                          50%                         100%|\n",
      " ============================================================\n",
      "2022-01-18 18:58:34 INFO: Time 0:00:00.007219 taken by RoutingSetup\n",
      "Finding binaries\n",
      "|0%                          50%                         100%|\n",
      " ============================================================\n",
      "2022-01-18 18:58:34 INFO: Time 0:00:00.027755 taken by GraphBinaryGatherer\n",
      "Running routing table compression on chip\n",
      "|0%                          50%                         100%|\n",
      " ============================================================\n",
      "2022-01-18 18:58:38 INFO: Time 0:00:04.520252 taken by MundyOnChipRouterCompression\n",
      "Generating Router table report\n",
      "|0%                          50%                         100%|\n",
      " ============================================================\n",
      "2022-01-18 18:58:38 INFO: Time 0:00:00.007703 taken by unCompressedRoutingTableReports\n",
      "loading fixed routes\n",
      "|0%                          50%                         100%|\n",
      " ============================================================\n",
      "2022-01-18 18:58:38 INFO: Time 0:00:00.052104 taken by LoadFixedRoutes\n",
      "Executing data specifications and loading data for system vertices\n",
      "|0%                          50%                         100%|\n",
      " ============================================================\n",
      "2022-01-18 18:58:38 INFO: Time 0:00:00.175698 taken by HostExecuteSystemDataSpecification\n",
      "Loading system executables onto the machine\n",
      "|0%                          50%                         100%|\n",
      " ============================================================\n",
      "2022-01-18 18:58:44 INFO: Time 0:00:05.718745 taken by LoadSystemExecutableImages\n",
      "Clearing tags\n",
      "|0%                          50%                         100%|\n",
      " ============================================================\n",
      "Loading Tags\n",
      "|0%                          50%                         100%|\n",
      " ============================================================\n",
      "2022-01-18 18:58:44 INFO: Time 0:00:00.018728 taken by TagsLoader\n",
      "Writing data\n",
      "|0%                          50%                         100%|\n",
      " ============================================================\n",
      "2022-01-18 18:58:44 INFO: Time 0:00:00.023129 taken by WriteMemoryIOData\n",
      "Executing data specifications and loading data for application vertices\n",
      "|0%                          50%                         100%|\n",
      " ============================================================\n",
      "2022-01-18 18:58:44 INFO: Time 0:00:00.175143 taken by HostExecuteApplicationDataSpecification\n",
      "Expanding Synapses\n",
      "|0%                          50%                         100%|\n",
      " ============================================================\n",
      "2022-01-18 18:58:45 INFO: Time 0:00:00.540236 taken by SynapseExpander\n",
      "Writing fixed route report\n",
      "|0%                          50%                         100%|\n",
      " ============================================================\n",
      "2022-01-18 18:58:45 INFO: Time 0:00:00.051795 taken by FixedRouteFromMachineReport\n",
      "Loading executables onto the machine\n",
      "|0%                          50%                         100%|\n",
      " ============================================================\n",
      "2022-01-18 18:58:54 INFO: Time 0:00:09.565146 taken by LoadApplicationExecutableImages\n",
      "Reading Routing Tables from Machine\n",
      "|0%                          50%                         100%|\n",
      " ============================================================\n",
      "2022-01-18 18:58:54 INFO: Time 0:00:00.013865 taken by RoutingTableFromMachineReport\n",
      "Generating compressed router table report\n",
      "|0%                          50%                         100%|\n",
      " ============================================================\n",
      "2022-01-18 18:58:54 INFO: Time 0:00:00.003975 taken by compressedRoutingTableReports\n",
      "Generating comparison of router table report\n",
      "|0%                          50%                         100%|\n",
      " ============================================================\n",
      "2022-01-18 18:58:54 INFO: Time 0:00:00.008720 taken by comparisonOfRoutingTablesReport\n",
      "2022-01-18 18:58:54 INFO: Running for 1 steps for a total of 250.0ms\n",
      "2022-01-18 18:58:55 INFO: Run 1 of 1\n",
      "Generating SDRAM usage report\n",
      "|0%                          50%                         100%|\n",
      " ============================================================\n",
      "2022-01-18 18:58:55 INFO: Time 0:00:00.063376 taken by SdramUsageReportPerChip\n",
      "Updating run time\n",
      "|0%                          50%                         100%|\n",
      " ============================================================\n",
      "2022-01-18 18:58:55 INFO: Time 0:00:00.028429 taken by ChipRuntimeUpdater\n",
      "2022-01-18 18:58:55 INFO: creating live event connection database in /home/spinnaker/CNT-2022/SpiNNaker/application_generated_data_files/2022-01-18-18-57-56-224672/run_1/input_output_database.db\n",
      "Creating graph description database\n",
      "|0%                          50%                         100%|\n",
      " ============================================================\n",
      "2022-01-18 18:58:55 INFO: Time 0:00:00.057570 taken by DatabaseInterface\n",
      "2022-01-18 18:58:55 INFO: ** Notifying external sources that the database is ready for reading **\n",
      "2022-01-18 18:58:55 INFO: Time 0:00:00.000821 taken by NotificationProtocol\n",
      "2022-01-18 18:58:55 INFO: *** Running simulation... *** \n",
      "Loading buffers\n",
      "|0%                          50%                         100%|\n",
      " ============================================================\n",
      "2022-01-18 18:58:55 INFO: ** Awaiting for a response from an external source to state its ready for the simulation to start **\n",
      "2022-01-18 18:58:55 INFO: ** Sending start / resume message to external sources to state the simulation has started or resumed. **\n",
      "2022-01-18 18:58:55 INFO: ** Awaiting for a response from an external source to state its ready for the simulation to start **\n",
      "2022-01-18 18:58:55 INFO: Application started; waiting 0.35s for it to stop\n",
      "2022-01-18 18:58:55 INFO: ** Sending pause / stop message to external sources to state the simulation has been paused or stopped. **\n",
      "2022-01-18 18:58:55 INFO: Time 0:00:00.449353 taken by ApplicationRunner\n",
      "Extracting buffers from the last run\n",
      "|0%                          50%                         100%|\n",
      " ============================================================\n",
      "2022-01-18 18:58:55 INFO: Time 0:00:00.242641 taken by BufferExtractor\n",
      "Getting provenance data from machine graph\n",
      "|0%                          50%                         100%|\n",
      " ============================================================\n",
      "Getting provenance data from application graph\n",
      "|0%                          50%                         100%|\n",
      " ============================================================\n",
      "2022-01-18 18:58:55 INFO: Time 0:00:00.068278 taken by GraphProvenanceGatherer\n",
      "Getting provenance data\n",
      "|0%                          50%                         100%|\n",
      " ============================================================\n",
      "2022-01-18 18:58:55 INFO: Time 0:00:00.026356 taken by PlacementsProvenanceGatherer\n",
      "Getting Router Provenance\n",
      "|0%                          50%                         100%|\n",
      " ============================================================\n",
      "2022-01-18 18:58:56 INFO: Time 0:00:00.285194 taken by RouterProvenanceGatherer\n",
      "Getting profile data\n",
      "|0%                          50%                         100%|\n",
      " ============================================================\n",
      "2022-01-18 18:58:56 INFO: Time 0:00:00.022920 taken by ProfileDataGatherer\n"
     ]
    },
    {
     "data": {
      "text/plain": [
       "250.0"
      ]
     },
     "execution_count": 10,
     "metadata": {},
     "output_type": "execute_result"
    }
   ],
   "source": [
    "# run simulation\n",
    "\n",
    "sim.run(simtime) "
   ]
  },
  {
   "cell_type": "code",
   "execution_count": 11,
   "metadata": {},
   "outputs": [
    {
     "name": "stderr",
     "output_type": "stream",
     "text": [
      "Getting spikes for Exc\n",
      "|0%                          50%                         100%|\n",
      " ============================================================\n",
      "Getting v for Exc\n",
      "|0%                          50%                         100%|\n",
      " ============================================================\n",
      "Getting gsyn_exc for Exc\n",
      "|0%                          50%                         100%|\n",
      " ============================================================\n",
      "Getting gsyn_inh for Exc\n",
      "|0%                          50%                         100%|\n",
      " ============================================================\n",
      "Getting spikes for Exc\n",
      "|0%                          50%                         100%|\n",
      " ============================================================\n",
      "Getting v for Exc\n",
      "|0%                          50%                         100%|\n",
      " ============================================================\n",
      "Getting gsyn_exc for Exc\n",
      "|0%                          50%                         100%|\n",
      " ============================================================\n",
      "Getting gsyn_inh for Exc\n",
      "|0%                          50%                         100%|\n",
      " ============================================================\n",
      "Getting spikes for Exc\n",
      "|0%                          50%                         100%|\n",
      " ============================================================\n",
      "Getting v for Exc\n",
      "|0%                          50%                         100%|\n",
      " ============================================================\n",
      "Getting gsyn_exc for Exc\n",
      "|0%                          50%                         100%|\n",
      " ============================================================\n",
      "Getting gsyn_inh for Exc\n",
      "|0%                          50%                         100%|\n",
      " ============================================================\n",
      "Getting spikes for Exc\n",
      "|0%                          50%                         100%|\n",
      " ============================================================\n",
      "Getting v for Exc\n",
      "|0%                          50%                         100%|\n",
      " ============================================================\n",
      "Getting gsyn_exc for Exc\n",
      "|0%                          50%                         100%|\n",
      " ============================================================\n",
      "Getting gsyn_inh for Exc\n",
      "|0%                          50%                         100%|\n",
      " ============================================================\n",
      "Getting spikes for Exc\n",
      "|0%                          50%                         100%|\n",
      " ============================================================\n",
      "Getting v for Exc\n",
      "|0%                          50%                         100%|\n",
      " ============================================================\n",
      "Getting gsyn_exc for Exc\n",
      "|0%                          50%                         100%|\n",
      " ============================================================\n",
      "Getting gsyn_inh for Exc\n",
      "|0%                          50%                         100%|\n",
      " ============================================================\n",
      "Getting spikes for Inh\n",
      "|0%                          50%                         100%|\n",
      " ============================================================\n",
      "Getting v for Inh\n",
      "|0%                          50%                         100%|\n",
      " ============================================================\n",
      "2022-01-18 18:58:56 WARNING: Warning getting data on a whole population when selective recording is active will result in only the requested neurons being returned in numerical order and without repeats.\n",
      "Getting gsyn_exc for Inh\n",
      "|0%                          50%                         100%|\n",
      " ============================================================\n",
      "Getting gsyn_inh for Inh\n",
      "|0%                          50%                         100%|\n",
      " ============================================================\n",
      "Getting spikes for Inh\n",
      "|0%                          50%                         100%|\n",
      " ============================================================\n",
      "Getting v for Inh\n",
      "|0%                          50%                         100%|\n",
      " ============================================================\n",
      "Getting gsyn_exc for Inh\n",
      "|0%                          50%                         100%|\n",
      " ============================================================\n",
      "Getting gsyn_inh for Inh\n",
      "|0%                          50%                         100%|\n",
      " ============================================================\n",
      "Getting spikes for Inh\n",
      "|0%                          50%                         100%|\n",
      " ============================================================\n",
      "Getting v for Inh\n",
      "|0%                          50%                         100%|\n",
      " ============================================================\n",
      "Getting gsyn_exc for Inh\n",
      "|0%                          50%                         100%|\n",
      " ============================================================\n",
      "Getting gsyn_inh for Inh\n",
      "|0%                          50%                         100%|\n",
      " ============================================================\n",
      "Getting spikes for Inh\n",
      "|0%                          50%                         100%|\n",
      " ============================================================\n",
      "Getting v for Inh\n",
      "|0%                          50%                         100%|\n",
      " ============================================================\n",
      "Getting gsyn_exc for Inh\n",
      "|0%                          50%                         100%|\n",
      " ============================================================\n",
      "Getting gsyn_inh for Inh\n",
      "|0%                          50%                         100%|\n",
      " ============================================================\n",
      "Getting spikes for Inh\n",
      "|0%                          50%                         100%|\n",
      " ============================================================\n",
      "Getting v for Inh\n",
      "|0%                          50%                         100%|\n",
      " ============================================================\n",
      "Getting gsyn_exc for Inh\n",
      "|0%                          50%                         100%|\n",
      " ============================================================\n",
      "Getting gsyn_inh for Inh\n",
      "|0%                          50%                         100%|\n",
      " ============================================================\n"
     ]
    }
   ],
   "source": [
    "# save the results\n",
    "outputs = {}\n",
    "\n",
    "for layer in ['Exc', 'Inh']:\n",
    "    outputs[layer] = pops[layer].get_data()\n",
    "    for recording in ['v', 'gsyn_inh', 'gsyn_exc', 'spikes']:\n",
    "        pops[layer].write_data(fileName + '_' + str(layer) + '_' + str(recording) + '.pkl')"
   ]
  },
  {
   "cell_type": "code",
   "execution_count": 12,
   "metadata": {},
   "outputs": [
    {
     "name": "stdout",
     "output_type": "stream",
     "text": [
      "v\n",
      "gsyn_exc\n",
      "gsyn_inh\n",
      "v\n",
      "gsyn_exc\n",
      "gsyn_inh\n"
     ]
    },
    {
     "data": {
      "text/plain": [
       "dict_keys([('Exc', 'v'), ('Exc', 'gsyn_exc'), ('Exc', 'gsyn_inh'), ('Exc', 'spikes'), ('Inh', 'v'), ('Inh', 'gsyn_exc'), ('Inh', 'gsyn_inh'), ('Inh', 'spikes')])"
      ]
     },
     "execution_count": 12,
     "metadata": {},
     "output_type": "execute_result"
    }
   ],
   "source": [
    "# check results\n",
    "\n",
    "def recover_results(outputs):\n",
    "    results = {}\n",
    "    for key in outputs.keys(): # to extract the name of the layer, e.g., Exc, Inh, Thalamus, etc  \n",
    "        \n",
    "        # to get voltage and conductances\n",
    "        for analogsignal in outputs[key].segments[0].analogsignals:\n",
    "            print(analogsignal.name)\n",
    "            results[key, analogsignal.name] = analogsignal\n",
    "\n",
    "        # to get spikes\n",
    "        results[key, 'spikes'] = outputs[key].segments[0].spiketrains\n",
    "    return results\n",
    "\n",
    "results = recover_results(outputs)\n",
    "results.keys()"
   ]
  },
  {
   "cell_type": "code",
   "execution_count": 13,
   "metadata": {},
   "outputs": [
    {
     "data": {
      "application/vnd.jupyter.widget-view+json": {
       "model_id": "72fc857784fb4771a2e8c2b698ed6b92",
       "version_major": 2,
       "version_minor": 0
      },
      "text/plain": [
       "Canvas(toolbar=Toolbar(toolitems=[('Home', 'Reset original view', 'home', 'home'), ('Back', 'Back to previous …"
      ]
     },
     "metadata": {},
     "output_type": "display_data"
    }
   ],
   "source": [
    "# check the spikes\n",
    "\n",
    "fig, axes = plt.subplots(2, 1, figsize=(9,9))\n",
    "fig.tight_layout(pad=5)\n",
    "axes_list = fig.axes\n",
    "\n",
    "for idx, value in enumerate(['Exc', 'Inh']):\n",
    "    axes_list[idx].eventplot(results[value, 'spikes'])\n",
    "    axes_list[idx].eventplot(spike_times, color='r')\n",
    "    axes_list[idx].set_title('rasterplot of ' + str(value) + ' layer')\n",
    "    axes_list[idx].set_xlabel('[ms]')\n",
    "    axes_list[idx].set_ylabel('cells')\n",
    "    axes_list[idx].set_xlim(0, simtime)\n"
   ]
  },
  {
   "cell_type": "code",
   "execution_count": 14,
   "metadata": {},
   "outputs": [
    {
     "data": {
      "application/vnd.jupyter.widget-view+json": {
       "model_id": "902c426580ff40c08d840f8a2fb87624",
       "version_major": 2,
       "version_minor": 0
      },
      "text/plain": [
       "Canvas(toolbar=Toolbar(toolitems=[('Home', 'Reset original view', 'home', 'home'), ('Back', 'Back to previous …"
      ]
     },
     "metadata": {},
     "output_type": "display_data"
    }
   ],
   "source": [
    "# check the voltage\n",
    "\n",
    "fig, axes = plt.subplots(2, 1, figsize=(9,9))\n",
    "fig.tight_layout(pad=4)\n",
    "\n",
    "axes_list = fig.axes\n",
    "\n",
    "for idx, value in enumerate(['Exc', 'Inh']):\n",
    "    im = axes_list[idx].imshow(results[value, 'v'].T)\n",
    "    axes_list[idx].set_title('voltage of ' + str(value) + ' layer')\n",
    "    axes_list[idx].set_xlabel('time [ms]')\n",
    "    axes_list[idx].set_ylabel('cells')\n",
    "    fig.colorbar(im, ax=axes_list[idx], fraction=0.010, label='[mV]')"
   ]
  },
  {
   "cell_type": "code",
   "execution_count": 15,
   "metadata": {},
   "outputs": [
    {
     "data": {
      "application/vnd.jupyter.widget-view+json": {
       "model_id": "4a0844b7e0d442209d163ae520a2d9c7",
       "version_major": 2,
       "version_minor": 0
      },
      "text/plain": [
       "Canvas(toolbar=Toolbar(toolitems=[('Home', 'Reset original view', 'home', 'home'), ('Back', 'Back to previous …"
      ]
     },
     "metadata": {},
     "output_type": "display_data"
    },
    {
     "data": {
      "application/vnd.jupyter.widget-view+json": {
       "model_id": "5121f5cb37c747239e54156b0fb97728",
       "version_major": 2,
       "version_minor": 0
      },
      "text/plain": [
       "Canvas(toolbar=Toolbar(toolitems=[('Home', 'Reset original view', 'home', 'home'), ('Back', 'Back to previous …"
      ]
     },
     "metadata": {},
     "output_type": "display_data"
    }
   ],
   "source": [
    "# check the conductances\n",
    "\n",
    "for layer in ['Exc', 'Inh']:\n",
    "    fig, axes = plt.subplots(2, 1, figsize=(9,9))\n",
    "    fig.tight_layout(pad=4)\n",
    "    fig.suptitle(str(layer) + ' layer')\n",
    "    axes_list = fig.axes\n",
    "    \n",
    "    for idx, gsyn in enumerate(['gsyn_exc', 'gsyn_inh']):\n",
    "        im = axes_list[idx].imshow(results[layer, gsyn].T)\n",
    "        axes_list[idx].set_title(str(gsyn))\n",
    "        axes_list[idx].set_xlabel('time [ms]')\n",
    "        axes_list[idx].set_ylabel('cells')\n",
    "        fig.colorbar(im, ax=axes_list[idx], fraction=0.010, label='[uS]')"
   ]
  },
  {
   "cell_type": "code",
   "execution_count": 16,
   "metadata": {},
   "outputs": [],
   "source": [
    "# end simulation\n",
    "\n",
    "sim.end()"
   ]
  },
  {
   "cell_type": "markdown",
   "metadata": {},
   "source": [
    "# task 1: on the stimulus\n",
    "\n",
    "- go to the notebook cell '# make the thalamic input sources' and design and test a new type of thalamic input (e.g., more/sparser input cells, etc)\n",
    "- find the critical limit of sequential spikes to get the network spiking"
   ]
  },
  {
   "cell_type": "markdown",
   "metadata": {},
   "source": [
    "# task 2: on the state variables\n",
    " \n",
    "- why does the condunctance related to inhibitory of the inhibitory layer is equal to zero?"
   ]
  },
  {
   "cell_type": "code",
   "execution_count": null,
   "metadata": {},
   "outputs": [],
   "source": []
  },
  {
   "cell_type": "code",
   "execution_count": null,
   "metadata": {},
   "outputs": [],
   "source": []
  },
  {
   "cell_type": "code",
   "execution_count": null,
   "metadata": {},
   "outputs": [],
   "source": []
  }
 ],
 "metadata": {
  "kernelspec": {
   "display_name": "sPyNNaker",
   "language": "python",
   "name": "spynnaker"
  },
  "language_info": {
   "codemirror_mode": {
    "name": "ipython",
    "version": 3
   },
   "file_extension": ".py",
   "mimetype": "text/x-python",
   "name": "python",
   "nbconvert_exporter": "python",
   "pygments_lexer": "ipython3",
   "version": "3.6.9"
  }
 },
 "nbformat": 4,
 "nbformat_minor": 4
}
