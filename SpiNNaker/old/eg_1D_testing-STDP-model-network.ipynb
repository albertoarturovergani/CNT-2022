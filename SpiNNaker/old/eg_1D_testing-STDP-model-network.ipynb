{
 "cells": [
  {
   "cell_type": "markdown",
   "metadata": {},
   "source": [
    "# 1D testing STDP model network\n",
    "\n",
    "http://www.scholarpedia.org/article/Spike-timing_dependent_plasticity\n",
    "\n",
    "STDP can be seen as a spike-based formulation of a Hebbian learning rule. "
   ]
  },
  {
   "cell_type": "code",
   "execution_count": 1,
   "metadata": {},
   "outputs": [],
   "source": [
    "# fileName\n",
    "\n",
    "fileName = 'eg_1D_testing-STDP-model-network'"
   ]
  },
  {
   "cell_type": "code",
   "execution_count": 2,
   "metadata": {},
   "outputs": [
    {
     "name": "stdout",
     "output_type": "stream",
     "text": [
      "Detected PyNN version 0.9.4 and Neo version 0.6.1\n"
     ]
    }
   ],
   "source": [
    "# libs\n",
    "\n",
    "import pyNN.spiNNaker as sim\n",
    "from pyNN import space \n",
    "import numpy as np\n",
    "import matplotlib.pyplot as plt\n"
   ]
  },
  {
   "cell_type": "code",
   "execution_count": 3,
   "metadata": {},
   "outputs": [
    {
     "name": "stderr",
     "output_type": "stream",
     "text": [
      "2021-04-23 09:49:46 INFO: Read cfg files: /home/spinnaker/sPyNNaker/lib/python3.6/site-packages/spinn_front_end_common/interface/spinnaker.cfg, /home/spinnaker/sPyNNaker/lib/python3.6/site-packages/spynnaker/pyNN/spynnaker.cfg, /home/spinnaker/.spynnaker.cfg\n",
      "2021-04-23 09:49:46 INFO: Will search these locations for binaries: /home/spinnaker/sPyNNaker/lib/python3.6/site-packages/spinn_front_end_common/common_model_binaries : /home/spinnaker/sPyNNaker/lib/python3.6/site-packages/spynnaker/pyNN/model_binaries\n",
      "2021-04-23 09:49:46 WARNING: /home/spinnaker/CNT-2021/SpiNNaker/reports has 7 old reports that have not been closed\n",
      "2021-04-23 09:49:46 WARNING: /home/spinnaker/CNT-2021/SpiNNaker/application_generated_data_files has 8 old reports that have not been closed\n",
      "2021-04-23 09:49:46 INFO: Setting time scale factor to 1.\n",
      "2021-04-23 09:49:46 INFO: Setting machine time step to 1000 micro-seconds.\n"
     ]
    },
    {
     "name": "stdout",
     "output_type": "stream",
     "text": [
      "['/home/spinnaker/sPyNNaker/lib/python3.6/site-packages/spinn_front_end_common/interface/spinnaker.cfg', '/home/spinnaker/sPyNNaker/lib/python3.6/site-packages/spynnaker/pyNN/spynnaker.cfg', '/home/spinnaker/.spynnaker.cfg']\n"
     ]
    }
   ],
   "source": [
    "# simulation settings\n",
    "\n",
    "sim.setup(\n",
    "        timestep=1, # [ms]\n",
    "        min_delay=1, # [ms]\n",
    "        max_delay=100) # [ms]\n",
    "\n",
    "simtime = 250 # [ms+]\n",
    "\n"
   ]
  },
  {
   "cell_type": "markdown",
   "metadata": {},
   "source": [
    "## make the network"
   ]
  },
  {
   "cell_type": "code",
   "execution_count": 4,
   "metadata": {},
   "outputs": [
    {
     "name": "stderr",
     "output_type": "stream",
     "text": [
      "2021-04-23 09:49:48 WARNING: Formal PyNN specifies that v should be set using initial_values not cell_params\n",
      "2021-04-23 09:49:48 WARNING: Formal PyNN specifies that isyn_exc should be set using initial_values not cell_params\n",
      "2021-04-23 09:49:48 WARNING: Formal PyNN specifies that isyn_inh should be set using initial_values not cell_params\n",
      "2021-04-23 09:49:48 WARNING: Formal PyNN specifies that v should be set using initial_values not cell_params\n",
      "2021-04-23 09:49:48 WARNING: Formal PyNN specifies that isyn_exc should be set using initial_values not cell_params\n",
      "2021-04-23 09:49:48 WARNING: Formal PyNN specifies that isyn_inh should be set using initial_values not cell_params\n",
      "2021-04-23 09:49:48 WARNING: You are trying to record the excitatory conductance from a model which does not use conductance input. You will receive current measurements instead.\n",
      "2021-04-23 09:49:48 WARNING: You are trying to record the inhibitory conductance from a model which does not use conductance input. You will receive current measurements instead.\n"
     ]
    },
    {
     "data": {
      "text/plain": [
       "dict_keys(['pre', 'post'])"
      ]
     },
     "execution_count": 4,
     "metadata": {},
     "output_type": "execute_result"
    }
   ],
   "source": [
    "# define make_pop\n",
    "\n",
    "pops = {}\n",
    "\n",
    "pops['pre'] = sim.Population(\n",
    "                        1, # one cell in each cell model\n",
    "                        sim.IF_curr_exp,\n",
    "                        cellparams=sim.IF_curr_exp.default_initial_values, # std pars used\n",
    "                        structure = space.Line(dx=1.0, x0=0.0, y=0.0, z=0.0),\n",
    "                        initial_values=None,\n",
    "                        label='network',\n",
    "                        constraints=None,\n",
    "                        additional_parameters=None,\n",
    "                        )\n",
    "                        \n",
    "pops['post'] = sim.Population(\n",
    "                        1, # one cell in each cell model\n",
    "                        sim.IF_curr_exp,\n",
    "                        cellparams=sim.IF_curr_exp.default_initial_values, # std pars used\n",
    "                        structure = space.Line(dx=1.0, x0=0.0, y=0.0, z=0.0),\n",
    "                        initial_values=None,\n",
    "                        label='network',\n",
    "                        constraints=None,\n",
    "                        additional_parameters=None,\n",
    "                        )\n",
    "\n",
    "pops['pre'].record(['spikes', 'v', 'gsyn_exc', 'gsyn_inh'])\n",
    "pops['post'].record(['spikes', 'v', 'gsyn_exc', 'gsyn_inh'])\n",
    "\n",
    "\n",
    "\n",
    "pops.keys()"
   ]
  },
  {
   "cell_type": "markdown",
   "metadata": {},
   "source": [
    "## make the thalamic input stimulus"
   ]
  },
  {
   "cell_type": "code",
   "execution_count": 5,
   "metadata": {},
   "outputs": [
    {
     "data": {
      "text/plain": [
       "dict_keys(['pre', 'post', 'thalamus-pre', 'thalamus-post'])"
      ]
     },
     "execution_count": 5,
     "metadata": {},
     "output_type": "execute_result"
    }
   ],
   "source": [
    "\n",
    "pops['thalamus-pre'] = sim.Population(1, \n",
    "                            sim.SpikeSourceArray([0, 10, 30, 40, 50, 60, 70, 80, 90, 110, 120]),\n",
    "                            structure = space.Line(dx=1.0, x0=0.0, y=0.0, z=0.0),\n",
    "                            )    \n",
    "\n",
    "pops['thalamus-post'] = sim.Population(1, \n",
    "                             sim.SpikeSourceArray([32, 42, 52, 62, 72, 82, 92]),\n",
    "                             structure = space.Line(dx=1.0, x0=0.0, y=0.0, z=0.0))\n",
    "\n",
    "pops['thalamus-post'].record('spikes')\n",
    "pops['thalamus-pre'].record('spikes')\n",
    "\n",
    "\n",
    "pops.keys()"
   ]
  },
  {
   "cell_type": "markdown",
   "metadata": {},
   "source": [
    "## make learning rule between pre and post syn cells"
   ]
  },
  {
   "cell_type": "code",
   "execution_count": 6,
   "metadata": {},
   "outputs": [
    {
     "data": {
      "text/plain": [
       "dict_keys([('pre', 'post')])"
      ]
     },
     "execution_count": 6,
     "metadata": {},
     "output_type": "execute_result"
    }
   ],
   "source": [
    "timing = sim.SpikePairRule(tau_plus=10.0, \n",
    "                           tau_minus=1.0, \n",
    "                           A_plus=0.5, \n",
    "                           A_minus=0.5)\n",
    "\n",
    "weight = sim.AdditiveWeightDependence(w_max=5.0, w_min=0.0) # range of learnig #nA\n",
    "\n",
    "\n",
    "projs = {}\n",
    "projs['pre', 'post'] = sim.Projection(pops['pre'], pops['post'], \n",
    "                                      sim.OneToOneConnector(), \n",
    "                                      sim.STDPMechanism(\n",
    "                                          timing_dependence=timing, \n",
    "                                          weight_dependence=weight, \n",
    "                                          weight=0.0, \n",
    "                                          delay=5.0))\n",
    "\n",
    "projs.keys()"
   ]
  },
  {
   "cell_type": "markdown",
   "metadata": {},
   "source": [
    "## make the thalamic - pops projections"
   ]
  },
  {
   "cell_type": "code",
   "execution_count": 7,
   "metadata": {},
   "outputs": [
    {
     "data": {
      "text/plain": [
       "dict_keys([('pre', 'post'), ('thalamus-pre', 'pre'), ('thalamus-post', 'post')])"
      ]
     },
     "execution_count": 7,
     "metadata": {},
     "output_type": "execute_result"
    }
   ],
   "source": [
    "\n",
    "projs['thalamus-pre', 'pre'] = sim.Projection(\n",
    "                                    pops['thalamus-pre'],\n",
    "                                    pops['pre'],\n",
    "                                    sim.OneToOneConnector(),\n",
    "                                    synapse_type=sim.StaticSynapse(weight=5),#, delay=None),\n",
    "                                    receptor_type = 'excitatory',\n",
    "                                    space = space.Space(axes = 'x'),\n",
    "                                    label=None,\n",
    "                                )\n",
    "\n",
    "\n",
    "projs['thalamus-post', 'post'] = sim.Projection(\n",
    "                                    pops['thalamus-post'],\n",
    "                                    pops['post'],\n",
    "                                    sim.OneToOneConnector(),\n",
    "                                    synapse_type=sim.StaticSynapse(weight=5),#, delay=1.0),\n",
    "                                    receptor_type = 'excitatory',\n",
    "                                    space = space.Space(axes = 'x'),\n",
    "                                    label=None,\n",
    "                                )\n",
    "\n",
    "\n",
    "\n",
    "projs.keys()"
   ]
  },
  {
   "cell_type": "markdown",
   "metadata": {},
   "source": [
    "## run the simulation"
   ]
  },
  {
   "cell_type": "code",
   "execution_count": 8,
   "metadata": {},
   "outputs": [
    {
     "name": "stderr",
     "output_type": "stream",
     "text": [
      "2021-04-23 09:50:03 INFO: Simulating for 250 1.0ms timesteps using a hardware timestep of 1000us\n",
      "2021-04-23 09:50:03 INFO: Starting execution process\n",
      "2021-04-23 09:50:06 INFO: Time 0:00:03.192795 taken by SpallocMaxMachineGenerator\n",
      "Pre allocating resources for Extra Monitor support vertices\n",
      "|0%                          50%                         100%|\n",
      " ============================================================\n",
      "2021-04-23 09:50:14 INFO: Time 0:00:08.190313 taken by PreAllocateResourcesForExtraMonitorSupport\n",
      "Partitioning graph vertices\n",
      "|0%                          50%                         100%|\n",
      " ============================================================\n",
      "Partitioning graph edges\n",
      "|0%                          50%                         100%|\n",
      " ============================================================\n",
      "2021-04-23 09:50:19 INFO: Time 0:00:04.914239 taken by PartitionAndPlacePartitioner\n",
      "Created spalloc job 5964117\n",
      "2021-04-23 09:50:19 INFO: Created spalloc job 5964117\n",
      "Waiting for board power commands to complete.\n",
      "2021-04-23 09:50:19 INFO: Waiting for board power commands to complete.\n",
      "2021-04-23 09:50:24 INFO: Time 0:00:05.048356 taken by SpallocAllocator\n",
      "2021-04-23 09:50:24 INFO: Creating transceiver for 10.11.194.145\n",
      "2021-04-23 09:50:24 INFO: Working out if machine is booted\n",
      "2021-04-23 09:50:28 INFO: Attempting to boot machine\n",
      "2021-04-23 09:50:34 INFO: Found board with version [Version: SC&MP 3.2.5 at SpiNNaker:0:0:0 (built Thu Aug  1 08:15:06 2019)]\n",
      "2021-04-23 09:50:34 INFO: Machine communication successful\n",
      "2021-04-23 09:50:34 INFO: Detected a machine on IP address 10.11.194.145 which has 856 cores and 120.0 links\n",
      "2021-04-23 09:50:34 INFO: Time 0:00:09.632157 taken by MachineGenerator\n",
      "Generating partitioner report\n",
      "|0%                          50%                         100%|\n",
      " ============================================================\n",
      "2021-04-23 09:50:34 INFO: Time 0:00:00.008609 taken by PartitionerReport\n",
      "2021-04-23 09:50:34 INFO: Time 0:00:00.000263 taken by NetworkSpecificationReport\n",
      "Allocating virtual identifiers\n",
      "|0%                          50%                         100%|\n",
      " ============================================================\n",
      "2021-04-23 09:50:34 INFO: Time 0:00:00.047358 taken by MallocBasedChipIDAllocator\n",
      "Inserting extra monitors into graphs\n",
      "|0%                          50%                         100%|\n",
      " ============================================================\n",
      "2021-04-23 09:50:34 INFO: Time 0:00:00.040435 taken by InsertExtraMonitorVerticesToGraphs\n",
      "Writing the board chip report\n",
      "|0%                          50%                         100%|\n",
      " ============================================================\n",
      "2021-04-23 09:50:34 INFO: Time 0:00:00.007377 taken by BoardChipReport\n",
      "Filtering edges\n",
      "|0%                          50%                         100%|\n",
      " ============================================================\n",
      "2021-04-23 09:50:34 INFO: Time 0:00:00.029826 taken by GraphEdgeFilter\n",
      "Placing graph vertices\n",
      "|0%                          50%                         100%|\n",
      " ============================================================\n",
      "2021-04-23 09:50:34 INFO: Time 0:00:00.033289 taken by OneToOnePlacer\n",
      "Inserting edges between vertices which require FR speed up functionality.\n",
      "|0%                          50%                         100%|\n",
      " ============================================================\n",
      "2021-04-23 09:50:34 INFO: Time 0:00:00.048506 taken by InsertEdgesToExtraMonitorFunctionality\n",
      "Generating routing tables for data in system processes\n",
      "|0%                          50%                         100%|\n",
      " ============================================================\n",
      "2021-04-23 09:50:34 INFO: Time 0:00:00.015221 taken by DataInMulticastRoutingGenerator\n",
      "Generating fixed router routes\n",
      "|0%                          50%                         100%|\n",
      " ============================================================\n",
      "2021-04-23 09:50:34 INFO: Time 0:00:00.013764 taken by FixedRouteRouter\n",
      "Generating placement report\n",
      "|0%                          50%                         100%|\n",
      " ============================================================\n",
      "Generating placement by core report\n",
      "|0%                          50%                         100%|\n",
      " ============================================================\n",
      "2021-04-23 09:50:34 INFO: Time 0:00:00.064368 taken by PlacerReportWithApplicationGraph\n",
      "Routing\n",
      "|0%                          50%                         100%|\n",
      " ============================================================\n",
      "\n",
      "2021-04-23 09:50:34 INFO: Time 0:00:00.029075 taken by NerRoute\n",
      "Discovering tags\n",
      "|0%                          50%                         100%|\n",
      " ============================================================\n",
      "Allocating tags\n",
      "|0%                          50%                         100%|\n",
      " ============================================================\n",
      "2021-04-23 09:50:34 INFO: Time 0:00:00.033824 taken by BasicTagAllocator\n",
      "Reporting Tags\n",
      "|0%                          50%                         100%|\n",
      " ============================================================\n",
      "2021-04-23 09:50:34 INFO: Time 0:00:00.011160 taken by TagReport\n",
      "Getting number of keys required by each edge using application graph\n",
      "|0%                          50%                         100%|\n",
      " ============================================================\n",
      "2021-04-23 09:50:34 INFO: Time 0:00:00.042327 taken by EdgeToNKeysMapper\n",
      "Getting constraints for application graph\n",
      "|0%                          50%                         100%|\n",
      " ============================================================\n",
      "2021-04-23 09:50:34 INFO: Time 0:00:00.024016 taken by ProcessPartitionConstraints\n",
      "Allocating routing keys\n",
      "|0%                          50%                         100%|\n",
      " ============================================================\n",
      "2021-04-23 09:50:34 INFO: Time 0:00:00.012679 taken by MallocBasedRoutingInfoAllocator\n",
      "Generating Routing info report\n",
      "|0%                          50%                         100%|\n",
      " ============================================================\n",
      "2021-04-23 09:50:34 INFO: Time 0:00:00.030742 taken by routingInfoReports\n",
      "Generating routing tables\n",
      "|0%                          50%                         100%|\n",
      " ============================================================\n",
      "2021-04-23 09:50:34 INFO: Time 0:00:00.031463 taken by BasicRoutingTableGenerator\n",
      "Finding executable start types\n",
      "|0%                          50%                         100%|\n",
      " ============================================================\n",
      "2021-04-23 09:50:34 INFO: Time 0:00:00.032632 taken by LocateExecutableStartType\n",
      "Initialising buffers\n",
      "|0%                          50%                         100%|\n",
      " ============================================================\n",
      "2021-04-23 09:50:34 INFO: Time 0:00:00.028284 taken by BufferManagerCreator\n",
      "Generating data specifications\n",
      "|0%                          50%                         100%|\n",
      " ============================================================\n",
      "2021-04-23 09:50:35 INFO: Time 0:00:00.078618 taken by SpynnakerDataSpecificationWriter\n",
      "Preparing Routing Tables\n",
      "|0%                          50%                         100%|\n",
      " ============================================================\n",
      "2021-04-23 09:50:35 INFO: Time 0:00:00.010263 taken by RoutingSetup\n",
      "Finding binaries\n",
      "|0%                          50%                         100%|\n",
      " ============================================================\n",
      "2021-04-23 09:50:35 INFO: Time 0:00:00.033837 taken by GraphBinaryGatherer\n",
      "Running routing table compression on chip\n",
      "|0%                          50%                         100%|\n",
      " ============================================================\n",
      "2021-04-23 09:50:39 INFO: Time 0:00:04.517872 taken by MundyOnChipRouterCompression\n",
      "Generating Router table report\n",
      "|0%                          50%                         100%|\n",
      " ============================================================\n",
      "2021-04-23 09:50:39 INFO: Time 0:00:00.005818 taken by unCompressedRoutingTableReports\n",
      "loading fixed routes\n",
      "|0%                          50%                         100%|\n",
      " ============================================================\n",
      "2021-04-23 09:50:39 INFO: Time 0:00:00.042347 taken by LoadFixedRoutes\n",
      "Executing data specifications and loading data for system vertices\n",
      "|0%                          50%                         100%|\n",
      " ============================================================\n",
      "2021-04-23 09:50:39 INFO: Time 0:00:00.149939 taken by HostExecuteSystemDataSpecification\n",
      "Loading system executables onto the machine\n",
      "|0%                          50%                         100%|\n",
      " ============================================================\n",
      "2021-04-23 09:50:45 INFO: Time 0:00:05.721896 taken by LoadSystemExecutableImages\n",
      "Clearing tags\n",
      "|0%                          50%                         100%|\n",
      " ============================================================\n",
      "Loading Tags\n",
      "|0%                          50%                         100%|\n",
      " ============================================================\n",
      "2021-04-23 09:50:45 INFO: Time 0:00:00.015727 taken by TagsLoader\n",
      "Writing data\n",
      "|0%                          50%                         100%|\n",
      " ============================================================\n",
      "2021-04-23 09:50:45 INFO: Time 0:00:00.027476 taken by WriteMemoryIOData\n",
      "Executing data specifications and loading data for application vertices\n",
      "|0%                          50%                         100%|\n",
      " ============================================================\n",
      "2021-04-23 09:50:45 INFO: Time 0:00:00.152955 taken by HostExecuteApplicationDataSpecification\n",
      "Expanding Synapses\n",
      "|0%                          50%                         100%|\n",
      " ============================================================\n",
      "2021-04-23 09:50:46 INFO: Time 0:00:00.538585 taken by SynapseExpander\n",
      "Writing fixed route report\n",
      "|0%                          50%                         100%|\n",
      " ============================================================\n",
      "2021-04-23 09:50:46 INFO: Time 0:00:00.041643 taken by FixedRouteFromMachineReport\n",
      "Loading executables onto the machine\n",
      "|0%                          50%                         100%|\n",
      " ============================================================\n",
      "2021-04-23 09:50:56 INFO: Time 0:00:10.300705 taken by LoadApplicationExecutableImages\n",
      "Reading Routing Tables from Machine\n",
      "|0%                          50%                         100%|\n",
      " ============================================================\n",
      "2021-04-23 09:50:56 INFO: Time 0:00:00.012030 taken by RoutingTableFromMachineReport\n",
      "Generating compressed router table report\n",
      "|0%                          50%                         100%|\n",
      " ============================================================\n",
      "2021-04-23 09:50:56 INFO: Time 0:00:00.004884 taken by compressedRoutingTableReports\n",
      "Generating comparison of router table report\n",
      "|0%                          50%                         100%|\n",
      " ============================================================\n",
      "2021-04-23 09:50:56 INFO: Time 0:00:00.004951 taken by comparisonOfRoutingTablesReport\n",
      "2021-04-23 09:50:56 INFO: Running for 1 steps for a total of 250.0ms\n",
      "2021-04-23 09:50:56 INFO: Run 1 of 1\n",
      "Generating SDRAM usage report\n",
      "|0%                          50%                         100%|\n",
      " ============================================================\n",
      "2021-04-23 09:50:56 INFO: Time 0:00:00.065999 taken by SdramUsageReportPerChip\n",
      "Updating run time\n",
      "|0%                          50%                         100%|\n",
      " ============================================================\n",
      "2021-04-23 09:50:56 INFO: Time 0:00:00.029572 taken by ChipRuntimeUpdater\n",
      "2021-04-23 09:50:56 INFO: creating live event connection database in /home/spinnaker/CNT-2021/SpiNNaker/application_generated_data_files/2021-04-23-09-49-46-781768/run_1/input_output_database.db\n",
      "Creating graph description database\n",
      "|0%                          50%                         100%|\n",
      " ============================================================\n",
      "2021-04-23 09:50:56 INFO: Time 0:00:00.051711 taken by DatabaseInterface\n",
      "2021-04-23 09:50:56 INFO: ** Notifying external sources that the database is ready for reading **\n",
      "2021-04-23 09:50:56 INFO: Time 0:00:00.000894 taken by NotificationProtocol\n",
      "2021-04-23 09:50:56 INFO: *** Running simulation... *** \n",
      "Loading buffers\n",
      "|0%                          50%                         100%|\n",
      " ============================================================\n",
      "2021-04-23 09:50:56 INFO: ** Awaiting for a response from an external source to state its ready for the simulation to start **\n",
      "2021-04-23 09:50:56 INFO: ** Sending start / resume message to external sources to state the simulation has started or resumed. **\n",
      "2021-04-23 09:50:56 INFO: ** Awaiting for a response from an external source to state its ready for the simulation to start **\n",
      "2021-04-23 09:50:56 INFO: Application started; waiting 0.35s for it to stop\n",
      "2021-04-23 09:50:57 INFO: ** Sending pause / stop message to external sources to state the simulation has been paused or stopped. **\n",
      "2021-04-23 09:50:57 INFO: Time 0:00:00.442364 taken by ApplicationRunner\n",
      "Extracting buffers from the last run\n",
      "|0%                          50%                         100%|\n",
      " ============================================================\n",
      "2021-04-23 09:50:57 INFO: Time 0:00:00.121442 taken by BufferExtractor\n",
      "Getting provenance data from machine graph\n",
      "|0%                          50%                         100%|\n",
      " ============================================================\n",
      "Getting provenance data from application graph\n",
      "|0%                          50%                         100%|\n",
      " ============================================================\n",
      "2021-04-23 09:50:57 INFO: Time 0:00:00.077273 taken by GraphProvenanceGatherer\n",
      "Getting provenance data\n",
      "|0%                          50%                         100%|\n",
      " ============================================================\n",
      "2021-04-23 09:50:57 INFO: Time 0:00:00.032788 taken by PlacementsProvenanceGatherer\n",
      "Getting Router Provenance\n",
      "|0%                          50%                         100%|\n",
      " ============================================================\n",
      "2021-04-23 09:50:57 INFO: Time 0:00:00.052860 taken by RouterProvenanceGatherer\n",
      "Getting profile data\n",
      "|0%                          50%                         100%|\n",
      " ============================================================\n",
      "2021-04-23 09:50:57 INFO: Time 0:00:00.031814 taken by ProfileDataGatherer\n"
     ]
    },
    {
     "data": {
      "text/plain": [
       "250.0"
      ]
     },
     "execution_count": 8,
     "metadata": {},
     "output_type": "execute_result"
    }
   ],
   "source": [
    "sim.run(simtime) "
   ]
  },
  {
   "cell_type": "code",
   "execution_count": 21,
   "metadata": {},
   "outputs": [
    {
     "name": "stderr",
     "output_type": "stream",
     "text": [
      "Getting spikes for network1\n",
      "|0%                          50%                         100%|\n",
      " ============================================================\n",
      "Getting v for network1\n",
      "|0%                          50%                         100%|\n",
      " ============================================================\n",
      "Getting gsyn_exc for network1\n",
      "|0%                          50%                         100%|\n",
      " ============================================================\n",
      "Getting gsyn_inh for network1\n",
      "|0%                          50%                         100%|\n",
      " ============================================================\n"
     ]
    },
    {
     "data": {
      "text/plain": [
       "[<SpikeTrain(array([ 39.,  46.,  55.,  60.,  65.,  69.,  74.,  78.,  83.,  88.,  93.,\n",
       "         98., 117., 128.]) * ms, [0.0 ms, 250.0 ms])>]"
      ]
     },
     "execution_count": 21,
     "metadata": {},
     "output_type": "execute_result"
    }
   ],
   "source": [
    "outputs = pops['post'].get_data()\n",
    "outputs.segments[0].spiketrains"
   ]
  },
  {
   "cell_type": "markdown",
   "metadata": {},
   "source": [
    "## save results"
   ]
  },
  {
   "cell_type": "code",
   "execution_count": null,
   "metadata": {},
   "outputs": [],
   "source": [
    "# save the results\n",
    "\n",
    "outputs = {}\n",
    "\n",
    "for syn in ['pre', 'post', 'thalamus-pre', 'thalamus-post']:\n",
    "    \n",
    "    outputs[syn] = pops[syn].get_data()\n",
    "    \n",
    "    for recording in ['v', 'gsyn_inh', 'gsyn_exc', 'spikes']:\n",
    "        pops[syn].write_data(fileName + '_' + str(recording) + '.pkl')\n"
   ]
  },
  {
   "cell_type": "markdown",
   "metadata": {},
   "source": [
    "## recover results"
   ]
  },
  {
   "cell_type": "code",
   "execution_count": null,
   "metadata": {},
   "outputs": [],
   "source": [
    "# make the recover results function\n",
    "\n",
    "def recover_results(outputs):\n",
    "    results = {}\n",
    "    for key in outputs.keys(): \n",
    "        \n",
    "        # to get voltage and conductances\n",
    "        for analogsignal in outputs[key].segments[0].analogsignals:\n",
    "            print(analogsignal.name)\n",
    "            results[key, analogsignal.name] = analogsignal\n",
    "\n",
    "        # to get spikes\n",
    "        results[key, 'spikes'] = outputs[key].segments[0].spiketrains\n",
    "    return results\n"
   ]
  },
  {
   "cell_type": "code",
   "execution_count": null,
   "metadata": {},
   "outputs": [],
   "source": []
  },
  {
   "cell_type": "code",
   "execution_count": null,
   "metadata": {},
   "outputs": [],
   "source": [
    "# recover results\n",
    "\n",
    "results = recover_results(outputs)\n",
    "results.keys()"
   ]
  },
  {
   "cell_type": "code",
   "execution_count": null,
   "metadata": {},
   "outputs": [],
   "source": [
    "results.keys()"
   ]
  },
  {
   "cell_type": "markdown",
   "metadata": {},
   "source": [
    "## check the spikes"
   ]
  },
  {
   "cell_type": "code",
   "execution_count": null,
   "metadata": {},
   "outputs": [],
   "source": [
    "fig, axes = plt.subplots(1,1)\n",
    "fig.tight_layout(pad=5)\n",
    "axes_list = fig.axes\n",
    "\n",
    "\n",
    "axes_list[0].eventplot(results['thalamus-pre', 'spikes'], label='thalamus-pre', color='r')\n",
    "axes_list[0].eventplot(results['thalamus-post', 'spikes'], label='thalamus-post', color='b')\n",
    "axes_list[0].set_title('thalamic spikes')\n",
    "axes_list[0].set_xlabel('[ms]')\n",
    "axes_list[0].set_ylabel('cells ID')\n",
    "axes_list[0].set_xlim(0,simtime)\n",
    "#axes_list[0].set_ylim(0,2)\n",
    "axes_list[0].legend()\n",
    "\n",
    "\n",
    "fig, axes = plt.subplots(1,1)\n",
    "fig.tight_layout(pad=5)\n",
    "axes_list = fig.axes\n",
    "axes_list[0].eventplot(results['pre', 'spikes'], label='pre', color='k')\n",
    "axes_list[0].eventplot(results['post', 'spikes'], label='post', color='g')\n",
    "axes_list[0].set_xlabel('[ms]')\n",
    "axes_list[0].set_title('cells spikes')\n",
    "axes_list[0].set_xlim(0,simtime)\n",
    "axes_list[0].legend()\n",
    "axes_list[0].set_xlabel('[ms]')\n",
    "axes_list[0].set_ylabel('cells ID')\n",
    "\n",
    "\n"
   ]
  },
  {
   "cell_type": "markdown",
   "metadata": {},
   "source": [
    "## check the voltage signature"
   ]
  },
  {
   "cell_type": "code",
   "execution_count": null,
   "metadata": {},
   "outputs": [],
   "source": [
    "fig, axes = plt.subplots(2, 1, sharex=True, sharey=False)#, figsize=(11,7))\n",
    "fig.tight_layout(pad=3)\n",
    "fig.suptitle('voltage signature in pre and post synaptic cells')\n",
    "\n",
    "axes_list = fig.axes\n",
    "for idx, syn in enumerate(['pre', 'post']):\n",
    "    axes_list[idx].plot(results[syn, 'v'], label=str(syn))\n",
    "    axes_list[idx].legend()"
   ]
  },
  {
   "cell_type": "code",
   "execution_count": null,
   "metadata": {},
   "outputs": [],
   "source": [
    "fig, axes = plt.subplots(2, 1, sharex=True, sharey=False)#, figsize=(11,7))\n",
    "fig.tight_layout(pad=3)\n",
    "fig.suptitle('gsyn_exc signature in pre and post synaptic cells')\n",
    "\n",
    "axes_list = fig.axes\n",
    "idx = 0\n",
    "for idx, syn in enumerate(['pre', 'post']):\n",
    "    axes_list[idx].plot(results[syn, 'gsyn_exc'], label=str(syn))\n",
    "    axes_list[idx].legend()"
   ]
  },
  {
   "cell_type": "code",
   "execution_count": null,
   "metadata": {},
   "outputs": [],
   "source": [
    "fig, axes = plt.subplots(2, 1, sharex=True, sharey=False)#, figsize=(11,7))\n",
    "fig.tight_layout(pad=3)\n",
    "fig.suptitle('gsyn_inh signature in pre and post synaptic cells')\n",
    "\n",
    "axes_list = fig.axes\n",
    "idx = 0\n",
    "for idx, syn in enumerate(['pre', 'post']):\n",
    "    axes_list[idx].plot(results[syn, 'gsyn_inh'], label=str(syn))\n",
    "    axes_list[idx].legend()"
   ]
  },
  {
   "cell_type": "markdown",
   "metadata": {},
   "source": [
    "## check the STDP between pre and post cells"
   ]
  },
  {
   "cell_type": "code",
   "execution_count": null,
   "metadata": {},
   "outputs": [],
   "source": [
    "projs.keys()"
   ]
  },
  {
   "cell_type": "code",
   "execution_count": null,
   "metadata": {},
   "outputs": [],
   "source": [
    "#projs['pre', 'post'].get(['source', 'target', 'weight', 'delay'], \"list\")\n",
    "projs['pre', 'post'].getWeights()\n",
    "\n",
    "# the weight between pre and post neuron was set to zero before the learning, now it's .."
   ]
  },
  {
   "cell_type": "markdown",
   "metadata": {},
   "source": [
    "## end the simulations"
   ]
  },
  {
   "cell_type": "code",
   "execution_count": null,
   "metadata": {},
   "outputs": [],
   "source": [
    "sim.end()"
   ]
  },
  {
   "cell_type": "markdown",
   "metadata": {},
   "source": [
    "# task1: on thalamus input spike times\n",
    "- test different interspike timing <br>\n",
    "  e.g., <br>\n",
    "    a=np.arange(0,100,10) for the thalamus-pre <br>\n",
    "    a+15 for the thalamus post <br>\n",
    "    \n",
    "- test only one spike source eliciting the pre synaptic cell<br>\n",
    "  remember to set the starting weight > 0, otherwise the post synaptic doesn't learn"
   ]
  },
  {
   "cell_type": "markdown",
   "metadata": {},
   "source": [
    "# task2: on STDP mechanism\n",
    "- try to change the parameter inside the SpikePairRule\n",
    "\n"
   ]
  },
  {
   "cell_type": "code",
   "execution_count": null,
   "metadata": {},
   "outputs": [],
   "source": []
  }
 ],
 "metadata": {
  "kernelspec": {
   "display_name": "Python 3",
   "language": "python",
   "name": "python3"
  },
  "language_info": {
   "codemirror_mode": {
    "name": "ipython",
    "version": 3
   },
   "file_extension": ".py",
   "mimetype": "text/x-python",
   "name": "python",
   "nbconvert_exporter": "python",
   "pygments_lexer": "ipython3",
   "version": "3.9.4"
  }
 },
 "nbformat": 4,
 "nbformat_minor": 4
}
