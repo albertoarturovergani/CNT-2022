{
 "cells": [
  {
   "cell_type": "markdown",
   "metadata": {},
   "source": [
    "# eg_test-balance function\n",
    "## from Balanced Random Cortex-like Network (Hard)\n"
   ]
  },
  {
   "cell_type": "code",
   "execution_count": 8,
   "metadata": {},
   "outputs": [],
   "source": [
    "n_neurons = 100"
   ]
  },
  {
   "cell_type": "code",
   "execution_count": 9,
   "metadata": {},
   "outputs": [
    {
     "name": "stderr",
     "output_type": "stream",
     "text": [
      "2021-04-29 07:40:33 INFO: Resetting\n",
      "2021-04-29 07:40:33 INFO: Read cfg files: /home/spinnaker/sPyNNaker/lib/python3.6/site-packages/spinn_front_end_common/interface/spinnaker.cfg, /home/spinnaker/sPyNNaker/lib/python3.6/site-packages/spynnaker/pyNN/spynnaker.cfg, /home/spinnaker/.spynnaker.cfg\n",
      "2021-04-29 07:40:33 INFO: Will search these locations for binaries: /home/spinnaker/sPyNNaker/lib/python3.6/site-packages/spinn_front_end_common/common_model_binaries : /home/spinnaker/sPyNNaker/lib/python3.6/site-packages/spynnaker/pyNN/model_binaries\n",
      "2021-04-29 07:40:33 WARNING: /home/spinnaker/CNT-2021/SpiNNaker/reports has 9 old reports that have not been closed\n",
      "2021-04-29 07:40:33 WARNING: /home/spinnaker/CNT-2021/SpiNNaker/application_generated_data_files has 10 old reports that have not been closed\n",
      "2021-04-29 07:40:33 INFO: Setting time scale factor to 1.\n",
      "2021-04-29 07:40:33 INFO: Setting machine time step to 1000 micro-seconds.\n"
     ]
    },
    {
     "name": "stdout",
     "output_type": "stream",
     "text": [
      "['/home/spinnaker/sPyNNaker/lib/python3.6/site-packages/spinn_front_end_common/interface/spinnaker.cfg', '/home/spinnaker/sPyNNaker/lib/python3.6/site-packages/spynnaker/pyNN/spynnaker.cfg', '/home/spinnaker/.spynnaker.cfg']\n"
     ]
    },
    {
     "data": {
      "text/plain": [
       "0"
      ]
     },
     "execution_count": 9,
     "metadata": {},
     "output_type": "execute_result"
    }
   ],
   "source": [
    "import pyNN.spiNNaker as p\n",
    "p.setup(1)"
   ]
  },
  {
   "cell_type": "code",
   "execution_count": 10,
   "metadata": {},
   "outputs": [],
   "source": [
    "exc = p.Population(int(n_neurons * 0.8), p.IF_curr_exp())\n",
    "inh = p.Population(int(n_neurons * 0.2), p.IF_curr_exp())"
   ]
  },
  {
   "cell_type": "code",
   "execution_count": 11,
   "metadata": {},
   "outputs": [],
   "source": [
    "exc_poisson = p.Population(int(n_neurons * 0.8), p.SpikeSourcePoisson(rate=1000.0))\n",
    "inh_poisson = p.Population(int(n_neurons * 0.2), p.SpikeSourcePoisson(rate=1000.0))"
   ]
  },
  {
   "cell_type": "code",
   "execution_count": 12,
   "metadata": {},
   "outputs": [
    {
     "data": {
      "text/plain": [
       "projection from pre SpikeSourcePoissonVertex_3 to post AbstractPopulationVertex_1 with connector OneToOneConnector()"
      ]
     },
     "execution_count": 12,
     "metadata": {},
     "output_type": "execute_result"
    }
   ],
   "source": [
    "p.Projection(exc_poisson, exc, p.OneToOneConnector(), p.StaticSynapse(weight=0.11, delay=1.0), receptor_type=\"excitatory\")"
   ]
  },
  {
   "cell_type": "code",
   "execution_count": 13,
   "metadata": {},
   "outputs": [
    {
     "data": {
      "text/plain": [
       "projection from pre SpikeSourcePoissonVertex_4 to post AbstractPopulationVertex_2 with connector OneToOneConnector()"
      ]
     },
     "execution_count": 13,
     "metadata": {},
     "output_type": "execute_result"
    }
   ],
   "source": [
    "p.Projection(inh_poisson, inh, p.OneToOneConnector(), p.StaticSynapse(weight=0.11, delay=1.0), receptor_type=\"excitatory\")"
   ]
  },
  {
   "cell_type": "code",
   "execution_count": 14,
   "metadata": {},
   "outputs": [
    {
     "data": {
      "text/plain": [
       "projection from pre AbstractPopulationVertex_1 to post AbstractPopulationVertex_2 with connector FixedProbabilityConnector(0.1)"
      ]
     },
     "execution_count": 14,
     "metadata": {},
     "output_type": "execute_result"
    }
   ],
   "source": [
    "import numpy\n",
    "exc_weights = p.RandomDistribution(\"normal_clipped\", mu=0.1, sigma=0.1, low=0, high=numpy.inf)\n",
    "exc_delays = p.RandomDistribution(\"normal_clipped\", mu=1.5, sigma=0.75, low=0.1, high=14.4)\n",
    "p.Projection(exc, exc, p.FixedProbabilityConnector(0.1), p.StaticSynapse(weight=exc_weights, delay=exc_delays), receptor_type=\"excitatory\")\n",
    "p.Projection(exc, inh, p.FixedProbabilityConnector(0.1), p.StaticSynapse(weight=exc_weights, delay=exc_delays), receptor_type=\"excitatory\")"
   ]
  },
  {
   "cell_type": "code",
   "execution_count": 15,
   "metadata": {},
   "outputs": [
    {
     "data": {
      "text/plain": [
       "projection from pre AbstractPopulationVertex_2 to post AbstractPopulationVertex_1 with connector FixedProbabilityConnector(0.1)"
      ]
     },
     "execution_count": 15,
     "metadata": {},
     "output_type": "execute_result"
    }
   ],
   "source": [
    "inh_weights = p.RandomDistribution(\"normal_clipped\", mu=0.4, sigma=0.1, low=0, high=numpy.inf)\n",
    "inh_delays = p.RandomDistribution(\"normal_clipped\", mu=1.5, sigma=0.75, low=0.1, high=14.4)\n",
    "p.Projection(inh, inh, p.FixedProbabilityConnector(0.1), p.StaticSynapse(weight=inh_weights, delay=inh_delays), receptor_type=\"inhibitory\")\n",
    "p.Projection(inh, exc, p.FixedProbabilityConnector(0.1), p.StaticSynapse(weight=inh_weights, delay=inh_delays), receptor_type=\"inhibitory\")"
   ]
  },
  {
   "cell_type": "code",
   "execution_count": 16,
   "metadata": {},
   "outputs": [],
   "source": [
    "exc.initialize(v=p.RandomDistribution(\"uniform\", low=-65.0, high=-55.0))\n",
    "inh.initialize(v=p.RandomDistribution(\"uniform\", low=-65.0, high=-55.0))"
   ]
  },
  {
   "cell_type": "code",
   "execution_count": 17,
   "metadata": {},
   "outputs": [
    {
     "name": "stderr",
     "output_type": "stream",
     "text": [
      "2021-04-29 07:40:35 WARNING: You are trying to record the excitatory conductance from a model which does not use conductance input. You will receive current measurements instead.\n",
      "2021-04-29 07:40:35 WARNING: You are trying to record the inhibitory conductance from a model which does not use conductance input. You will receive current measurements instead.\n"
     ]
    }
   ],
   "source": [
    "exc.record([\"spikes\", \"v\", \"gsyn_exc\", \"gsyn_inh\"])\n",
    "inh.record([\"spikes\", \"v\", \"gsyn_exc\", \"gsyn_inh\"])"
   ]
  },
  {
   "cell_type": "code",
   "execution_count": 18,
   "metadata": {},
   "outputs": [
    {
     "name": "stderr",
     "output_type": "stream",
     "text": [
      "2021-04-29 07:40:36 INFO: Simulating for 1000 1.0ms timesteps using a hardware timestep of 1000us\n",
      "2021-04-29 07:40:36 INFO: Starting execution process\n",
      "2021-04-29 07:40:39 INFO: Time 0:00:03.067581 taken by SpallocMaxMachineGenerator\n",
      "Pre allocating resources for Extra Monitor support vertices\n",
      "|0%                          50%                         100%|\n",
      " ============================================================\n",
      "2021-04-29 07:40:47 INFO: Time 0:00:08.014422 taken by PreAllocateResourcesForExtraMonitorSupport\n",
      "Partitioning graph vertices\n",
      "|0%                          50%                         100%|\n",
      " ============================================================\n",
      "Partitioning graph edges\n",
      "|0%                          50%                         100%|\n",
      " ============================================================\n",
      "2021-04-29 07:40:52 INFO: Time 0:00:04.847549 taken by PartitionAndPlacePartitioner\n",
      "Created spalloc job 5969446\n",
      "2021-04-29 07:40:52 INFO: Created spalloc job 5969446\n",
      "Waiting for board power commands to complete.\n",
      "2021-04-29 07:40:52 INFO: Waiting for board power commands to complete.\n",
      "2021-04-29 07:40:57 INFO: Time 0:00:05.051958 taken by SpallocAllocator\n",
      "2021-04-29 07:40:57 INFO: Creating transceiver for 10.11.197.25\n",
      "2021-04-29 07:40:57 INFO: Working out if machine is booted\n",
      "2021-04-29 07:41:01 INFO: Attempting to boot machine\n",
      "2021-04-29 07:41:06 INFO: Found board with version [Version: SC&MP 3.2.5 at SpiNNaker:0:0:0 (built Thu Aug  1 08:15:06 2019)]\n",
      "2021-04-29 07:41:06 INFO: Machine communication successful\n",
      "2021-04-29 07:41:06 INFO: Detected a machine on IP address 10.11.197.25 which has 838 cores and 114.0 links\n",
      "2021-04-29 07:41:06 INFO: Time 0:00:09.634810 taken by MachineGenerator\n",
      "Generating partitioner report\n",
      "|0%                          50%                         100%|\n",
      " ============================================================\n",
      "2021-04-29 07:41:06 INFO: Time 0:00:00.006147 taken by PartitionerReport\n",
      "2021-04-29 07:41:06 INFO: Time 0:00:00.000234 taken by NetworkSpecificationReport\n",
      "Allocating virtual identifiers\n",
      "|0%                          50%                         100%|\n",
      " ============================================================\n",
      "2021-04-29 07:41:06 INFO: Time 0:00:00.023975 taken by MallocBasedChipIDAllocator\n",
      "Inserting extra monitors into graphs\n",
      "|0%                          50%                         100%|\n",
      " ============================================================\n",
      "2021-04-29 07:41:06 INFO: Time 0:00:00.034254 taken by InsertExtraMonitorVerticesToGraphs\n",
      "Writing the board chip report\n",
      "|0%                          50%                         100%|\n",
      " ============================================================\n",
      "2021-04-29 07:41:06 INFO: Time 0:00:00.007095 taken by BoardChipReport\n",
      "Filtering edges\n",
      "|0%                          50%                         100%|\n",
      " ============================================================\n",
      "2021-04-29 07:41:06 INFO: Time 0:00:00.031360 taken by GraphEdgeFilter\n",
      "Placing graph vertices\n",
      "|0%                          50%                         100%|\n",
      " ============================================================\n",
      "2021-04-29 07:41:06 INFO: Time 0:00:00.036567 taken by OneToOnePlacer\n",
      "Inserting edges between vertices which require FR speed up functionality.\n",
      "|0%                          50%                         100%|\n",
      " ============================================================\n",
      "2021-04-29 07:41:06 INFO: Time 0:00:00.066510 taken by InsertEdgesToExtraMonitorFunctionality\n",
      "Generating routing tables for data in system processes\n",
      "|0%                          50%                         100%|\n",
      " ============================================================\n",
      "2021-04-29 07:41:06 INFO: Time 0:00:00.009361 taken by DataInMulticastRoutingGenerator\n",
      "Generating fixed router routes\n",
      "|0%                          50%                         100%|\n",
      " ============================================================\n",
      "2021-04-29 07:41:06 INFO: Time 0:00:00.008966 taken by FixedRouteRouter\n",
      "Generating placement report\n",
      "|0%                          50%                         100%|\n",
      " ============================================================\n",
      "Generating placement by core report\n",
      "|0%                          50%                         100%|\n",
      " ============================================================\n",
      "2021-04-29 07:41:06 INFO: Time 0:00:00.051069 taken by PlacerReportWithApplicationGraph\n",
      "Routing\n",
      "|0%                          50%                         100%|\n",
      " ============================================================\n",
      "\n",
      "2021-04-29 07:41:07 INFO: Time 0:00:00.028935 taken by NerRoute\n",
      "Discovering tags\n",
      "|0%                          50%                         100%|\n",
      " ============================================================\n",
      "Allocating tags\n",
      "|0%                          50%                         100%|\n",
      " ============================================================\n",
      "2021-04-29 07:41:07 INFO: Time 0:00:00.040129 taken by BasicTagAllocator\n",
      "Reporting Tags\n",
      "|0%                          50%                         100%|\n",
      " ============================================================\n",
      "2021-04-29 07:41:07 INFO: Time 0:00:00.009849 taken by TagReport\n",
      "Getting number of keys required by each edge using application graph\n",
      "|0%                          50%                         100%|\n",
      " ============================================================\n",
      "2021-04-29 07:41:07 INFO: Time 0:00:00.028670 taken by EdgeToNKeysMapper\n",
      "Getting constraints for application graph\n",
      "|0%                          50%                         100%|\n",
      " ============================================================\n",
      "2021-04-29 07:41:07 INFO: Time 0:00:00.031456 taken by ProcessPartitionConstraints\n",
      "Allocating routing keys\n",
      "|0%                          50%                         100%|\n",
      " ============================================================\n",
      "2021-04-29 07:41:07 INFO: Time 0:00:00.008945 taken by MallocBasedRoutingInfoAllocator\n",
      "Generating Routing info report\n",
      "|0%                          50%                         100%|\n",
      " ============================================================\n",
      "2021-04-29 07:41:07 INFO: Time 0:00:00.026720 taken by routingInfoReports\n",
      "Generating routing tables\n",
      "|0%                          50%                         100%|\n",
      " ============================================================\n",
      "2021-04-29 07:41:07 INFO: Time 0:00:00.030335 taken by BasicRoutingTableGenerator\n",
      "Finding executable start types\n",
      "|0%                          50%                         100%|\n",
      " ============================================================\n",
      "2021-04-29 07:41:07 INFO: Time 0:00:00.026913 taken by LocateExecutableStartType\n",
      "Initialising buffers\n",
      "|0%                          50%                         100%|\n",
      " ============================================================\n",
      "2021-04-29 07:41:07 INFO: Time 0:00:00.032181 taken by BufferManagerCreator\n",
      "Generating data specifications\n",
      "|0%                          50%                         100%|\n",
      " ============================================================\n",
      "2021-04-29 07:41:07 INFO: Time 0:00:00.127588 taken by SpynnakerDataSpecificationWriter\n",
      "Preparing Routing Tables\n",
      "|0%                          50%                         100%|\n",
      " ============================================================\n",
      "2021-04-29 07:41:07 INFO: Time 0:00:00.011151 taken by RoutingSetup\n",
      "Finding binaries\n",
      "|0%                          50%                         100%|\n",
      " ============================================================\n",
      "2021-04-29 07:41:07 INFO: Time 0:00:00.035249 taken by GraphBinaryGatherer\n",
      "Running routing table compression on chip\n",
      "|0%                          50%                         100%|\n",
      " ============================================================\n",
      "2021-04-29 07:41:12 INFO: Time 0:00:04.522257 taken by MundyOnChipRouterCompression\n",
      "Generating Router table report\n",
      "|0%                          50%                         100%|\n",
      " ============================================================\n",
      "2021-04-29 07:41:12 INFO: Time 0:00:00.007015 taken by unCompressedRoutingTableReports\n",
      "loading fixed routes\n",
      "|0%                          50%                         100%|\n",
      " ============================================================\n",
      "2021-04-29 07:41:12 INFO: Time 0:00:00.042066 taken by LoadFixedRoutes\n",
      "Executing data specifications and loading data for system vertices\n",
      "|0%                          50%                         100%|\n",
      " ============================================================\n",
      "2021-04-29 07:41:12 INFO: Time 0:00:00.136111 taken by HostExecuteSystemDataSpecification\n",
      "Loading system executables onto the machine\n",
      "|0%                          50%                         100%|\n",
      " ============================================================\n",
      "2021-04-29 07:41:17 INFO: Time 0:00:05.720495 taken by LoadSystemExecutableImages\n",
      "Clearing tags\n",
      "|0%                          50%                         100%|\n",
      " ============================================================\n",
      "Loading Tags\n",
      "|0%                          50%                         100%|\n",
      " ============================================================\n",
      "2021-04-29 07:41:17 INFO: Time 0:00:00.023967 taken by TagsLoader\n",
      "Writing data\n",
      "|0%                          50%                         100%|\n",
      " ============================================================\n",
      "2021-04-29 07:41:17 INFO: Time 0:00:00.032425 taken by WriteMemoryIOData\n",
      "Executing data specifications and loading data for application vertices\n",
      "|0%                          50%                         100%|\n",
      " ============================================================\n",
      "2021-04-29 07:41:18 INFO: Time 0:00:00.162690 taken by HostExecuteApplicationDataSpecification\n",
      "Expanding Synapses\n",
      "|0%                          50%                         100%|\n",
      " ============================================================\n",
      "2021-04-29 07:41:22 INFO: Time 0:00:03.882078 taken by SynapseExpander\n",
      "Writing fixed route report\n",
      "|0%                          50%                         100%|\n",
      " ============================================================\n",
      "2021-04-29 07:41:22 INFO: Time 0:00:00.050453 taken by FixedRouteFromMachineReport\n",
      "Loading executables onto the machine\n",
      "|0%                          50%                         100%|\n",
      " ============================================================\n",
      "2021-04-29 07:41:28 INFO: Time 0:00:06.861440 taken by LoadApplicationExecutableImages\n",
      "Reading Routing Tables from Machine\n",
      "|0%                          50%                         100%|\n",
      " ============================================================\n",
      "2021-04-29 07:41:28 INFO: Time 0:00:00.009943 taken by RoutingTableFromMachineReport\n",
      "Generating compressed router table report\n",
      "|0%                          50%                         100%|\n",
      " ============================================================\n",
      "2021-04-29 07:41:28 INFO: Time 0:00:00.006127 taken by compressedRoutingTableReports\n",
      "Generating comparison of router table report\n",
      "|0%                          50%                         100%|\n",
      " ============================================================\n",
      "2021-04-29 07:41:28 INFO: Time 0:00:00.003978 taken by comparisonOfRoutingTablesReport\n",
      "2021-04-29 07:41:28 INFO: Running for 1 steps for a total of 1000.0ms\n",
      "2021-04-29 07:41:28 INFO: Run 1 of 1\n",
      "Generating SDRAM usage report\n",
      "|0%                          50%                         100%|\n",
      " ============================================================\n",
      "2021-04-29 07:41:29 INFO: Time 0:00:00.063286 taken by SdramUsageReportPerChip\n",
      "Updating run time\n",
      "|0%                          50%                         100%|\n",
      " ============================================================\n",
      "2021-04-29 07:41:29 INFO: Time 0:00:00.029892 taken by ChipRuntimeUpdater\n",
      "2021-04-29 07:41:29 INFO: creating live event connection database in /home/spinnaker/CNT-2021/SpiNNaker/application_generated_data_files/2021-04-29-07-40-33-850409/run_1/input_output_database.db\n",
      "Creating graph description database\n",
      "|0%                          50%                         100%|\n",
      " ============================================================\n",
      "2021-04-29 07:41:29 INFO: Time 0:00:00.054116 taken by DatabaseInterface\n",
      "2021-04-29 07:41:29 INFO: ** Notifying external sources that the database is ready for reading **\n",
      "2021-04-29 07:41:29 INFO: Time 0:00:00.000776 taken by NotificationProtocol\n",
      "2021-04-29 07:41:29 INFO: *** Running simulation... *** \n",
      "Loading buffers\n",
      "|0%                          50%                         100%|\n",
      " ============================================================\n",
      "2021-04-29 07:41:29 INFO: ** Awaiting for a response from an external source to state its ready for the simulation to start **\n",
      "2021-04-29 07:41:29 INFO: ** Sending start / resume message to external sources to state the simulation has started or resumed. **\n",
      "2021-04-29 07:41:29 INFO: ** Awaiting for a response from an external source to state its ready for the simulation to start **\n",
      "2021-04-29 07:41:29 INFO: Application started; waiting 1.1s for it to stop\n",
      "2021-04-29 07:41:30 INFO: ** Sending pause / stop message to external sources to state the simulation has been paused or stopped. **\n",
      "2021-04-29 07:41:30 INFO: Time 0:00:01.188647 taken by ApplicationRunner\n",
      "Extracting buffers from the last run\n",
      "|0%                          50%                         100%|\n",
      " ============================================================\n",
      "2021-04-29 07:41:30 INFO: Time 0:00:00.367627 taken by BufferExtractor\n",
      "Getting provenance data from machine graph\n",
      "|0%                          50%                         100%|\n",
      " ============================================================\n",
      "Getting provenance data from application graph\n",
      "|0%                          50%                         100%|\n",
      " ============================================================\n",
      "2021-04-29 07:41:30 INFO: Time 0:00:00.078582 taken by GraphProvenanceGatherer\n",
      "Getting provenance data\n",
      "|0%                          50%                         100%|\n",
      " ============================================================\n",
      "2021-04-29 07:41:30 INFO: Time 0:00:00.033602 taken by PlacementsProvenanceGatherer\n",
      "Getting Router Provenance\n",
      "|0%                          50%                         100%|\n",
      " ============================================================\n",
      "2021-04-29 07:41:30 INFO: Time 0:00:00.054605 taken by RouterProvenanceGatherer\n",
      "Getting profile data\n",
      "|0%                          50%                         100%|\n",
      " ============================================================\n",
      "2021-04-29 07:41:30 INFO: Time 0:00:00.027992 taken by ProfileDataGatherer\n"
     ]
    },
    {
     "data": {
      "text/plain": [
       "1000.0"
      ]
     },
     "execution_count": 18,
     "metadata": {},
     "output_type": "execute_result"
    }
   ],
   "source": [
    "p.run(1000)"
   ]
  },
  {
   "cell_type": "code",
   "execution_count": 19,
   "metadata": {},
   "outputs": [],
   "source": [
    "def recover_results(outputs):\n",
    "    results = {}\n",
    "\n",
    "    # to get voltage and conductances\n",
    "    for analogsignal in outputs.segments[0].analogsignals:\n",
    "        print(analogsignal.name)\n",
    "        results[analogsignal.name] = analogsignal\n",
    "\n",
    "    # to get spikes\n",
    "    results['spikes'] = outputs.segments[0].spiketrains\n",
    "    return results"
   ]
  },
  {
   "cell_type": "code",
   "execution_count": 20,
   "metadata": {},
   "outputs": [
    {
     "name": "stderr",
     "output_type": "stream",
     "text": [
      "Getting spikes for AbstractPopulationVertex_1\n",
      "|0%                          50%                         100%|\n",
      " ============================================================\n",
      "Getting v for AbstractPopulationVertex_1\n",
      "|0%                          50%                         100%|\n",
      " ============================================================\n",
      "Getting gsyn_exc for AbstractPopulationVertex_1\n",
      "|0%                          50%                         100%|\n",
      " ============================================================\n",
      "Getting gsyn_inh for AbstractPopulationVertex_1\n",
      "|0%                          50%                         100%|\n",
      " ============================================================\n"
     ]
    },
    {
     "name": "stdout",
     "output_type": "stream",
     "text": [
      "v\n",
      "gsyn_exc\n",
      "gsyn_inh\n"
     ]
    }
   ],
   "source": [
    "results = recover_results(exc.get_data())"
   ]
  },
  {
   "cell_type": "code",
   "execution_count": 21,
   "metadata": {},
   "outputs": [
    {
     "data": {
      "text/plain": [
       "dict_keys(['v', 'gsyn_exc', 'gsyn_inh', 'spikes'])"
      ]
     },
     "execution_count": 21,
     "metadata": {},
     "output_type": "execute_result"
    }
   ],
   "source": [
    "results.keys()  \n",
    "    "
   ]
  },
  {
   "cell_type": "code",
   "execution_count": 22,
   "metadata": {},
   "outputs": [],
   "source": [
    "import numpy as np\n",
    "\n",
    "# compute the averaged mean instantanous population balance (AMIPB)\n",
    "def computeBalance(results):\n",
    "    \n",
    "    # compute the instantanous population balance \n",
    "    balance = []\n",
    "    for t in range(time):\n",
    "        for c in range(cells):\n",
    "            gsyn_tot = results['gsyn_exc'][t,c] + results['gsyn_inh'][t,c]\n",
    "            balance += [results['gsyn_exc'][t,c] / gsyn_tot]\n",
    "    balance = np.asarray(balance).reshape(time, cells)\n",
    "    \n",
    "    # compute the averaged mean instantanous population balance (AMIPB)\n",
    "    AMIPB = np.nanmean([np.nanmean(balance[t,:]) for t in range(time)])\n",
    "    \n",
    "    return AMIPB"
   ]
  },
  {
   "cell_type": "code",
   "execution_count": 23,
   "metadata": {},
   "outputs": [
    {
     "ename": "NameError",
     "evalue": "name 'time' is not defined",
     "output_type": "error",
     "traceback": [
      "\u001b[0;31m---------------------------------------------------------------------------\u001b[0m",
      "\u001b[0;31mNameError\u001b[0m                                 Traceback (most recent call last)",
      "\u001b[0;32m<ipython-input-23-81ec7bb1d3ea>\u001b[0m in \u001b[0;36m<module>\u001b[0;34m\u001b[0m\n\u001b[0;32m----> 1\u001b[0;31m \u001b[0mbalance\u001b[0m \u001b[0;34m=\u001b[0m \u001b[0mcomputeBalance\u001b[0m\u001b[0;34m(\u001b[0m\u001b[0mresults\u001b[0m\u001b[0;34m)\u001b[0m\u001b[0;34m\u001b[0m\u001b[0;34m\u001b[0m\u001b[0m\n\u001b[0m\u001b[1;32m      2\u001b[0m \u001b[0mbalance\u001b[0m\u001b[0;34m\u001b[0m\u001b[0;34m\u001b[0m\u001b[0m\n",
      "\u001b[0;32m<ipython-input-22-11ecb43e0027>\u001b[0m in \u001b[0;36mcomputeBalance\u001b[0;34m(results)\u001b[0m\n\u001b[1;32m      6\u001b[0m     \u001b[0;31m# compute the instantanous population balance\u001b[0m\u001b[0;34m\u001b[0m\u001b[0;34m\u001b[0m\u001b[0;34m\u001b[0m\u001b[0m\n\u001b[1;32m      7\u001b[0m     \u001b[0mbalance\u001b[0m \u001b[0;34m=\u001b[0m \u001b[0;34m[\u001b[0m\u001b[0;34m]\u001b[0m\u001b[0;34m\u001b[0m\u001b[0;34m\u001b[0m\u001b[0m\n\u001b[0;32m----> 8\u001b[0;31m     \u001b[0;32mfor\u001b[0m \u001b[0mt\u001b[0m \u001b[0;32min\u001b[0m \u001b[0mrange\u001b[0m\u001b[0;34m(\u001b[0m\u001b[0mtime\u001b[0m\u001b[0;34m)\u001b[0m\u001b[0;34m:\u001b[0m\u001b[0;34m\u001b[0m\u001b[0;34m\u001b[0m\u001b[0m\n\u001b[0m\u001b[1;32m      9\u001b[0m         \u001b[0;32mfor\u001b[0m \u001b[0mc\u001b[0m \u001b[0;32min\u001b[0m \u001b[0mrange\u001b[0m\u001b[0;34m(\u001b[0m\u001b[0mcells\u001b[0m\u001b[0;34m)\u001b[0m\u001b[0;34m:\u001b[0m\u001b[0;34m\u001b[0m\u001b[0;34m\u001b[0m\u001b[0m\n\u001b[1;32m     10\u001b[0m             \u001b[0mgsyn_tot\u001b[0m \u001b[0;34m=\u001b[0m \u001b[0mresults\u001b[0m\u001b[0;34m[\u001b[0m\u001b[0;34m'gsyn_exc'\u001b[0m\u001b[0;34m]\u001b[0m\u001b[0;34m[\u001b[0m\u001b[0mt\u001b[0m\u001b[0;34m,\u001b[0m\u001b[0mc\u001b[0m\u001b[0;34m]\u001b[0m \u001b[0;34m+\u001b[0m \u001b[0mresults\u001b[0m\u001b[0;34m[\u001b[0m\u001b[0;34m'gsyn_inh'\u001b[0m\u001b[0;34m]\u001b[0m\u001b[0;34m[\u001b[0m\u001b[0mt\u001b[0m\u001b[0;34m,\u001b[0m\u001b[0mc\u001b[0m\u001b[0;34m]\u001b[0m\u001b[0;34m\u001b[0m\u001b[0;34m\u001b[0m\u001b[0m\n",
      "\u001b[0;31mNameError\u001b[0m: name 'time' is not defined"
     ]
    }
   ],
   "source": [
    "balance = computeBalance(results)\n",
    "balance"
   ]
  },
  {
   "cell_type": "code",
   "execution_count": null,
   "metadata": {},
   "outputs": [],
   "source": []
  },
  {
   "cell_type": "code",
   "execution_count": null,
   "metadata": {},
   "outputs": [],
   "source": []
  },
  {
   "cell_type": "code",
   "execution_count": null,
   "metadata": {},
   "outputs": [],
   "source": []
  },
  {
   "cell_type": "code",
   "execution_count": 129,
   "metadata": {},
   "outputs": [],
   "source": [
    "p.end()"
   ]
  },
  {
   "cell_type": "code",
   "execution_count": null,
   "metadata": {},
   "outputs": [],
   "source": []
  }
 ],
 "metadata": {
  "kernelspec": {
   "display_name": "sPyNNaker",
   "language": "python",
   "name": "spynnaker"
  },
  "language_info": {
   "codemirror_mode": {
    "name": "ipython",
    "version": 3
   },
   "file_extension": ".py",
   "mimetype": "text/x-python",
   "name": "python",
   "nbconvert_exporter": "python",
   "pygments_lexer": "ipython3",
   "version": "3.6.9"
  }
 },
 "nbformat": 4,
 "nbformat_minor": 4
}
