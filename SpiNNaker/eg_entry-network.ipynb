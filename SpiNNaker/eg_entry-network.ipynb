{
 "cells": [
  {
   "cell_type": "markdown",
   "metadata": {},
   "source": [
    "# 1D small network\n",
    "\n",
    "- a network of 20 cells receiving 5 random thalamic inputs"
   ]
  },
  {
   "cell_type": "code",
   "execution_count": 1,
   "metadata": {},
   "outputs": [],
   "source": [
    "# set fileName\n",
    "\n",
    "fileName = \"eg_small-network\""
   ]
  },
  {
   "cell_type": "code",
   "execution_count": 2,
   "metadata": {},
   "outputs": [
    {
     "name": "stdout",
     "output_type": "stream",
     "text": [
      "Detected PyNN version 0.9.4 and Neo version 0.6.1\n"
     ]
    }
   ],
   "source": [
    "# set libs\n",
    "\n",
    "import pyNN.spiNNaker as sim\n",
    "from pyNN import space \n",
    "import numpy as np\n",
    "import matplotlib.pyplot as plt"
   ]
  },
  {
   "cell_type": "code",
   "execution_count": 3,
   "metadata": {},
   "outputs": [
    {
     "name": "stderr",
     "output_type": "stream",
     "text": [
      "2021-04-23 13:54:08 INFO: Read cfg files: /home/spinnaker/sPyNNaker/lib/python3.6/site-packages/spinn_front_end_common/interface/spinnaker.cfg, /home/spinnaker/sPyNNaker/lib/python3.6/site-packages/spynnaker/pyNN/spynnaker.cfg, /home/spinnaker/.spynnaker.cfg\n",
      "2021-04-23 13:54:08 INFO: Will search these locations for binaries: /home/spinnaker/sPyNNaker/lib/python3.6/site-packages/spinn_front_end_common/common_model_binaries : /home/spinnaker/sPyNNaker/lib/python3.6/site-packages/spynnaker/pyNN/model_binaries\n",
      "2021-04-23 13:54:08 WARNING: /home/spinnaker/CNT-2021/SpiNNaker/reports has 8 old reports that have not been closed\n",
      "2021-04-23 13:54:08 WARNING: /home/spinnaker/CNT-2021/SpiNNaker/application_generated_data_files has 8 old reports that have not been closed\n",
      "2021-04-23 13:54:08 INFO: Setting time scale factor to 1.\n",
      "2021-04-23 13:54:08 INFO: Setting machine time step to 1000 micro-seconds.\n",
      "2021-04-23 13:54:08 WARNING: Extra params {'min_dealy': 1} have been applied to the setup command which we do not consider\n"
     ]
    },
    {
     "name": "stdout",
     "output_type": "stream",
     "text": [
      "['/home/spinnaker/sPyNNaker/lib/python3.6/site-packages/spinn_front_end_common/interface/spinnaker.cfg', '/home/spinnaker/sPyNNaker/lib/python3.6/site-packages/spynnaker/pyNN/spynnaker.cfg', '/home/spinnaker/.spynnaker.cfg']\n"
     ]
    },
    {
     "data": {
      "text/plain": [
       "0"
      ]
     },
     "execution_count": 3,
     "metadata": {},
     "output_type": "execute_result"
    }
   ],
   "source": [
    "# simulation setting\n",
    "\n",
    "dt         = 1 # ms\n",
    "min_delay = 1 # ms\n",
    "max_delay  = 1.0 # ms\n",
    "simtime    = 1000.0 # ms\n",
    "\n",
    "sim.setup(timestep = dt, \n",
    "          min_dealy = min_delay,\n",
    "          max_delay = max_delay)"
   ]
  },
  {
   "cell_type": "code",
   "execution_count": 4,
   "metadata": {},
   "outputs": [],
   "source": [
    "# network parameters\n",
    "\n",
    "n_pop = 20     # Number of cells\n",
    "weight = 0.05  # synaptic weight (µS)\n",
    "\n",
    "cell_params = {\n",
    "    'tau_m'      : 20.0,   # (ms)\n",
    "    'tau_syn_E'  : 2.0,    # (ms)\n",
    "    'tau_syn_I'  : 4.0,    # (ms)\n",
    "    'e_rev_E'    : 0.0,    # (mV)\n",
    "    'e_rev_I'    : -70.0,  # (mV)\n",
    "    'tau_refrac' : 2.0,    # (ms)\n",
    "    'v_rest'     : -60.0,  # (mV)\n",
    "    'v_reset'    : -70.0,  # (mV)\n",
    "    'v_thresh'   : -50.0,  # (mV)\n",
    "    'cm'         : 0.5}    # (nF)\n",
    "\n",
    "# see parameters meaning in http://neuralensemble.org/docs/PyNN/standardmodels.html"
   ]
  },
  {
   "cell_type": "code",
   "execution_count": 5,
   "metadata": {},
   "outputs": [],
   "source": [
    "# making the network\n",
    "cells = sim.Population(n_pop, # number of cells\n",
    "                       sim.IF_cond_exp, # cell model\n",
    "                       cell_params, # cell parameters\n",
    "                       label=\"cells\")\n",
    "\n",
    "# record state variables\n",
    "\n",
    "cells.record(['spikes'])\n",
    "cells.record(['v', 'gsyn_exc', 'gsyn_inh'])"
   ]
  },
  {
   "cell_type": "code",
   "execution_count": 6,
   "metadata": {},
   "outputs": [
    {
     "data": {
      "application/vnd.jupyter.widget-view+json": {
       "model_id": "2ab1ac5db5644120a88f7b495b1d344d",
       "version_major": 2,
       "version_minor": 0
      },
      "text/plain": [
       "Canvas(toolbar=Toolbar(toolitems=[('Home', 'Reset original view', 'home', 'home'), ('Back', 'Back to previous …"
      ]
     },
     "metadata": {},
     "output_type": "display_data"
    },
    {
     "name": "stdout",
     "output_type": "stream",
     "text": [
      "selected random sources [16, 4, 3, 0, 6]\n"
     ]
    }
   ],
   "source": [
    "# designing the thalamic input\n",
    "\n",
    "spike_times = [[]]*n_pop #list of spike lists, where one spike list is related to one spike source\n",
    "random_sources_idx = [np.random.randint(0, n_pop) for i in range(5)]\n",
    "\n",
    "for idx, sources in enumerate(random_sources_idx):\n",
    "    #spike_times[sources] = [np.random.normal(loc=10, scale=0.1) for n in range(10)]\n",
    "    spike_times[sources] = np.sort(np.arange(200, 800, 50).tolist())\n",
    "\n",
    "spike_source = sim.Population(n_pop, sim.SpikeSourceArray(spike_times=spike_times))\n",
    "spike_source.record('spikes')\n",
    "\n",
    "input_conns = sim.Projection(spike_source, # from \n",
    "                             cells, # to\n",
    "                             connector = sim.FixedProbabilityConnector(0.25), \n",
    "                             synapse_type = sim.StaticSynapse(weight=weight, delay=min_delay),\n",
    "                             receptor_type = 'excitatory')\n",
    "\n",
    "fig, axes = plt.subplots(1,1)\n",
    "axes_list = fig.axes\n",
    "axes_list[0].eventplot(spike_times)\n",
    "axes_list[0].set_xlabel('[ms]')\n",
    "axes_list[0].set_ylabel('thalamic spike sources')\n",
    "axes_list[0].set_title('rasterplot')\n",
    "axes_list[0].set_xlim(0, simtime)\n",
    "print('selected random sources', random_sources_idx)\n"
   ]
  },
  {
   "cell_type": "code",
   "execution_count": null,
   "metadata": {},
   "outputs": [
    {
     "name": "stderr",
     "output_type": "stream",
     "text": [
      "2021-04-23 13:54:10 INFO: Simulating for 1000 1.0ms timesteps using a hardware timestep of 1000us\n",
      "2021-04-23 13:54:10 INFO: Starting execution process\n",
      "2021-04-23 13:54:13 INFO: Time 0:00:03.172497 taken by SpallocMaxMachineGenerator\n",
      "Pre allocating resources for Extra Monitor support vertices\n",
      "|0%                          50%                         100%|\n",
      " ============================================================\n",
      "2021-04-23 13:54:22 INFO: Time 0:00:08.465301 taken by PreAllocateResourcesForExtraMonitorSupport\n",
      "Partitioning graph vertices\n",
      "|0%                          50%                         100%|\n",
      " ============================================================\n",
      "Partitioning graph edges\n",
      "|0%                          50%                         100%|\n",
      " ============================================================\n",
      "2021-04-23 13:54:27 INFO: Time 0:00:04.854196 taken by PartitionAndPlacePartitioner\n",
      "Created spalloc job 5964556\n",
      "2021-04-23 13:54:27 INFO: Created spalloc job 5964556\n",
      "Waiting for board power commands to complete.\n",
      "2021-04-23 13:54:27 INFO: Waiting for board power commands to complete.\n",
      "2021-04-23 13:54:32 INFO: Time 0:00:05.047734 taken by SpallocAllocator\n",
      "2021-04-23 13:54:32 INFO: Creating transceiver for 10.11.195.89\n",
      "2021-04-23 13:54:32 INFO: Working out if machine is booted\n",
      "2021-04-23 13:54:36 INFO: Attempting to boot machine\n",
      "2021-04-23 13:54:41 INFO: Found board with version [Version: SC&MP 3.2.5 at SpiNNaker:0:0:0 (built Thu Aug  1 08:15:06 2019)]\n",
      "2021-04-23 13:54:41 INFO: Machine communication successful\n",
      "2021-04-23 13:54:41 INFO: Detected a machine on IP address 10.11.195.89 which has 838 cores and 116.0 links\n",
      "2021-04-23 13:54:41 INFO: Time 0:00:09.635690 taken by MachineGenerator\n",
      "Generating partitioner report\n",
      "|0%                          50%                         100%|\n",
      " ============================================================\n",
      "2021-04-23 13:54:41 INFO: Time 0:00:00.008846 taken by PartitionerReport\n",
      "2021-04-23 13:54:41 INFO: Time 0:00:00.000297 taken by NetworkSpecificationReport\n",
      "Allocating virtual identifiers\n",
      "|0%                          50%                         100%|\n",
      " ============================================================\n",
      "2021-04-23 13:54:41 INFO: Time 0:00:00.025174 taken by MallocBasedChipIDAllocator\n",
      "Inserting extra monitors into graphs\n",
      "|0%                          50%                         100%|\n",
      " ============================================================\n",
      "2021-04-23 13:54:42 INFO: Time 0:00:00.029670 taken by InsertExtraMonitorVerticesToGraphs\n",
      "Writing the board chip report\n",
      "|0%                          50%                         100%|\n",
      " ============================================================\n",
      "2021-04-23 13:54:42 INFO: Time 0:00:00.010973 taken by BoardChipReport\n",
      "Filtering edges\n",
      "|0%                          50%                         100%|\n",
      " ============================================================\n",
      "2021-04-23 13:54:42 INFO: Time 0:00:00.026370 taken by GraphEdgeFilter\n",
      "Placing graph vertices\n",
      "|0%                          50%                         100%|\n",
      " ============================================================\n",
      "2021-04-23 13:54:42 INFO: Time 0:00:00.038586 taken by OneToOnePlacer\n",
      "Inserting edges between vertices which require FR speed up functionality.\n",
      "|0%                          50%                         100%|\n",
      " ============================================================\n",
      "2021-04-23 13:54:42 INFO: Time 0:00:00.051399 taken by InsertEdgesToExtraMonitorFunctionality\n",
      "Generating routing tables for data in system processes\n",
      "|0%                          50%                         100%|\n",
      " ============================================================\n",
      "2021-04-23 13:54:42 INFO: Time 0:00:00.009513 taken by DataInMulticastRoutingGenerator\n",
      "Generating fixed router routes\n",
      "|0%                          50%                         100%|\n",
      " ============================================================\n",
      "2021-04-23 13:54:42 INFO: Time 0:00:00.009282 taken by FixedRouteRouter\n",
      "Generating placement report\n",
      "|0%                          50%                         100%|\n",
      " ============================================================\n",
      "Generating placement by core report\n",
      "|0%                          50%                         100%|\n",
      " ============================================================\n",
      "2021-04-23 13:54:42 INFO: Time 0:00:00.064628 taken by PlacerReportWithApplicationGraph\n",
      "Routing\n",
      "|0%                          50%                         100%|\n",
      " ============================================================\n",
      "\n",
      "2021-04-23 13:54:42 INFO: Time 0:00:00.026347 taken by NerRoute\n",
      "Discovering tags\n",
      "|0%                          50%                         100%|\n",
      " ============================================================\n",
      "Allocating tags\n",
      "|0%                          50%                         100%|\n",
      " ============================================================\n",
      "2021-04-23 13:54:42 INFO: Time 0:00:00.042284 taken by BasicTagAllocator\n",
      "Reporting Tags\n",
      "|0%                          50%                         100%|\n",
      " ============================================================\n",
      "2021-04-23 13:54:42 INFO: Time 0:00:00.012779 taken by TagReport\n",
      "Getting number of keys required by each edge using application graph\n",
      "|0%                          50%                         100%|\n",
      " ============================================================\n",
      "2021-04-23 13:54:42 INFO: Time 0:00:00.024633 taken by EdgeToNKeysMapper\n",
      "Getting constraints for application graph\n",
      "|0%                          50%                         100%|\n",
      " ============================================================\n",
      "2021-04-23 13:54:42 INFO: Time 0:00:00.023061 taken by ProcessPartitionConstraints\n",
      "Allocating routing keys\n",
      "|0%                          50%                         100%|\n",
      " ============================================================\n",
      "2021-04-23 13:54:42 INFO: Time 0:00:00.009475 taken by MallocBasedRoutingInfoAllocator\n",
      "Generating Routing info report\n",
      "|0%                          50%                         100%|\n",
      " ============================================================\n",
      "2021-04-23 13:54:42 INFO: Time 0:00:00.034117 taken by routingInfoReports\n",
      "Generating routing tables\n",
      "|0%                          50%                         100%|\n",
      " ============================================================\n",
      "2021-04-23 13:54:42 INFO: Time 0:00:00.026008 taken by BasicRoutingTableGenerator\n",
      "Finding executable start types\n",
      "|0%                          50%                         100%|\n",
      " ============================================================\n",
      "2021-04-23 13:54:42 INFO: Time 0:00:00.031184 taken by LocateExecutableStartType\n",
      "Initialising buffers\n",
      "|0%                          50%                         100%|\n",
      " ============================================================\n",
      "2021-04-23 13:54:42 INFO: Time 0:00:00.032367 taken by BufferManagerCreator\n",
      "Generating data specifications\n",
      "|0%                          50%                         100%|\n",
      " ============================================================\n",
      "2021-04-23 13:54:42 INFO: Time 0:00:00.076931 taken by SpynnakerDataSpecificationWriter\n",
      "Preparing Routing Tables\n",
      "|0%                          50%                         100%|\n",
      " ============================================================\n",
      "2021-04-23 13:54:42 INFO: Time 0:00:00.010681 taken by RoutingSetup\n",
      "Finding binaries\n",
      "|0%                          50%                         100%|\n",
      " ============================================================\n",
      "2021-04-23 13:54:42 INFO: Time 0:00:00.031265 taken by GraphBinaryGatherer\n",
      "Running routing table compression on chip\n",
      "|0%                          50%                         100%|\n",
      " ============================================================\n",
      "2021-04-23 13:54:47 INFO: Time 0:00:04.538746 taken by MundyOnChipRouterCompression\n",
      "Generating Router table report\n",
      "|0%                          50%                         100%|\n",
      " ============================================================\n",
      "2021-04-23 13:54:47 INFO: Time 0:00:00.008988 taken by unCompressedRoutingTableReports\n",
      "loading fixed routes\n",
      "|0%                          50%                         100%|\n",
      " ============================================================\n",
      "2021-04-23 13:54:47 INFO: Time 0:00:00.043361 taken by LoadFixedRoutes\n",
      "Executing data specifications and loading data for system vertices\n",
      "|0%                          50%                         100%|\n",
      " ============================================================\n",
      "2021-04-23 13:54:47 INFO: Time 0:00:00.161274 taken by HostExecuteSystemDataSpecification\n",
      "Loading system executables onto the machine\n",
      "|0%                          50%                         100%|\n",
      " ============================================================\n",
      "2021-04-23 13:54:54 INFO: Time 0:00:06.740054 taken by LoadSystemExecutableImages\n",
      "Clearing tags\n",
      "|0%                          50%                         100%|\n",
      " ============================================================\n",
      "Loading Tags\n",
      "|0%                          50%                         100%|\n",
      " ============================================================\n",
      "2021-04-23 13:54:54 INFO: Time 0:00:00.018340 taken by TagsLoader\n",
      "Writing data\n",
      "|0%                          50%                         100%|\n",
      " ============================================================\n",
      "2021-04-23 13:54:54 INFO: Time 0:00:00.025355 taken by WriteMemoryIOData\n",
      "Executing data specifications and loading data for application vertices\n",
      "|0%                          50%                         100%|\n",
      " ============================================================\n",
      "2021-04-23 13:54:56 INFO: Time 0:00:02.161675 taken by HostExecuteApplicationDataSpecification\n",
      "Expanding Synapses\n",
      "|0%                          50%                         100%|\n",
      " ============================================================\n",
      "2021-04-23 13:55:00 INFO: Time 0:00:03.758936 taken by SynapseExpander\n",
      "Writing fixed route report\n",
      "|0%                          50%                         100%|\n",
      " ============================================================\n",
      "2021-04-23 13:55:00 INFO: Time 0:00:00.067965 taken by FixedRouteFromMachineReport\n",
      "Loading executables onto the machine\n",
      "|0%                          50%                         100%|\n",
      " "
     ]
    }
   ],
   "source": [
    "# run simulation\n",
    "\n",
    "sim.run(simtime) # 1000 ms\n",
    "\n",
    "\n",
    "\"\"\"\n",
    "a network of 20 cells receiving 5 random thalamic inputs\n",
    "\n",
    "\"\"\""
   ]
  },
  {
   "cell_type": "code",
   "execution_count": null,
   "metadata": {},
   "outputs": [],
   "source": [
    "# save results\n",
    "\n",
    "outputs = cells.get_data() # on notebook space\n",
    "outputs.segments[0].spiketrains\n",
    "\n",
    "\n",
    "outputs.segments[0]\n",
    "\n",
    "#cells.write_data(fileName + '.pkl', \"spikes\") # on folder\n",
    "#outputs"
   ]
  },
  {
   "cell_type": "code",
   "execution_count": null,
   "metadata": {},
   "outputs": [],
   "source": [
    "# recovering results\n",
    "\n",
    "def recover_results(outputs):\n",
    "    results = {}\n",
    "    \n",
    "    for analogsignal in outputs.segments[0].analogsignals:\n",
    "        print(analogsignal.name)\n",
    "        # to get voltage and conductances\n",
    "        results[analogsignal.name] = analogsignal\n",
    "        # to get spikes\n",
    "        results['spikes'] = outputs.segments[0].spiketrains\n",
    "    return results"
   ]
  },
  {
   "cell_type": "code",
   "execution_count": null,
   "metadata": {},
   "outputs": [],
   "source": [
    "# check results\n",
    "\n",
    "results = recover_results(outputs)\n",
    "results.keys()"
   ]
  },
  {
   "cell_type": "code",
   "execution_count": null,
   "metadata": {},
   "outputs": [],
   "source": [
    "# check the mean firing rate\n",
    "\n",
    "print(\"Mean firing rate: \", cells.mean_spike_count() * 1000.0 / simtime, \"Hz\")"
   ]
  },
  {
   "cell_type": "code",
   "execution_count": null,
   "metadata": {},
   "outputs": [],
   "source": [
    "results['spikes']"
   ]
  },
  {
   "cell_type": "code",
   "execution_count": null,
   "metadata": {},
   "outputs": [],
   "source": [
    "# check the spikes\n",
    "\n",
    "fig, axes = plt.subplots(1, 1)\n",
    "fig.tight_layout(pad=5)\n",
    "axes_list = fig.axes\n",
    "\n",
    "axes_list[0].eventplot(results['spikes'])\n",
    "axes_list[0].eventplot(spike_times, color='r')\n",
    "axes_list[0].set_title('rasterplot of cells')\n",
    "axes_list[0].set_xlabel('[ms]')\n",
    "axes_list[0].set_ylabel('cells')\n",
    "axes_list[0].set_xlim(0, simtime)\n",
    "\n",
    "# why are there more cells spiking than thalamic source spikes?"
   ]
  },
  {
   "cell_type": "code",
   "execution_count": null,
   "metadata": {},
   "outputs": [],
   "source": [
    "random_sources_idx"
   ]
  },
  {
   "cell_type": "code",
   "execution_count": null,
   "metadata": {},
   "outputs": [],
   "source": [
    "# check the voltage\n",
    "\n",
    "pickedCell = random_sources_idx[0]\n",
    "\n",
    "fig, axes = plt.subplots(1, 1)\n",
    "fig.tight_layout(pad=3)\n",
    "\n",
    "axes_list = fig.axes\n",
    "axes_list[0].plot(results['v'].T[pickedCell], label='cell_' + str(pickedCell))\n",
    "\n",
    "axes_list[0].set_title('voltage of cells')\n",
    "axes_list[0].set_xlabel('time [ms]')\n",
    "axes_list[0].set_ylabel('[mV]')\n",
    "axes_list[0].legend()\n"
   ]
  },
  {
   "cell_type": "code",
   "execution_count": null,
   "metadata": {},
   "outputs": [],
   "source": [
    "# check the conductance\n",
    "\n",
    "pickedCell = random_sources_idx[0]\n",
    "\n",
    "fig, axes = plt.subplots(2, 1)\n",
    "fig.tight_layout(pad=5)\n",
    "\n",
    "axes_list = fig.axes\n",
    "\n",
    "for idx, conductance in enumerate(['gsyn_exc', 'gsyn_inh']):\n",
    "\n",
    "    fig.tight_layout(pad=3)\n",
    "    axes_list = fig.axes\n",
    "    axes_list[idx].plot(results[conductance].T[pickedCell], label='cell_' + str(pickedCell))\n",
    "    axes_list[idx].set_title(conductance)\n",
    "    axes_list[idx].set_xlabel('time [ms]')\n",
    "    axes_list[idx].set_ylabel('[uS]')\n",
    "    axes_list[idx].legend()"
   ]
  },
  {
   "cell_type": "markdown",
   "metadata": {},
   "source": [
    "## task 1: on the state variables \n",
    "\n",
    "- why the gsyn_inh (conductance related to cell inhibition) is equal to zero?"
   ]
  },
  {
   "cell_type": "markdown",
   "metadata": {},
   "source": [
    "## task 2: on neuronal parameters\n",
    "\n",
    "- change the tau_m (membrane time constant) parameter and have a look at the changes on the voltage trace.\n",
    "\n",
    "- change other neuronal parameters and investigate their effect on the network behaviour\n",
    "\n",
    "- info about parameters http://neuralensemble.org/docs/PyNN/standardmodels.html"
   ]
  },
  {
   "cell_type": "markdown",
   "metadata": {},
   "source": [
    "## task 3: on neuronal model\n",
    "\n",
    "- test another cell type looking at `sim.list_standard_models()`\n"
   ]
  },
  {
   "cell_type": "markdown",
   "metadata": {},
   "source": [
    "\n"
   ]
  },
  {
   "cell_type": "code",
   "execution_count": null,
   "metadata": {},
   "outputs": [],
   "source": []
  },
  {
   "cell_type": "code",
   "execution_count": null,
   "metadata": {},
   "outputs": [],
   "source": []
  }
 ],
 "metadata": {
  "kernelspec": {
   "display_name": "Python 3",
   "language": "python",
   "name": "python3"
  },
  "language_info": {
   "codemirror_mode": {
    "name": "ipython",
    "version": 3
   },
   "file_extension": ".py",
   "mimetype": "text/x-python",
   "name": "python",
   "nbconvert_exporter": "python",
   "pygments_lexer": "ipython3",
   "version": "3.6.9"
  }
 },
 "nbformat": 4,
 "nbformat_minor": 4
}
