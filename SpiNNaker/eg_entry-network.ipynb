{
 "cells": [
  {
   "cell_type": "markdown",
   "metadata": {},
   "source": [
    "# entry network\n",
    "\n",
    "- a network of 20 cells receiving 5 random thalamic inputs"
   ]
  },
  {
   "cell_type": "code",
   "execution_count": 2,
   "metadata": {},
   "outputs": [],
   "source": [
    "# set fileName\n",
    "\n",
    "fileName = \"eg_entry-network\""
   ]
  },
  {
   "cell_type": "code",
   "execution_count": 3,
   "metadata": {},
   "outputs": [
    {
     "name": "stdout",
     "output_type": "stream",
     "text": [
      "Detected PyNN version 0.9.4 and Neo version 0.6.1\n"
     ]
    }
   ],
   "source": [
    "# set libs\n",
    "\n",
    "import pyNN.spiNNaker as sim\n",
    "from pyNN import space \n",
    "import numpy as np\n",
    "import matplotlib.pyplot as plt"
   ]
  },
  {
   "cell_type": "code",
   "execution_count": 4,
   "metadata": {},
   "outputs": [
    {
     "name": "stderr",
     "output_type": "stream",
     "text": [
      "2022-01-13 13:46:16 INFO: Read cfg files: /home/spinnaker/sPyNNaker/lib/python3.6/site-packages/spinn_front_end_common/interface/spinnaker.cfg, /home/spinnaker/sPyNNaker/lib/python3.6/site-packages/spynnaker/pyNN/spynnaker.cfg, /home/spinnaker/.spynnaker.cfg\n",
      "2022-01-13 13:46:16 INFO: Will search these locations for binaries: /home/spinnaker/sPyNNaker/lib/python3.6/site-packages/spinn_front_end_common/common_model_binaries : /home/spinnaker/sPyNNaker/lib/python3.6/site-packages/spynnaker/pyNN/model_binaries\n",
      "2022-01-13 13:46:16 WARNING: /home/spinnaker/CNT-2022/SpiNNaker/reports has 3 old reports that have not been closed\n",
      "2022-01-13 13:46:16 WARNING: /home/spinnaker/CNT-2022/SpiNNaker/application_generated_data_files has 4 old reports that have not been closed\n",
      "2022-01-13 13:46:16 INFO: Setting time scale factor to 1.\n",
      "2022-01-13 13:46:16 INFO: Setting machine time step to 1000 micro-seconds.\n",
      "2022-01-13 13:46:16 WARNING: Extra params {'min_dealy': 1} have been applied to the setup command which we do not consider\n"
     ]
    },
    {
     "name": "stdout",
     "output_type": "stream",
     "text": [
      "['/home/spinnaker/sPyNNaker/lib/python3.6/site-packages/spinn_front_end_common/interface/spinnaker.cfg', '/home/spinnaker/sPyNNaker/lib/python3.6/site-packages/spynnaker/pyNN/spynnaker.cfg', '/home/spinnaker/.spynnaker.cfg']\n"
     ]
    },
    {
     "data": {
      "text/plain": [
       "0"
      ]
     },
     "execution_count": 4,
     "metadata": {},
     "output_type": "execute_result"
    }
   ],
   "source": [
    "# simulation setting\n",
    "\n",
    "dt         = 1 # ms\n",
    "min_delay = 1 # ms\n",
    "max_delay  = 1.0 # ms\n",
    "simtime    = 1000.0 # ms\n",
    "\n",
    "sim.setup(timestep = dt, \n",
    "          min_dealy = min_delay,\n",
    "          max_delay = max_delay)"
   ]
  },
  {
   "cell_type": "code",
   "execution_count": 5,
   "metadata": {},
   "outputs": [],
   "source": [
    "# network parameters\n",
    "\n",
    "n_pop = 20     # Number of cells\n",
    "weight = 0.05  # synaptic weight (µS)\n",
    "\n",
    "cell_params = {\n",
    "    'tau_m'      : 20.0,   # (ms)\n",
    "    'tau_syn_E'  : 2.0,    # (ms)\n",
    "    'tau_syn_I'  : 4.0,    # (ms)\n",
    "    'e_rev_E'    : 0.0,    # (mV)\n",
    "    'e_rev_I'    : -70.0,  # (mV)\n",
    "    'tau_refrac' : 2.0,    # (ms)\n",
    "    'v_rest'     : -60.0,  # (mV)\n",
    "    'v_reset'    : -70.0,  # (mV)\n",
    "    'v_thresh'   : -50.0,  # (mV)\n",
    "    'cm'         : 0.5}    # (nF)\n",
    "\n",
    "# see parameters meaning in http://neuralensemble.org/docs/PyNN/standardmodels.html"
   ]
  },
  {
   "cell_type": "code",
   "execution_count": 6,
   "metadata": {},
   "outputs": [],
   "source": [
    "# making the network\n",
    "pops = {}\n",
    "pops['cx'] = sim.Population(n_pop, # number of cells\n",
    "                       sim.IF_cond_exp, # cell model\n",
    "                       cell_params, # cell parameters\n",
    "                       label=\"cells\")\n",
    "\n",
    "# record state variables\n",
    "\n",
    "pops['cx'].record(['spikes'])\n",
    "pops['cx'].record(['v', 'gsyn_exc', 'gsyn_inh'])"
   ]
  },
  {
   "cell_type": "code",
   "execution_count": 7,
   "metadata": {},
   "outputs": [
    {
     "data": {
      "application/vnd.jupyter.widget-view+json": {
       "model_id": "698c72341d0c4d86a85935f7ff6bf636",
       "version_major": 2,
       "version_minor": 0
      },
      "text/plain": [
       "Canvas(toolbar=Toolbar(toolitems=[('Home', 'Reset original view', 'home', 'home'), ('Back', 'Back to previous …"
      ]
     },
     "metadata": {},
     "output_type": "display_data"
    },
    {
     "name": "stdout",
     "output_type": "stream",
     "text": [
      "selected random sources [7, 9, 0, 0, 0]\n"
     ]
    }
   ],
   "source": [
    "# designing the thalamic input\n",
    "\n",
    "spike_times = [[]]*n_pop #list of spike lists, where one spike list is related to one spike source\n",
    "random_sources_idx = [np.random.randint(0, n_pop) for i in range(5)]\n",
    "\n",
    "for idx, sources in enumerate(random_sources_idx):\n",
    "    #spike_times[sources] = [np.random.normal(loc=10, scale=0.1) for n in range(10)]\n",
    "    spike_times[sources] = np.sort(np.arange(200, 800, 50).tolist())\n",
    "\n",
    "    \n",
    "pops['thalamus'] = sim.Population(n_pop, sim.SpikeSourceArray(spike_times=spike_times))\n",
    "pops['thalamus'].record('spikes')\n",
    "\n",
    "input_conns = sim.Projection(pops['thalamus'], # from \n",
    "                             pops['cx'], # to\n",
    "                             connector = sim.FixedProbabilityConnector(0.5), \n",
    "                             synapse_type = sim.StaticSynapse(weight=weight, delay=min_delay),\n",
    "                             receptor_type = 'excitatory')\n",
    "\n",
    "fig, axes = plt.subplots(1,1)\n",
    "axes_list = fig.axes\n",
    "axes_list[0].eventplot(spike_times)\n",
    "axes_list[0].set_xlabel('[ms]')\n",
    "axes_list[0].set_ylabel('thalamic spike sources')\n",
    "axes_list[0].set_title('rasterplot')\n",
    "axes_list[0].set_xlim(0, simtime)\n",
    "print('selected random sources', random_sources_idx)\n"
   ]
  },
  {
   "cell_type": "code",
   "execution_count": 8,
   "metadata": {},
   "outputs": [
    {
     "name": "stderr",
     "output_type": "stream",
     "text": [
      "2022-01-13 13:46:19 INFO: Simulating for 1000 1.0ms timesteps using a hardware timestep of 1000us\n",
      "2022-01-13 13:46:19 INFO: Starting execution process\n",
      "2022-01-13 13:46:22 INFO: Time 0:00:03.108284 taken by SpallocMaxMachineGenerator\n",
      "Pre allocating resources for Extra Monitor support vertices\n",
      "|0%                          50%                         100%|\n",
      " ============================================================\n",
      "2022-01-13 13:46:31 INFO: Time 0:00:08.561841 taken by PreAllocateResourcesForExtraMonitorSupport\n",
      "Partitioning graph vertices\n",
      "|0%                          50%                         100%|\n",
      " ============================================================\n",
      "Partitioning graph edges\n",
      "|0%                          50%                         100%|\n",
      " ============================================================\n",
      "2022-01-13 13:46:36 INFO: Time 0:00:04.930433 taken by PartitionAndPlacePartitioner\n",
      "Created spalloc job 6246470\n",
      "2022-01-13 13:46:36 INFO: Created spalloc job 6246470\n",
      "Waiting for board power commands to complete.\n",
      "2022-01-13 13:46:36 INFO: Waiting for board power commands to complete.\n",
      "2022-01-13 13:46:45 INFO: Time 0:00:08.939979 taken by SpallocAllocator\n",
      "2022-01-13 13:46:45 INFO: Creating transceiver for 10.11.194.1\n",
      "2022-01-13 13:46:45 INFO: Working out if machine is booted\n",
      "2022-01-13 13:46:49 INFO: Attempting to boot machine\n",
      "2022-01-13 13:46:54 INFO: Found board with version [Version: SC&MP 3.2.5 at SpiNNaker:0:0:0 (built Thu Aug  1 08:15:06 2019)]\n",
      "2022-01-13 13:46:54 INFO: Machine communication successful\n",
      "2022-01-13 13:46:54 INFO: Detected a machine on IP address 10.11.194.1 which has 837 cores and 114.0 links\n",
      "2022-01-13 13:46:54 INFO: Time 0:00:09.636558 taken by MachineGenerator\n",
      "Generating partitioner report\n",
      "|0%                          50%                         100%|\n",
      " ============================================================\n",
      "2022-01-13 13:46:55 INFO: Time 0:00:00.006312 taken by PartitionerReport\n",
      "2022-01-13 13:46:55 INFO: Time 0:00:00.000261 taken by NetworkSpecificationReport\n",
      "Allocating virtual identifiers\n",
      "|0%                          50%                         100%|\n",
      " ============================================================\n",
      "2022-01-13 13:46:55 INFO: Time 0:00:00.027550 taken by MallocBasedChipIDAllocator\n",
      "Inserting extra monitors into graphs\n",
      "|0%                          50%                         100%|\n",
      " ============================================================\n",
      "2022-01-13 13:46:55 INFO: Time 0:00:00.033959 taken by InsertExtraMonitorVerticesToGraphs\n",
      "Writing the board chip report\n",
      "|0%                          50%                         100%|\n",
      " ============================================================\n",
      "2022-01-13 13:46:55 INFO: Time 0:00:00.005685 taken by BoardChipReport\n",
      "Filtering edges\n",
      "|0%                          50%                         100%|\n",
      " ============================================================\n",
      "2022-01-13 13:46:55 INFO: Time 0:00:00.029766 taken by GraphEdgeFilter\n",
      "Placing graph vertices\n",
      "|0%                          50%                         100%|\n",
      " ============================================================\n",
      "2022-01-13 13:46:55 INFO: Time 0:00:00.038562 taken by OneToOnePlacer\n",
      "Inserting edges between vertices which require FR speed up functionality.\n",
      "|0%                          50%                         100%|\n",
      " ============================================================\n",
      "2022-01-13 13:46:55 INFO: Time 0:00:00.060022 taken by InsertEdgesToExtraMonitorFunctionality\n",
      "Generating routing tables for data in system processes\n",
      "|0%                          50%                         100%|\n",
      " ============================================================\n",
      "2022-01-13 13:46:55 INFO: Time 0:00:00.009482 taken by DataInMulticastRoutingGenerator\n",
      "Generating fixed router routes\n",
      "|0%                          50%                         100%|\n",
      " ============================================================\n",
      "2022-01-13 13:46:55 INFO: Time 0:00:00.005278 taken by FixedRouteRouter\n",
      "Generating placement report\n",
      "|0%                          50%                         100%|\n",
      " ============================================================\n",
      "Generating placement by core report\n",
      "|0%                          50%                         100%|\n",
      " ============================================================\n",
      "2022-01-13 13:46:55 INFO: Time 0:00:00.051940 taken by PlacerReportWithApplicationGraph\n",
      "Routing\n",
      "|0%                          50%                         100%|\n",
      " ============================================================\n",
      "\n",
      "2022-01-13 13:46:55 INFO: Time 0:00:00.027236 taken by NerRoute\n",
      "Discovering tags\n",
      "|0%                          50%                         100%|\n",
      " ============================================================\n",
      "Allocating tags\n",
      "|0%                          50%                         100%|\n",
      " ============================================================\n",
      "2022-01-13 13:46:55 INFO: Time 0:00:00.044030 taken by BasicTagAllocator\n",
      "Reporting Tags\n",
      "|0%                          50%                         100%|\n",
      " ============================================================\n",
      "2022-01-13 13:46:55 INFO: Time 0:00:00.008286 taken by TagReport\n",
      "Getting number of keys required by each edge using application graph\n",
      "|0%                          50%                         100%|\n",
      " ============================================================\n",
      "2022-01-13 13:46:55 INFO: Time 0:00:00.023428 taken by EdgeToNKeysMapper\n",
      "Getting constraints for application graph\n",
      "|0%                          50%                         100%|\n",
      " ============================================================\n",
      "2022-01-13 13:46:55 INFO: Time 0:00:00.025673 taken by ProcessPartitionConstraints\n",
      "Allocating routing keys\n",
      "|0%                          50%                         100%|\n",
      " ============================================================\n",
      "2022-01-13 13:46:55 INFO: Time 0:00:00.010196 taken by MallocBasedRoutingInfoAllocator\n",
      "Generating Routing info report\n",
      "|0%                          50%                         100%|\n",
      " ============================================================\n",
      "2022-01-13 13:46:55 INFO: Time 0:00:00.025897 taken by routingInfoReports\n",
      "Generating routing tables\n",
      "|0%                          50%                         100%|\n",
      " ============================================================\n",
      "2022-01-13 13:46:55 INFO: Time 0:00:00.035014 taken by BasicRoutingTableGenerator\n",
      "Finding executable start types\n",
      "|0%                          50%                         100%|\n",
      " ============================================================\n",
      "2022-01-13 13:46:55 INFO: Time 0:00:00.034262 taken by LocateExecutableStartType\n",
      "Initialising buffers\n",
      "|0%                          50%                         100%|\n",
      " ============================================================\n",
      "2022-01-13 13:46:55 INFO: Time 0:00:00.025914 taken by BufferManagerCreator\n",
      "Generating data specifications\n",
      "|0%                          50%                         100%|\n",
      " ============================================================\n",
      "2022-01-13 13:46:55 INFO: Time 0:00:00.076771 taken by SpynnakerDataSpecificationWriter\n",
      "Preparing Routing Tables\n",
      "|0%                          50%                         100%|\n",
      " ============================================================\n",
      "2022-01-13 13:46:55 INFO: Time 0:00:00.007849 taken by RoutingSetup\n",
      "Finding binaries\n",
      "|0%                          50%                         100%|\n",
      " ============================================================\n",
      "2022-01-13 13:46:55 INFO: Time 0:00:00.029220 taken by GraphBinaryGatherer\n",
      "Running routing table compression on chip\n",
      "|0%                          50%                         100%|\n",
      " ============================================================\n",
      "2022-01-13 13:47:00 INFO: Time 0:00:04.539492 taken by MundyOnChipRouterCompression\n",
      "Generating Router table report\n",
      "|0%                          50%                         100%|\n",
      " ============================================================\n",
      "2022-01-13 13:47:00 INFO: Time 0:00:00.007948 taken by unCompressedRoutingTableReports\n",
      "loading fixed routes\n",
      "|0%                          50%                         100%|\n",
      " ============================================================\n",
      "2022-01-13 13:47:00 INFO: Time 0:00:00.040618 taken by LoadFixedRoutes\n",
      "Executing data specifications and loading data for system vertices\n",
      "|0%                          50%                         100%|\n",
      " ============================================================\n",
      "2022-01-13 13:47:00 INFO: Time 0:00:00.155780 taken by HostExecuteSystemDataSpecification\n",
      "Loading system executables onto the machine\n",
      "|0%                          50%                         100%|\n",
      " ============================================================\n",
      "2022-01-13 13:47:07 INFO: Time 0:00:06.735181 taken by LoadSystemExecutableImages\n",
      "Clearing tags\n",
      "|0%                          50%                         100%|\n",
      " ============================================================\n",
      "Loading Tags\n",
      "|0%                          50%                         100%|\n",
      " ============================================================\n",
      "2022-01-13 13:47:07 INFO: Time 0:00:00.019781 taken by TagsLoader\n",
      "Writing data\n",
      "|0%                          50%                         100%|\n",
      " ============================================================\n",
      "2022-01-13 13:47:07 INFO: Time 0:00:00.029251 taken by WriteMemoryIOData\n",
      "Executing data specifications and loading data for application vertices\n",
      "|0%                          50%                         100%|\n",
      " ============================================================\n",
      "2022-01-13 13:47:09 INFO: Time 0:00:02.152965 taken by HostExecuteApplicationDataSpecification\n",
      "Expanding Synapses\n",
      "|0%                          50%                         100%|\n",
      " ============================================================\n",
      "2022-01-13 13:47:13 INFO: Time 0:00:03.755547 taken by SynapseExpander\n",
      "Writing fixed route report\n",
      "|0%                          50%                         100%|\n",
      " ============================================================\n",
      "2022-01-13 13:47:13 INFO: Time 0:00:00.043000 taken by FixedRouteFromMachineReport\n",
      "Loading executables onto the machine\n",
      "|0%                          50%                         100%|\n",
      " ============================================================\n",
      "2022-01-13 13:47:19 INFO: Time 0:00:06.772860 taken by LoadApplicationExecutableImages\n",
      "Reading Routing Tables from Machine\n",
      "|0%                          50%                         100%|\n",
      " ============================================================\n",
      "2022-01-13 13:47:19 INFO: Time 0:00:00.011335 taken by RoutingTableFromMachineReport\n",
      "Generating compressed router table report\n",
      "|0%                          50%                         100%|\n",
      " ============================================================\n",
      "2022-01-13 13:47:19 INFO: Time 0:00:00.009759 taken by compressedRoutingTableReports\n",
      "Generating comparison of router table report\n",
      "|0%                          50%                         100%|\n",
      " ============================================================\n",
      "2022-01-13 13:47:19 INFO: Time 0:00:00.004127 taken by comparisonOfRoutingTablesReport\n",
      "2022-01-13 13:47:19 INFO: Running for 1 steps for a total of 1000.0ms\n",
      "2022-01-13 13:47:19 INFO: Run 1 of 1\n",
      "Generating SDRAM usage report\n",
      "|0%                          50%                         100%|\n",
      " ============================================================\n",
      "2022-01-13 13:47:20 INFO: Time 0:00:00.068436 taken by SdramUsageReportPerChip\n",
      "Updating run time\n",
      "|0%                          50%                         100%|\n",
      " ============================================================\n",
      "2022-01-13 13:47:20 INFO: Time 0:00:00.025840 taken by ChipRuntimeUpdater\n",
      "2022-01-13 13:47:20 INFO: creating live event connection database in /home/spinnaker/CNT-2022/SpiNNaker/application_generated_data_files/2022-01-13-13-46-16-629159/run_1/input_output_database.db\n",
      "Creating graph description database\n",
      "|0%                          50%                         100%|\n",
      " ============================================================\n",
      "2022-01-13 13:47:20 INFO: Time 0:00:00.054552 taken by DatabaseInterface\n",
      "2022-01-13 13:47:20 INFO: ** Notifying external sources that the database is ready for reading **\n",
      "2022-01-13 13:47:20 INFO: Time 0:00:00.001026 taken by NotificationProtocol\n",
      "2022-01-13 13:47:20 INFO: *** Running simulation... *** \n",
      "Loading buffers\n",
      "|0%                          50%                         100%|\n",
      " ============================================================\n",
      "2022-01-13 13:47:20 INFO: ** Awaiting for a response from an external source to state its ready for the simulation to start **\n",
      "2022-01-13 13:47:20 INFO: ** Sending start / resume message to external sources to state the simulation has started or resumed. **\n",
      "2022-01-13 13:47:20 INFO: ** Awaiting for a response from an external source to state its ready for the simulation to start **\n",
      "2022-01-13 13:47:20 INFO: Application started; waiting 1.1s for it to stop\n",
      "2022-01-13 13:47:21 INFO: ** Sending pause / stop message to external sources to state the simulation has been paused or stopped. **\n",
      "2022-01-13 13:47:21 INFO: Time 0:00:01.193003 taken by ApplicationRunner\n",
      "Extracting buffers from the last run\n",
      "|0%                          50%                         100%|\n",
      " ============================================================\n",
      "2022-01-13 13:47:21 INFO: Time 0:00:00.158530 taken by BufferExtractor\n",
      "Getting provenance data from machine graph\n",
      "|0%                          50%                         100%|\n",
      " ============================================================\n",
      "Getting provenance data from application graph\n",
      "|0%                          50%                         100%|\n",
      " ============================================================\n",
      "2022-01-13 13:47:21 INFO: Time 0:00:00.066220 taken by GraphProvenanceGatherer\n",
      "Getting provenance data\n",
      "|0%                          50%                         100%|\n",
      " ============================================================\n",
      "2022-01-13 13:47:21 INFO: Time 0:00:00.023212 taken by PlacementsProvenanceGatherer\n",
      "Getting Router Provenance\n",
      "|0%                          50%                         100%|\n",
      " ============================================================\n",
      "2022-01-13 13:47:21 INFO: Time 0:00:00.071262 taken by RouterProvenanceGatherer\n",
      "Getting profile data\n",
      "|0%                          50%                         100%|\n",
      " ============================================================\n",
      "2022-01-13 13:47:21 INFO: Time 0:00:00.021166 taken by ProfileDataGatherer\n"
     ]
    },
    {
     "data": {
      "text/plain": [
       "'\\na network of 20 cells receiving 5 random thalamic inputs\\n\\n'"
      ]
     },
     "execution_count": 8,
     "metadata": {},
     "output_type": "execute_result"
    }
   ],
   "source": [
    "# run simulation\n",
    "\n",
    "sim.run(simtime) # 1000 ms\n",
    "\n",
    "\n",
    "\"\"\"\n",
    "a network of 20 cells receiving 5 random thalamic inputs\n",
    "\n",
    "\"\"\""
   ]
  },
  {
   "cell_type": "code",
   "execution_count": 10,
   "metadata": {},
   "outputs": [
    {
     "name": "stderr",
     "output_type": "stream",
     "text": [
      "Getting spikes for cells\n",
      "|0%                          50%                         100%|\n",
      " ============================================================\n",
      "Getting v for cells\n",
      "|0%                          50%                         100%|\n",
      " ============================================================\n",
      "Getting gsyn_exc for cells\n",
      "|0%                          50%                         100%|\n",
      " ============================================================\n",
      "Getting gsyn_inh for cells\n",
      "|0%                          50%                         100%|\n",
      " ============================================================\n",
      "Getting spikes for cells\n",
      "|0%                          50%                         100%|\n",
      " ============================================================\n",
      "Getting v for cells\n",
      "|0%                          50%                         100%|\n",
      " ============================================================\n",
      "Getting gsyn_exc for cells\n",
      "|0%                          50%                         100%|\n",
      " ============================================================\n",
      "Getting gsyn_inh for cells\n",
      "|0%                          50%                         100%|\n",
      " ============================================================\n",
      "Getting spikes for cells\n",
      "|0%                          50%                         100%|\n",
      " ============================================================\n",
      "Getting v for cells\n",
      "|0%                          50%                         100%|\n",
      " ============================================================\n",
      "Getting gsyn_exc for cells\n",
      "|0%                          50%                         100%|\n",
      " ============================================================\n",
      "Getting gsyn_inh for cells\n",
      "|0%                          50%                         100%|\n",
      " ============================================================\n",
      "Getting spikes for cells\n",
      "|0%                          50%                         100%|\n",
      " ============================================================\n",
      "Getting v for cells\n",
      "|0%                          50%                         100%|\n",
      " ============================================================\n",
      "Getting gsyn_exc for cells\n",
      "|0%                          50%                         100%|\n",
      " ============================================================\n",
      "Getting gsyn_inh for cells\n",
      "|0%                          50%                         100%|\n",
      " ============================================================\n",
      "Getting spikes for cells\n",
      "|0%                          50%                         100%|\n",
      " ============================================================\n",
      "Getting v for cells\n",
      "|0%                          50%                         100%|\n",
      " ============================================================\n",
      "Getting gsyn_exc for cells\n",
      "|0%                          50%                         100%|\n",
      " ============================================================\n",
      "Getting gsyn_inh for cells\n",
      "|0%                          50%                         100%|\n",
      " ============================================================\n",
      "Getting spikes for SpikeSourceArrayVertex_1\n",
      "|0%                          50%                         100%|\n",
      " ============================================================\n",
      "Getting spikes for SpikeSourceArrayVertex_1\n",
      "|0%                          50%                         100%|\n",
      " ============================================================\n"
     ]
    }
   ],
   "source": [
    "# save the results\n",
    "\n",
    "outputs = {}\n",
    "\n",
    "outputs['cx'] = pops['cx'].get_data()\n",
    "for recording in ['v', 'gsyn_inh', 'gsyn_exc', 'spikes']:\n",
    "    pops['cx'].write_data(fileName + '_' + str(recording) + '.pkl')\n",
    "\n",
    "outputs['thal'] = pops['thalamus'].get_data()\n",
    "for recording in ['spikes']:\n",
    "    pops['thalamus'].write_data(fileName + '_' + str(recording) + '.pkl')\n"
   ]
  },
  {
   "cell_type": "code",
   "execution_count": 13,
   "metadata": {},
   "outputs": [],
   "source": [
    "# recover results function\n",
    "\n",
    "def recover_results(outputs):\n",
    "    results = {}\n",
    "    for key in outputs.keys(): # to extract the name of the layer, e.g., Exc, Inh, Thalamus, etc  \n",
    "        \n",
    "        # to get voltage and conductances\n",
    "        for analogsignal in outputs[key].segments[0].analogsignals:\n",
    "            print(analogsignal.name)\n",
    "            results[key, analogsignal.name] = analogsignal\n",
    "\n",
    "        # to get spikes\n",
    "        results[key, 'spikes'] = outputs[key].segments[0].spiketrains\n",
    "    return results"
   ]
  },
  {
   "cell_type": "code",
   "execution_count": 14,
   "metadata": {},
   "outputs": [
    {
     "name": "stdout",
     "output_type": "stream",
     "text": [
      "v\n",
      "gsyn_exc\n",
      "gsyn_inh\n"
     ]
    },
    {
     "data": {
      "text/plain": [
       "dict_keys([('cx', 'v'), ('cx', 'gsyn_exc'), ('cx', 'gsyn_inh'), ('cx', 'spikes'), ('thal', 'spikes')])"
      ]
     },
     "execution_count": 14,
     "metadata": {},
     "output_type": "execute_result"
    }
   ],
   "source": [
    "# check results\n",
    "\n",
    "results = recover_results(outputs)\n",
    "results.keys()"
   ]
  },
  {
   "cell_type": "code",
   "execution_count": 18,
   "metadata": {},
   "outputs": [
    {
     "name": "stderr",
     "output_type": "stream",
     "text": [
      "Getting spikes for cells\n",
      "|0%                          50%                         100%|\n",
      " ============================================================\n",
      "Getting spikes for SpikeSourceArrayVertex_1\n",
      "|0%                          50%                         100%|\n",
      " ============================================================"
     ]
    },
    {
     "name": "stdout",
     "output_type": "stream",
     "text": [
      "CX Mean firing rate:  5.4 Hz\n",
      "TH Mean firing rate:  1.8 Hz\n"
     ]
    },
    {
     "name": "stderr",
     "output_type": "stream",
     "text": [
      "\n"
     ]
    }
   ],
   "source": [
    "# check the mean firing rate\n",
    "\n",
    "print(\"CX Mean firing rate: \", pops['cx'].mean_spike_count() * 1000.0 / simtime, \"Hz\")\n",
    "\n",
    "print(\"TH Mean firing rate: \", pops['thalamus'].mean_spike_count() * 1000.0 / simtime, \"Hz\")"
   ]
  },
  {
   "cell_type": "code",
   "execution_count": 22,
   "metadata": {},
   "outputs": [
    {
     "data": {
      "application/vnd.jupyter.widget-view+json": {
       "model_id": "e662ac52e7e54aee9797a453508b7beb",
       "version_major": 2,
       "version_minor": 0
      },
      "text/plain": [
       "Canvas(toolbar=Toolbar(toolitems=[('Home', 'Reset original view', 'home', 'home'), ('Back', 'Back to previous …"
      ]
     },
     "metadata": {},
     "output_type": "display_data"
    },
    {
     "data": {
      "text/plain": [
       "(0.0, 1000.0)"
      ]
     },
     "execution_count": 22,
     "metadata": {},
     "output_type": "execute_result"
    }
   ],
   "source": [
    "# check the spikes\n",
    "\n",
    "fig, axes = plt.subplots(2,1,figsize=(9,9))\n",
    "fig.tight_layout(pad=5)\n",
    "axes_list = fig.axes\n",
    "\n",
    "axes_list[0].eventplot(results['thal', 'spikes'], color='k', label='t')\n",
    "axes_list[0].set_title('rasterplot of thalamic cells')\n",
    "axes_list[1].set_title('rasterplot of cx cells')\n",
    "axes_list[1].eventplot(results['thal', 'spikes'], color='r', label='cx')\n",
    "\n",
    "\n",
    "axes_list[0].set_xlabel('[ms]')\n",
    "axes_list[0].set_ylabel('cells')\n",
    "axes_list[0].set_xlim(0, simtime)\n",
    "\n",
    "axes_list[1].set_xlabel('[ms]')\n",
    "axes_list[1].set_ylabel('cells')\n",
    "axes_list[1].set_xlim(0, simtime)\n",
    "\n"
   ]
  },
  {
   "cell_type": "code",
   "execution_count": 26,
   "metadata": {},
   "outputs": [
    {
     "data": {
      "text/plain": [
       "[7, 9, 0, 0, 0]"
      ]
     },
     "execution_count": 26,
     "metadata": {},
     "output_type": "execute_result"
    }
   ],
   "source": [
    "random_sources_idx"
   ]
  },
  {
   "cell_type": "code",
   "execution_count": 27,
   "metadata": {},
   "outputs": [
    {
     "data": {
      "application/vnd.jupyter.widget-view+json": {
       "model_id": "a20c7b6be42b45a39b84ee1cfe06eb26",
       "version_major": 2,
       "version_minor": 0
      },
      "text/plain": [
       "Canvas(toolbar=Toolbar(toolitems=[('Home', 'Reset original view', 'home', 'home'), ('Back', 'Back to previous …"
      ]
     },
     "metadata": {},
     "output_type": "display_data"
    },
    {
     "data": {
      "text/plain": [
       "<matplotlib.legend.Legend at 0x7f3374753240>"
      ]
     },
     "execution_count": 27,
     "metadata": {},
     "output_type": "execute_result"
    }
   ],
   "source": [
    "# check the voltage\n",
    "\n",
    "pickedCell = random_sources_idx[1]\n",
    "\n",
    "fig, axes = plt.subplots(1, 1)\n",
    "fig.tight_layout(pad=3)\n",
    "\n",
    "axes_list = fig.axes\n",
    "axes_list[0].plot(results['cx', 'v'].T[pickedCell], label='cell_' + str(pickedCell))\n",
    "\n",
    "axes_list[0].set_title('voltage of cells')\n",
    "axes_list[0].set_xlabel('time [ms]')\n",
    "axes_list[0].set_ylabel('[mV]')\n",
    "axes_list[0].legend()\n"
   ]
  },
  {
   "cell_type": "code",
   "execution_count": 29,
   "metadata": {},
   "outputs": [
    {
     "data": {
      "application/vnd.jupyter.widget-view+json": {
       "model_id": "511ce28030294264990b994a7f7ab6c6",
       "version_major": 2,
       "version_minor": 0
      },
      "text/plain": [
       "Canvas(toolbar=Toolbar(toolitems=[('Home', 'Reset original view', 'home', 'home'), ('Back', 'Back to previous …"
      ]
     },
     "metadata": {},
     "output_type": "display_data"
    }
   ],
   "source": [
    "# check the conductance\n",
    "\n",
    "pickedCell = random_sources_idx[1]\n",
    "\n",
    "fig, axes = plt.subplots(2, 1)\n",
    "fig.tight_layout(pad=5)\n",
    "\n",
    "axes_list = fig.axes\n",
    "\n",
    "for idx, conductance in enumerate(['gsyn_exc', 'gsyn_inh']):\n",
    "\n",
    "    fig.tight_layout(pad=3)\n",
    "    axes_list = fig.axes\n",
    "    axes_list[idx].plot(results['cx', conductance].T[pickedCell], label='cell_' + str(pickedCell))\n",
    "    axes_list[idx].set_title(conductance)\n",
    "    axes_list[idx].set_xlabel('time [ms]')\n",
    "    axes_list[idx].set_ylabel('[uS]')\n",
    "    axes_list[idx].legend()"
   ]
  },
  {
   "cell_type": "markdown",
   "metadata": {},
   "source": [
    "## task 1: on the state variables \n",
    "\n",
    "- why the gsyn_inh (conductance related to cell inhibition) is equal to zero?"
   ]
  },
  {
   "cell_type": "markdown",
   "metadata": {},
   "source": [
    "## task 2: on neuronal parameters\n",
    "\n",
    "- change the tau_m (membrane time constant) parameter and have a look at the changes on the voltage trace.\n",
    "\n",
    "- change other neuronal parameters and investigate their effect on the network behaviour\n",
    "\n",
    "- info about parameters http://neuralensemble.org/docs/PyNN/standardmodels.html"
   ]
  },
  {
   "cell_type": "markdown",
   "metadata": {},
   "source": [
    "## task 3: on neuronal model\n",
    "\n",
    "- test another cell type looking at `sim.list_standard_models()`\n"
   ]
  },
  {
   "cell_type": "markdown",
   "metadata": {},
   "source": [
    "\n"
   ]
  },
  {
   "cell_type": "code",
   "execution_count": null,
   "metadata": {},
   "outputs": [],
   "source": []
  },
  {
   "cell_type": "code",
   "execution_count": null,
   "metadata": {},
   "outputs": [],
   "source": []
  }
 ],
 "metadata": {
  "kernelspec": {
   "display_name": "sPyNNaker",
   "language": "python",
   "name": "spynnaker"
  },
  "language_info": {
   "codemirror_mode": {
    "name": "ipython",
    "version": 3
   },
   "file_extension": ".py",
   "mimetype": "text/x-python",
   "name": "python",
   "nbconvert_exporter": "python",
   "pygments_lexer": "ipython3",
   "version": "3.6.9"
  }
 },
 "nbformat": 4,
 "nbformat_minor": 4
}
