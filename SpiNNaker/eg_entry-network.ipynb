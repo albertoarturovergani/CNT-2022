{
 "cells": [
  {
   "cell_type": "markdown",
   "metadata": {},
   "source": [
    "# Small network\n",
    "\n",
    "- a network of 20 cells receiving 5 random thalamic inputs"
   ]
  },
  {
   "cell_type": "code",
   "execution_count": 1,
   "metadata": {},
   "outputs": [],
   "source": [
    "# set fileName\n",
    "\n",
    "fileName = \"eg_small-network\""
   ]
  },
  {
   "cell_type": "code",
   "execution_count": 2,
   "metadata": {},
   "outputs": [
    {
     "name": "stdout",
     "output_type": "stream",
     "text": [
      "Detected PyNN version 0.9.4 and Neo version 0.6.1\n"
     ]
    }
   ],
   "source": [
    "# set libs\n",
    "\n",
    "import pyNN.spiNNaker as sim\n",
    "from pyNN import space \n",
    "import numpy as np\n",
    "import matplotlib.pyplot as plt"
   ]
  },
  {
   "cell_type": "code",
   "execution_count": 3,
   "metadata": {},
   "outputs": [
    {
     "name": "stderr",
     "output_type": "stream",
     "text": [
      "2022-01-12 08:48:59 INFO: Read cfg files: /home/spinnaker/sPyNNaker/lib/python3.6/site-packages/spinn_front_end_common/interface/spinnaker.cfg, /home/spinnaker/sPyNNaker/lib/python3.6/site-packages/spynnaker/pyNN/spynnaker.cfg, /home/spinnaker/.spynnaker.cfg\n",
      "2022-01-12 08:48:59 INFO: Will search these locations for binaries: /home/spinnaker/sPyNNaker/lib/python3.6/site-packages/spinn_front_end_common/common_model_binaries : /home/spinnaker/sPyNNaker/lib/python3.6/site-packages/spynnaker/pyNN/model_binaries\n",
      "2022-01-12 08:48:59 INFO: Setting time scale factor to 1.\n",
      "2022-01-12 08:48:59 INFO: Setting machine time step to 1000 micro-seconds.\n",
      "2022-01-12 08:48:59 WARNING: Extra params {'min_dealy': 1} have been applied to the setup command which we do not consider\n"
     ]
    },
    {
     "name": "stdout",
     "output_type": "stream",
     "text": [
      "['/home/spinnaker/sPyNNaker/lib/python3.6/site-packages/spinn_front_end_common/interface/spinnaker.cfg', '/home/spinnaker/sPyNNaker/lib/python3.6/site-packages/spynnaker/pyNN/spynnaker.cfg', '/home/spinnaker/.spynnaker.cfg']\n"
     ]
    },
    {
     "data": {
      "text/plain": [
       "0"
      ]
     },
     "execution_count": 3,
     "metadata": {},
     "output_type": "execute_result"
    }
   ],
   "source": [
    "# simulation setting\n",
    "\n",
    "dt         = 1 # ms\n",
    "min_delay = 1 # ms\n",
    "max_delay  = 1.0 # ms\n",
    "simtime    = 1000.0 # ms\n",
    "\n",
    "sim.setup(timestep = dt, \n",
    "          min_dealy = min_delay,\n",
    "          max_delay = max_delay)"
   ]
  },
  {
   "cell_type": "code",
   "execution_count": 4,
   "metadata": {},
   "outputs": [],
   "source": [
    "# network parameters\n",
    "\n",
    "n_pop = 20     # Number of cells\n",
    "weight = 0.05  # synaptic weight (µS)\n",
    "\n",
    "cell_params = {\n",
    "    'tau_m'      : 20.0,   # (ms)\n",
    "    'tau_syn_E'  : 2.0,    # (ms)\n",
    "    'tau_syn_I'  : 4.0,    # (ms)\n",
    "    'e_rev_E'    : 0.0,    # (mV)\n",
    "    'e_rev_I'    : -70.0,  # (mV)\n",
    "    'tau_refrac' : 2.0,    # (ms)\n",
    "    'v_rest'     : -60.0,  # (mV)\n",
    "    'v_reset'    : -70.0,  # (mV)\n",
    "    'v_thresh'   : -50.0,  # (mV)\n",
    "    'cm'         : 0.5}    # (nF)\n",
    "\n",
    "# see parameters meaning in http://neuralensemble.org/docs/PyNN/standardmodels.html"
   ]
  },
  {
   "cell_type": "code",
   "execution_count": 5,
   "metadata": {},
   "outputs": [],
   "source": [
    "# making the network\n",
    "cells = sim.Population(n_pop, # number of cells\n",
    "                       sim.IF_cond_exp, # cell model\n",
    "                       cell_params, # cell parameters\n",
    "                       label=\"cells\")\n",
    "\n",
    "# record state variables\n",
    "\n",
    "cells.record(['spikes'])\n",
    "cells.record(['v', 'gsyn_exc', 'gsyn_inh'])"
   ]
  },
  {
   "cell_type": "code",
   "execution_count": 6,
   "metadata": {},
   "outputs": [
    {
     "data": {
      "application/vnd.jupyter.widget-view+json": {
       "model_id": "772eb4428f564c429aaf4303f5592b48",
       "version_major": 2,
       "version_minor": 0
      },
      "text/plain": [
       "Canvas(toolbar=Toolbar(toolitems=[('Home', 'Reset original view', 'home', 'home'), ('Back', 'Back to previous …"
      ]
     },
     "metadata": {},
     "output_type": "display_data"
    },
    {
     "name": "stdout",
     "output_type": "stream",
     "text": [
      "selected random sources [12, 13, 8, 16, 17]\n"
     ]
    }
   ],
   "source": [
    "# designing the thalamic input\n",
    "\n",
    "spike_times = [[]]*n_pop #list of spike lists, where one spike list is related to one spike source\n",
    "random_sources_idx = [np.random.randint(0, n_pop) for i in range(5)]\n",
    "\n",
    "for idx, sources in enumerate(random_sources_idx):\n",
    "    #spike_times[sources] = [np.random.normal(loc=10, scale=0.1) for n in range(10)]\n",
    "    spike_times[sources] = np.sort(np.arange(200, 800, 50).tolist())\n",
    "\n",
    "spike_source = sim.Population(n_pop, sim.SpikeSourceArray(spike_times=spike_times))\n",
    "spike_source.record('spikes')\n",
    "\n",
    "input_conns = sim.Projection(spike_source, # from \n",
    "                             cells, # to\n",
    "                             connector = sim.FixedProbabilityConnector(0.25), \n",
    "                             synapse_type = sim.StaticSynapse(weight=weight, delay=min_delay),\n",
    "                             receptor_type = 'excitatory')\n",
    "\n",
    "fig, axes = plt.subplots(1,1)\n",
    "axes_list = fig.axes\n",
    "axes_list[0].eventplot(spike_times)\n",
    "axes_list[0].set_xlabel('[ms]')\n",
    "axes_list[0].set_ylabel('thalamic spike sources')\n",
    "axes_list[0].set_title('rasterplot')\n",
    "axes_list[0].set_xlim(0, simtime)\n",
    "print('selected random sources', random_sources_idx)\n"
   ]
  },
  {
   "cell_type": "code",
   "execution_count": 7,
   "metadata": {},
   "outputs": [
    {
     "name": "stderr",
     "output_type": "stream",
     "text": [
      "2022-01-12 08:49:02 INFO: Simulating for 1000 1.0ms timesteps using a hardware timestep of 1000us\n",
      "2022-01-12 08:49:02 INFO: Starting execution process\n",
      "2022-01-12 08:49:05 INFO: Time 0:00:03.297956 taken by SpallocMaxMachineGenerator\n",
      "Pre allocating resources for Extra Monitor support vertices\n",
      "|0%                          50%                         100%|\n",
      " ============================================================\n",
      "2022-01-12 08:49:14 INFO: Time 0:00:08.939067 taken by PreAllocateResourcesForExtraMonitorSupport\n",
      "Partitioning graph vertices\n",
      "|0%                          50%                         100%|\n",
      " ============================================================\n",
      "Partitioning graph edges\n",
      "|0%                          50%                         100%|\n",
      " ============================================================\n",
      "2022-01-12 08:49:19 INFO: Time 0:00:05.047440 taken by PartitionAndPlacePartitioner\n",
      "Created spalloc job 6244436\n",
      "2022-01-12 08:49:19 INFO: Created spalloc job 6244436\n",
      "Waiting for board power commands to complete.\n",
      "2022-01-12 08:49:20 INFO: Waiting for board power commands to complete.\n",
      "2022-01-12 08:49:28 INFO: Time 0:00:08.939943 taken by SpallocAllocator\n",
      "2022-01-12 08:49:28 INFO: Creating transceiver for 10.11.194.1\n",
      "2022-01-12 08:49:28 INFO: Working out if machine is booted\n",
      "2022-01-12 08:49:32 INFO: Attempting to boot machine\n",
      "2022-01-12 08:49:38 INFO: Found board with version [Version: SC&MP 3.2.5 at SpiNNaker:0:0:0 (built Thu Aug  1 08:15:06 2019)]\n",
      "2022-01-12 08:49:38 INFO: Machine communication successful\n",
      "2022-01-12 08:49:38 INFO: Detected a machine on IP address 10.11.194.1 which has 837 cores and 114.0 links\n",
      "2022-01-12 08:49:38 INFO: Time 0:00:09.633824 taken by MachineGenerator\n",
      "Generating partitioner report\n",
      "|0%                          50%                         100%|\n",
      " ============================================================\n",
      "2022-01-12 08:49:38 INFO: Time 0:00:00.009119 taken by PartitionerReport\n",
      "2022-01-12 08:49:38 INFO: Time 0:00:00.000214 taken by NetworkSpecificationReport\n",
      "Allocating virtual identifiers\n",
      "|0%                          50%                         100%|\n",
      " ============================================================\n",
      "2022-01-12 08:49:38 INFO: Time 0:00:00.025180 taken by MallocBasedChipIDAllocator\n",
      "Inserting extra monitors into graphs\n",
      "|0%                          50%                         100%|\n",
      " ============================================================\n",
      "2022-01-12 08:49:38 INFO: Time 0:00:00.023007 taken by InsertExtraMonitorVerticesToGraphs\n",
      "Writing the board chip report\n",
      "|0%                          50%                         100%|\n",
      " ============================================================\n",
      "2022-01-12 08:49:38 INFO: Time 0:00:00.002501 taken by BoardChipReport\n",
      "Filtering edges\n",
      "|0%                          50%                         100%|\n",
      " ============================================================\n",
      "2022-01-12 08:49:38 INFO: Time 0:00:00.021623 taken by GraphEdgeFilter\n",
      "Placing graph vertices\n",
      "|0%                          50%                         100%|\n",
      " ============================================================\n",
      "2022-01-12 08:49:38 INFO: Time 0:00:00.027685 taken by OneToOnePlacer\n",
      "Inserting edges between vertices which require FR speed up functionality.\n",
      "|0%                          50%                         100%|\n",
      " ============================================================\n",
      "2022-01-12 08:49:38 INFO: Time 0:00:00.038606 taken by InsertEdgesToExtraMonitorFunctionality\n",
      "Generating routing tables for data in system processes\n",
      "|0%                          50%                         100%|\n",
      " ============================================================\n",
      "2022-01-12 08:49:38 INFO: Time 0:00:00.005926 taken by DataInMulticastRoutingGenerator\n",
      "Generating fixed router routes\n",
      "|0%                          50%                         100%|\n",
      " ============================================================\n",
      "2022-01-12 08:49:38 INFO: Time 0:00:00.005105 taken by FixedRouteRouter\n",
      "Generating placement report\n",
      "|0%                          50%                         100%|\n",
      " ============================================================\n",
      "Generating placement by core report\n",
      "|0%                          50%                         100%|\n",
      " ============================================================\n",
      "2022-01-12 08:49:38 INFO: Time 0:00:00.062841 taken by PlacerReportWithApplicationGraph\n",
      "Routing\n",
      "|0%                          50%                         100%|\n",
      " ============================================================\n",
      "\n",
      "2022-01-12 08:49:38 INFO: Time 0:00:00.024656 taken by NerRoute\n",
      "Discovering tags\n",
      "|0%                          50%                         100%|\n",
      " ============================================================\n",
      "Allocating tags\n",
      "|0%                          50%                         100%|\n",
      " ============================================================\n",
      "2022-01-12 08:49:38 INFO: Time 0:00:00.034503 taken by BasicTagAllocator\n",
      "Reporting Tags\n",
      "|0%                          50%                         100%|\n",
      " ============================================================\n",
      "2022-01-12 08:49:38 INFO: Time 0:00:00.048274 taken by TagReport\n",
      "Getting number of keys required by each edge using application graph\n",
      "|0%                          50%                         100%|\n",
      " ============================================================\n",
      "2022-01-12 08:49:38 INFO: Time 0:00:00.024499 taken by EdgeToNKeysMapper\n",
      "Getting constraints for application graph\n",
      "|0%                          50%                         100%|\n",
      " ============================================================\n",
      "2022-01-12 08:49:38 INFO: Time 0:00:00.022117 taken by ProcessPartitionConstraints\n",
      "Allocating routing keys\n",
      "|0%                          50%                         100%|\n",
      " ============================================================\n",
      "2022-01-12 08:49:38 INFO: Time 0:00:00.017689 taken by MallocBasedRoutingInfoAllocator\n",
      "Generating Routing info report\n",
      "|0%                          50%                         100%|\n",
      " ============================================================\n",
      "2022-01-12 08:49:38 INFO: Time 0:00:00.028951 taken by routingInfoReports\n",
      "Generating routing tables\n",
      "|0%                          50%                         100%|\n",
      " ============================================================\n",
      "2022-01-12 08:49:39 INFO: Time 0:00:00.029800 taken by BasicRoutingTableGenerator\n",
      "Finding executable start types\n",
      "|0%                          50%                         100%|\n",
      " ============================================================\n",
      "2022-01-12 08:49:39 INFO: Time 0:00:00.035334 taken by LocateExecutableStartType\n",
      "Initialising buffers\n",
      "|0%                          50%                         100%|\n",
      " ============================================================\n",
      "2022-01-12 08:49:39 INFO: Time 0:00:00.045087 taken by BufferManagerCreator\n",
      "Generating data specifications\n",
      "|0%                          50%                         100%|\n",
      " ============================================================\n",
      "2022-01-12 08:49:39 INFO: Time 0:00:00.069899 taken by SpynnakerDataSpecificationWriter\n",
      "Preparing Routing Tables\n",
      "|0%                          50%                         100%|\n",
      " ============================================================\n",
      "2022-01-12 08:49:39 INFO: Time 0:00:00.011514 taken by RoutingSetup\n",
      "Finding binaries\n",
      "|0%                          50%                         100%|\n",
      " ============================================================\n",
      "2022-01-12 08:49:39 INFO: Time 0:00:00.032931 taken by GraphBinaryGatherer\n",
      "Running routing table compression on chip\n",
      "|0%                          50%                         100%|\n",
      " ============================================================\n",
      "2022-01-12 08:49:43 INFO: Time 0:00:04.533886 taken by MundyOnChipRouterCompression\n",
      "Generating Router table report\n",
      "|0%                          50%                         100%|\n",
      " ============================================================\n",
      "2022-01-12 08:49:43 INFO: Time 0:00:00.010312 taken by unCompressedRoutingTableReports\n",
      "loading fixed routes\n",
      "|0%                          50%                         100%|\n",
      " ============================================================\n",
      "2022-01-12 08:49:43 INFO: Time 0:00:00.041908 taken by LoadFixedRoutes\n",
      "Executing data specifications and loading data for system vertices\n",
      "|0%                          50%                         100%|\n",
      " ============================================================\n",
      "2022-01-12 08:49:43 INFO: Time 0:00:00.142555 taken by HostExecuteSystemDataSpecification\n",
      "Loading system executables onto the machine\n",
      "|0%                          50%                         100%|\n",
      " ============================================================\n",
      "2022-01-12 08:49:50 INFO: Time 0:00:06.735647 taken by LoadSystemExecutableImages\n",
      "Clearing tags\n",
      "|0%                          50%                         100%|\n",
      " ============================================================\n",
      "Loading Tags\n",
      "|0%                          50%                         100%|\n",
      " ============================================================\n",
      "2022-01-12 08:49:50 INFO: Time 0:00:00.024732 taken by TagsLoader\n",
      "Writing data\n",
      "|0%                          50%                         100%|\n",
      " ============================================================\n",
      "2022-01-12 08:49:50 INFO: Time 0:00:00.033878 taken by WriteMemoryIOData\n",
      "Executing data specifications and loading data for application vertices\n",
      "|0%                          50%                         100%|\n",
      " ============================================================\n",
      "2022-01-12 08:49:52 INFO: Time 0:00:02.160981 taken by HostExecuteApplicationDataSpecification\n",
      "Expanding Synapses\n",
      "|0%                          50%                         100%|\n",
      " ============================================================\n",
      "2022-01-12 08:49:56 INFO: Time 0:00:03.749931 taken by SynapseExpander\n",
      "Writing fixed route report\n",
      "|0%                          50%                         100%|\n",
      " ============================================================\n",
      "2022-01-12 08:49:56 INFO: Time 0:00:00.042857 taken by FixedRouteFromMachineReport\n",
      "Loading executables onto the machine\n",
      "|0%                          50%                         100%|\n",
      " ============================================================\n",
      "2022-01-12 08:50:03 INFO: Time 0:00:06.769133 taken by LoadApplicationExecutableImages\n",
      "Reading Routing Tables from Machine\n",
      "|0%                          50%                         100%|\n",
      " ============================================================\n",
      "2022-01-12 08:50:03 INFO: Time 0:00:00.013792 taken by RoutingTableFromMachineReport\n",
      "Generating compressed router table report\n",
      "|0%                          50%                         100%|\n",
      " ============================================================\n",
      "2022-01-12 08:50:03 INFO: Time 0:00:00.005441 taken by compressedRoutingTableReports\n",
      "Generating comparison of router table report\n",
      "|0%                          50%                         100%|\n",
      " ============================================================\n",
      "2022-01-12 08:50:03 INFO: Time 0:00:00.013552 taken by comparisonOfRoutingTablesReport\n",
      "2022-01-12 08:50:03 INFO: Running for 1 steps for a total of 1000.0ms\n",
      "2022-01-12 08:50:03 INFO: Run 1 of 1\n",
      "Generating SDRAM usage report\n",
      "|0%                          50%                         100%|\n",
      " ============================================================\n",
      "2022-01-12 08:50:03 INFO: Time 0:00:00.068933 taken by SdramUsageReportPerChip\n",
      "Updating run time\n",
      "|0%                          50%                         100%|\n",
      " ============================================================\n",
      "2022-01-12 08:50:03 INFO: Time 0:00:00.026797 taken by ChipRuntimeUpdater\n",
      "2022-01-12 08:50:03 INFO: creating live event connection database in /home/spinnaker/CNT-2022/SpiNNaker/application_generated_data_files/2022-01-12-08-48-59-400228/run_1/input_output_database.db\n",
      "Creating graph description database\n",
      "|0%                          50%                         100%|\n",
      " ============================================================\n",
      "2022-01-12 08:50:03 INFO: Time 0:00:00.056180 taken by DatabaseInterface\n",
      "2022-01-12 08:50:03 INFO: ** Notifying external sources that the database is ready for reading **\n",
      "2022-01-12 08:50:03 INFO: Time 0:00:00.001423 taken by NotificationProtocol\n",
      "2022-01-12 08:50:03 INFO: *** Running simulation... *** \n",
      "Loading buffers\n",
      "|0%                          50%                         100%|\n",
      " ============================================================\n",
      "2022-01-12 08:50:03 INFO: ** Awaiting for a response from an external source to state its ready for the simulation to start **\n",
      "2022-01-12 08:50:03 INFO: ** Sending start / resume message to external sources to state the simulation has started or resumed. **\n",
      "2022-01-12 08:50:03 INFO: ** Awaiting for a response from an external source to state its ready for the simulation to start **\n",
      "2022-01-12 08:50:03 INFO: Application started; waiting 1.1s for it to stop\n",
      "2022-01-12 08:50:04 INFO: ** Sending pause / stop message to external sources to state the simulation has been paused or stopped. **\n",
      "2022-01-12 08:50:04 INFO: Time 0:00:01.187852 taken by ApplicationRunner\n",
      "Extracting buffers from the last run\n",
      "|0%                          50%                         100%|\n",
      " ============================================================\n",
      "2022-01-12 08:50:05 INFO: Time 0:00:00.162677 taken by BufferExtractor\n",
      "Getting provenance data from machine graph\n",
      "|0%                          50%                         100%|\n",
      " ============================================================\n",
      "Getting provenance data from application graph\n",
      "|0%                          50%                         100%|\n",
      " ============================================================\n",
      "2022-01-12 08:50:05 INFO: Time 0:00:00.085788 taken by GraphProvenanceGatherer\n",
      "Getting provenance data\n",
      "|0%                          50%                         100%|\n",
      " ============================================================\n",
      "2022-01-12 08:50:05 INFO: Time 0:00:00.033309 taken by PlacementsProvenanceGatherer\n",
      "Getting Router Provenance\n",
      "|0%                          50%                         100%|\n",
      " ============================================================\n",
      "2022-01-12 08:50:05 INFO: Time 0:00:00.052407 taken by RouterProvenanceGatherer\n",
      "Getting profile data\n",
      "|0%                          50%                         100%|\n",
      " ============================================================\n",
      "2022-01-12 08:50:05 INFO: Time 0:00:00.029201 taken by ProfileDataGatherer\n"
     ]
    },
    {
     "data": {
      "text/plain": [
       "'\\na network of 20 cells receiving 5 random thalamic inputs\\n\\n'"
      ]
     },
     "execution_count": 7,
     "metadata": {},
     "output_type": "execute_result"
    }
   ],
   "source": [
    "# run simulation\n",
    "\n",
    "sim.run(simtime) # 1000 ms\n",
    "\n",
    "\n",
    "\"\"\"\n",
    "a network of 20 cells receiving 5 random thalamic inputs\n",
    "\n",
    "\"\"\""
   ]
  },
  {
   "cell_type": "code",
   "execution_count": 8,
   "metadata": {},
   "outputs": [
    {
     "name": "stderr",
     "output_type": "stream",
     "text": [
      "Getting spikes for cells\n",
      "|0%                          50%                         100%|\n",
      " ============================================================\n",
      "Getting v for cells\n",
      "|0%                          50%                         100%|\n",
      " ============================================================\n",
      "Getting gsyn_exc for cells\n",
      "|0%                          50%                         100%|\n",
      " ============================================================\n",
      "Getting gsyn_inh for cells\n",
      "|0%                          50%                         100%|\n",
      " ============================================================\n"
     ]
    },
    {
     "data": {
      "text/plain": [
       "Segment with 3 analogsignals, 20 spiketrains\n",
       "name: 'segment0'\n",
       "description: 'Population \"cells\"\\n    Structure   : None\\n    Local cells : 20\\n    Cell type   : {\\'name\\': \\'IF_cond_exp\\', \\'default_parameters\\': {\\'tau_m\\': 20.0, \\'cm\\': 1.0, \\'v_rest\\': -65.0, \\'v_reset\\': -65.0, \\'v_thresh\\': -50.0, \\'tau_syn_E\\': 5.0, \\'tau_syn_I\\': 5.0, \\'tau_refrac\\': 0.1, \\'i_offset\\': 0.0, \\'e_rev_E\\': 0.0, \\'e_rev_I\\': -70.0}, \\'default_initial_values\\': {\\'tau_m\\': 20.0, \\'cm\\': 1.0, \\'v_rest\\': -65.0, \\'v_reset\\': -65.0, \\'v_thresh\\': -50.0, \\'tau_syn_E\\': 5.0, \\'tau_syn_I\\': 5.0, \\'tau_refrac\\': 0.1, \\'i_offset\\': 0.0, \\'e_rev_E\\': 0.0, \\'e_rev_I\\': -70.0}, \\'parameters\\': {\\'tau_m\\': [20.0, 20.0, 20.0, 20.0, 20.0, 20.0, 20.0, 20.0, 20.0, 20.0, 20.0, 20.0, 20.0, 20.0, 20.0, 20.0, 20.0, 20.0, 20.0, 20.0], \\'cm\\': [0.5, 0.5, 0.5, 0.5, 0.5, 0.5, 0.5, 0.5, 0.5, 0.5, 0.5, 0.5, 0.5, 0.5, 0.5, 0.5, 0.5, 0.5, 0.5, 0.5], \\'v_rest\\': [-60.0, -60.0, -60.0, -60.0, -60.0, -60.0, -60.0, -60.0, -60.0, -60.0, -60.0, -60.0, -60.0, -60.0, -60.0, -60.0, -60.0, -60.0, -60.0, -60.0], \\'v_reset\\': [-70.0, -70.0, -70.0, -70.0, -70.0, -70.0, -70.0, -70.0, -70.0, -70.0, -70.0, -70.0, -70.0, -70.0, -70.0, -70.0, -70.0, -70.0, -70.0, -70.0], \\'v_thresh\\': [-50.0, -50.0, -50.0, -50.0, -50.0, -50.0, -50.0, -50.0, -50.0, -50.0, -50.0, -50.0, -50.0, -50.0, -50.0, -50.0, -50.0, -50.0, -50.0, -50.0], \\'tau_syn_E\\': [2.0, 2.0, 2.0, 2.0, 2.0, 2.0, 2.0, 2.0, 2.0, 2.0, 2.0, 2.0, 2.0, 2.0, 2.0, 2.0, 2.0, 2.0, 2.0, 2.0], \\'tau_syn_I\\': [4.0, 4.0, 4.0, 4.0, 4.0, 4.0, 4.0, 4.0, 4.0, 4.0, 4.0, 4.0, 4.0, 4.0, 4.0, 4.0, 4.0, 4.0, 4.0, 4.0], \\'tau_refrac\\': [2.0, 2.0, 2.0, 2.0, 2.0, 2.0, 2.0, 2.0, 2.0, 2.0, 2.0, 2.0, 2.0, 2.0, 2.0, 2.0, 2.0, 2.0, 2.0, 2.0], \\'i_offset\\': [0.0, 0.0, 0.0, 0.0, 0.0, 0.0, 0.0, 0.0, 0.0, 0.0, 0.0, 0.0, 0.0, 0.0, 0.0, 0.0, 0.0, 0.0, 0.0, 0.0], \\'e_rev_E\\': [0.0, 0.0, 0.0, 0.0, 0.0, 0.0, 0.0, 0.0, 0.0, 0.0, 0.0, 0.0, 0.0, 0.0, 0.0, 0.0, 0.0, 0.0, 0.0, 0.0], \\'e_rev_I\\': [-70.0, -70.0, -70.0, -70.0, -70.0, -70.0, -70.0, -70.0, -70.0, -70.0, -70.0, -70.0, -70.0, -70.0, -70.0, -70.0, -70.0, -70.0, -70.0, -70.0]}}.name\\n    ID range    : 0-19\\n    First cell on this node:\\n      ID: 0\\n      {}'\n",
       "# analogsignals (N=3)\n",
       "0: AnalogSignal with 20 channels of length 1000; units mV; datatype float64 \n",
       "   name: 'v'\n",
       "   annotations: {'source_population': 'cells',\n",
       "     'source_ids': [0,\n",
       "      1,\n",
       "      2,\n",
       "      3,\n",
       "      4,\n",
       "      5,\n",
       "      6,\n",
       "      7,\n",
       "      8,\n",
       "      9,\n",
       "      10,\n",
       "      11,\n",
       "      12,\n",
       "      13,\n",
       "      14,\n",
       "      15,\n",
       "      16,\n",
       "      17,\n",
       "      18,\n",
       "      19]}\n",
       "   sampling rate: 1.0 1/ms\n",
       "   time: 0.0 ms to 1000.0 ms\n",
       "1: AnalogSignal with 20 channels of length 1000; units uS; datatype float64 \n",
       "   name: 'gsyn_exc'\n",
       "   annotations: {'source_population': 'cells',\n",
       "     'source_ids': [0,\n",
       "      1,\n",
       "      2,\n",
       "      3,\n",
       "      4,\n",
       "      5,\n",
       "      6,\n",
       "      7,\n",
       "      8,\n",
       "      9,\n",
       "      10,\n",
       "      11,\n",
       "      12,\n",
       "      13,\n",
       "      14,\n",
       "      15,\n",
       "      16,\n",
       "      17,\n",
       "      18,\n",
       "      19]}\n",
       "   sampling rate: 1.0 1/ms\n",
       "   time: 0.0 ms to 1000.0 ms\n",
       "2: AnalogSignal with 20 channels of length 1000; units uS; datatype float64 \n",
       "   name: 'gsyn_inh'\n",
       "   annotations: {'source_population': 'cells',\n",
       "     'source_ids': [0,\n",
       "      1,\n",
       "      2,\n",
       "      3,\n",
       "      4,\n",
       "      5,\n",
       "      6,\n",
       "      7,\n",
       "      8,\n",
       "      9,\n",
       "      10,\n",
       "      11,\n",
       "      12,\n",
       "      13,\n",
       "      14,\n",
       "      15,\n",
       "      16,\n",
       "      17,\n",
       "      18,\n",
       "      19]}\n",
       "   sampling rate: 1.0 1/ms\n",
       "   time: 0.0 ms to 1000.0 ms"
      ]
     },
     "execution_count": 8,
     "metadata": {},
     "output_type": "execute_result"
    }
   ],
   "source": [
    "# save results\n",
    "\n",
    "outputs = cells.get_data() # on notebook space\n",
    "outputs.segments[0].spiketrains\n",
    "\n",
    "\n",
    "outputs.segments[0]\n",
    "\n",
    "#cells.write_data(fileName + '.pkl', \"spikes\") # on folder\n",
    "#outputs"
   ]
  },
  {
   "cell_type": "code",
   "execution_count": 9,
   "metadata": {},
   "outputs": [],
   "source": [
    "# recovering results\n",
    "\n",
    "def recover_results(outputs):\n",
    "    results = {}\n",
    "    \n",
    "    for analogsignal in outputs.segments[0].analogsignals:\n",
    "        print(analogsignal.name)\n",
    "        # to get voltage and conductances\n",
    "        results[analogsignal.name] = analogsignal\n",
    "        # to get spikes\n",
    "        results['spikes'] = outputs.segments[0].spiketrains\n",
    "    return results"
   ]
  },
  {
   "cell_type": "code",
   "execution_count": 10,
   "metadata": {},
   "outputs": [
    {
     "name": "stdout",
     "output_type": "stream",
     "text": [
      "v\n",
      "gsyn_exc\n",
      "gsyn_inh\n"
     ]
    },
    {
     "data": {
      "text/plain": [
       "dict_keys(['v', 'spikes', 'gsyn_exc', 'gsyn_inh'])"
      ]
     },
     "execution_count": 10,
     "metadata": {},
     "output_type": "execute_result"
    }
   ],
   "source": [
    "# check results\n",
    "\n",
    "results = recover_results(outputs)\n",
    "results.keys()"
   ]
  },
  {
   "cell_type": "code",
   "execution_count": 11,
   "metadata": {},
   "outputs": [
    {
     "name": "stderr",
     "output_type": "stream",
     "text": [
      "Getting spikes for cells\n",
      "|0%                          50%                         100%|\n",
      " ============================================================\n"
     ]
    },
    {
     "name": "stdout",
     "output_type": "stream",
     "text": [
      "Mean firing rate:  2.4 Hz\n"
     ]
    }
   ],
   "source": [
    "# check the mean firing rate\n",
    "\n",
    "print(\"Mean firing rate: \", cells.mean_spike_count() * 1000.0 / simtime, \"Hz\")"
   ]
  },
  {
   "cell_type": "code",
   "execution_count": 12,
   "metadata": {},
   "outputs": [
    {
     "data": {
      "text/plain": [
       "[<SpikeTrain(array([], dtype=float64) * ms, [0.0 ms, 1000.0 ms])>,\n",
       " <SpikeTrain(array([], dtype=float64) * ms, [0.0 ms, 1000.0 ms])>,\n",
       " <SpikeTrain(array([202., 252., 302., 352., 402., 452., 502., 552., 602., 652., 702.,\n",
       "        752.]) * ms, [0.0 ms, 1000.0 ms])>,\n",
       " <SpikeTrain(array([], dtype=float64) * ms, [0.0 ms, 1000.0 ms])>,\n",
       " <SpikeTrain(array([], dtype=float64) * ms, [0.0 ms, 1000.0 ms])>,\n",
       " <SpikeTrain(array([], dtype=float64) * ms, [0.0 ms, 1000.0 ms])>,\n",
       " <SpikeTrain(array([], dtype=float64) * ms, [0.0 ms, 1000.0 ms])>,\n",
       " <SpikeTrain(array([], dtype=float64) * ms, [0.0 ms, 1000.0 ms])>,\n",
       " <SpikeTrain(array([202., 252., 302., 352., 402., 452., 502., 552., 602., 652., 702.,\n",
       "        752.]) * ms, [0.0 ms, 1000.0 ms])>,\n",
       " <SpikeTrain(array([], dtype=float64) * ms, [0.0 ms, 1000.0 ms])>,\n",
       " <SpikeTrain(array([], dtype=float64) * ms, [0.0 ms, 1000.0 ms])>,\n",
       " <SpikeTrain(array([202., 252., 302., 352., 402., 452., 502., 552., 602., 652., 702.,\n",
       "        752.]) * ms, [0.0 ms, 1000.0 ms])>,\n",
       " <SpikeTrain(array([], dtype=float64) * ms, [0.0 ms, 1000.0 ms])>,\n",
       " <SpikeTrain(array([], dtype=float64) * ms, [0.0 ms, 1000.0 ms])>,\n",
       " <SpikeTrain(array([], dtype=float64) * ms, [0.0 ms, 1000.0 ms])>,\n",
       " <SpikeTrain(array([202., 252., 302., 352., 402., 452., 502., 552., 602., 652., 702.,\n",
       "        752.]) * ms, [0.0 ms, 1000.0 ms])>,\n",
       " <SpikeTrain(array([], dtype=float64) * ms, [0.0 ms, 1000.0 ms])>,\n",
       " <SpikeTrain(array([], dtype=float64) * ms, [0.0 ms, 1000.0 ms])>,\n",
       " <SpikeTrain(array([], dtype=float64) * ms, [0.0 ms, 1000.0 ms])>,\n",
       " <SpikeTrain(array([], dtype=float64) * ms, [0.0 ms, 1000.0 ms])>]"
      ]
     },
     "execution_count": 12,
     "metadata": {},
     "output_type": "execute_result"
    }
   ],
   "source": [
    "results['spikes']"
   ]
  },
  {
   "cell_type": "code",
   "execution_count": 13,
   "metadata": {},
   "outputs": [
    {
     "data": {
      "application/vnd.jupyter.widget-view+json": {
       "model_id": "4e1276bfd12f48e88a0b9669af1d4d62",
       "version_major": 2,
       "version_minor": 0
      },
      "text/plain": [
       "Canvas(toolbar=Toolbar(toolitems=[('Home', 'Reset original view', 'home', 'home'), ('Back', 'Back to previous …"
      ]
     },
     "metadata": {},
     "output_type": "display_data"
    },
    {
     "data": {
      "text/plain": [
       "(0.0, 1000.0)"
      ]
     },
     "execution_count": 13,
     "metadata": {},
     "output_type": "execute_result"
    }
   ],
   "source": [
    "# check the spikes\n",
    "\n",
    "fig, axes = plt.subplots(1, 1)\n",
    "fig.tight_layout(pad=5)\n",
    "axes_list = fig.axes\n",
    "\n",
    "axes_list[0].eventplot(results['spikes'])\n",
    "axes_list[0].eventplot(spike_times, color='r')\n",
    "axes_list[0].set_title('rasterplot of cells')\n",
    "axes_list[0].set_xlabel('[ms]')\n",
    "axes_list[0].set_ylabel('cells')\n",
    "axes_list[0].set_xlim(0, simtime)\n",
    "\n",
    "# why are there more cells spiking than thalamic source spikes?"
   ]
  },
  {
   "cell_type": "code",
   "execution_count": 14,
   "metadata": {},
   "outputs": [
    {
     "data": {
      "text/plain": [
       "[12, 13, 8, 16, 17]"
      ]
     },
     "execution_count": 14,
     "metadata": {},
     "output_type": "execute_result"
    }
   ],
   "source": [
    "random_sources_idx"
   ]
  },
  {
   "cell_type": "code",
   "execution_count": 15,
   "metadata": {},
   "outputs": [
    {
     "data": {
      "application/vnd.jupyter.widget-view+json": {
       "model_id": "9e359b1b0a8944f0a104c858643e6fcc",
       "version_major": 2,
       "version_minor": 0
      },
      "text/plain": [
       "Canvas(toolbar=Toolbar(toolitems=[('Home', 'Reset original view', 'home', 'home'), ('Back', 'Back to previous …"
      ]
     },
     "metadata": {},
     "output_type": "display_data"
    },
    {
     "data": {
      "text/plain": [
       "<matplotlib.legend.Legend at 0x7fe3328467b8>"
      ]
     },
     "execution_count": 15,
     "metadata": {},
     "output_type": "execute_result"
    }
   ],
   "source": [
    "# check the voltage\n",
    "\n",
    "pickedCell = random_sources_idx[0]\n",
    "\n",
    "fig, axes = plt.subplots(1, 1)\n",
    "fig.tight_layout(pad=3)\n",
    "\n",
    "axes_list = fig.axes\n",
    "axes_list[0].plot(results['v'].T[pickedCell], label='cell_' + str(pickedCell))\n",
    "\n",
    "axes_list[0].set_title('voltage of cells')\n",
    "axes_list[0].set_xlabel('time [ms]')\n",
    "axes_list[0].set_ylabel('[mV]')\n",
    "axes_list[0].legend()\n"
   ]
  },
  {
   "cell_type": "code",
   "execution_count": 16,
   "metadata": {},
   "outputs": [
    {
     "data": {
      "application/vnd.jupyter.widget-view+json": {
       "model_id": "1f4944d666134f81b864407465792dc7",
       "version_major": 2,
       "version_minor": 0
      },
      "text/plain": [
       "Canvas(toolbar=Toolbar(toolitems=[('Home', 'Reset original view', 'home', 'home'), ('Back', 'Back to previous …"
      ]
     },
     "metadata": {},
     "output_type": "display_data"
    }
   ],
   "source": [
    "# check the conductance\n",
    "\n",
    "pickedCell = random_sources_idx[0]\n",
    "\n",
    "fig, axes = plt.subplots(2, 1)\n",
    "fig.tight_layout(pad=5)\n",
    "\n",
    "axes_list = fig.axes\n",
    "\n",
    "for idx, conductance in enumerate(['gsyn_exc', 'gsyn_inh']):\n",
    "\n",
    "    fig.tight_layout(pad=3)\n",
    "    axes_list = fig.axes\n",
    "    axes_list[idx].plot(results[conductance].T[pickedCell], label='cell_' + str(pickedCell))\n",
    "    axes_list[idx].set_title(conductance)\n",
    "    axes_list[idx].set_xlabel('time [ms]')\n",
    "    axes_list[idx].set_ylabel('[uS]')\n",
    "    axes_list[idx].legend()"
   ]
  },
  {
   "cell_type": "markdown",
   "metadata": {},
   "source": [
    "## task 1: on the state variables \n",
    "\n",
    "- why the gsyn_inh (conductance related to cell inhibition) is equal to zero?"
   ]
  },
  {
   "cell_type": "markdown",
   "metadata": {},
   "source": [
    "## task 2: on neuronal parameters\n",
    "\n",
    "- change the tau_m (membrane time constant) parameter and have a look at the changes on the voltage trace.\n",
    "\n",
    "- change other neuronal parameters and investigate their effect on the network behaviour\n",
    "\n",
    "- info about parameters http://neuralensemble.org/docs/PyNN/standardmodels.html"
   ]
  },
  {
   "cell_type": "markdown",
   "metadata": {},
   "source": [
    "## task 3: on neuronal model\n",
    "\n",
    "- test another cell type looking at `sim.list_standard_models()`\n"
   ]
  },
  {
   "cell_type": "markdown",
   "metadata": {},
   "source": [
    "\n"
   ]
  },
  {
   "cell_type": "code",
   "execution_count": null,
   "metadata": {},
   "outputs": [],
   "source": []
  },
  {
   "cell_type": "code",
   "execution_count": null,
   "metadata": {},
   "outputs": [],
   "source": []
  }
 ],
 "metadata": {
  "kernelspec": {
   "display_name": "sPyNNaker",
   "language": "python",
   "name": "spynnaker"
  },
  "language_info": {
   "codemirror_mode": {
    "name": "ipython",
    "version": 3
   },
   "file_extension": ".py",
   "mimetype": "text/x-python",
   "name": "python",
   "nbconvert_exporter": "python",
   "pygments_lexer": "ipython3",
   "version": "3.6.9"
  }
 },
 "nbformat": 4,
 "nbformat_minor": 4
}
