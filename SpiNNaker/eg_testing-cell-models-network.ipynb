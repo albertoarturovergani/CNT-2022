{
 "cells": [
  {
   "cell_type": "markdown",
   "metadata": {},
   "source": [
    "# Testing the action potential of cell models by using standard parameters\n"
   ]
  },
  {
   "cell_type": "code",
   "execution_count": 2,
   "metadata": {},
   "outputs": [],
   "source": [
    "# fileName\n",
    "\n",
    "fileName = 'eg_testing-cell-models'"
   ]
  },
  {
   "cell_type": "code",
   "execution_count": 3,
   "metadata": {},
   "outputs": [
    {
     "name": "stdout",
     "output_type": "stream",
     "text": [
      "Detected PyNN version 0.9.4 and Neo version 0.6.1\n"
     ]
    }
   ],
   "source": [
    "# libs\n",
    "\n",
    "import pyNN.spiNNaker as sim\n",
    "from pyNN import space \n",
    "import numpy as np\n",
    "import matplotlib.pyplot as plt\n"
   ]
  },
  {
   "cell_type": "code",
   "execution_count": 4,
   "metadata": {},
   "outputs": [
    {
     "name": "stderr",
     "output_type": "stream",
     "text": [
      "2022-01-12 08:52:24 INFO: Read cfg files: /home/spinnaker/sPyNNaker/lib/python3.6/site-packages/spinn_front_end_common/interface/spinnaker.cfg, /home/spinnaker/sPyNNaker/lib/python3.6/site-packages/spynnaker/pyNN/spynnaker.cfg, /home/spinnaker/.spynnaker.cfg\n",
      "2022-01-12 08:52:24 INFO: Will search these locations for binaries: /home/spinnaker/sPyNNaker/lib/python3.6/site-packages/spinn_front_end_common/common_model_binaries : /home/spinnaker/sPyNNaker/lib/python3.6/site-packages/spynnaker/pyNN/model_binaries\n"
     ]
    },
    {
     "name": "stdout",
     "output_type": "stream",
     "text": [
      "['/home/spinnaker/sPyNNaker/lib/python3.6/site-packages/spinn_front_end_common/interface/spinnaker.cfg', '/home/spinnaker/sPyNNaker/lib/python3.6/site-packages/spynnaker/pyNN/spynnaker.cfg', '/home/spinnaker/.spynnaker.cfg']\n"
     ]
    },
    {
     "name": "stderr",
     "output_type": "stream",
     "text": [
      "2022-01-12 08:52:24 INFO: Setting time scale factor to 1.\n",
      "2022-01-12 08:52:24 INFO: Setting machine time step to 1000 micro-seconds.\n"
     ]
    }
   ],
   "source": [
    "# simulation settings\n",
    "\n",
    "sim.setup(\n",
    "        timestep=1, # [ms]\n",
    "        min_delay=1, # [ms]\n",
    "        max_delay=100) # [ms]\n",
    "\n",
    "simtime = 250 # [ms+]\n",
    "\n"
   ]
  },
  {
   "cell_type": "markdown",
   "metadata": {},
   "source": [
    "## make the network"
   ]
  },
  {
   "cell_type": "code",
   "execution_count": 5,
   "metadata": {},
   "outputs": [],
   "source": [
    "# define make_pop\n",
    "\n",
    "pops = {}\n",
    "\n",
    "def make_pop(cell_model):\n",
    "    pops = sim.Population(\n",
    "                            1, # one cell in each cell model\n",
    "                            cell_model,\n",
    "                            cellparams=None, # std pars used\n",
    "                            structure = space.Line(dx=1.0, x0=0.0, y=0.0, z=0.0),\n",
    "                            initial_values=None,\n",
    "                            label=str(cell_model),\n",
    "                            constraints=None,\n",
    "                            additional_parameters=None,\n",
    "                            )\n",
    "    pops.record('v')\n",
    "    \n",
    "    return pops\n",
    "\n",
    "\n"
   ]
  },
  {
   "cell_type": "code",
   "execution_count": 6,
   "metadata": {},
   "outputs": [],
   "source": [
    "# compute pops\n",
    "\n",
    "for idx, value in enumerate([\n",
    "                            sim.IF_cond_exp, \n",
    "                            sim.IF_curr_alpha,\n",
    "                            sim.IF_curr_exp,\n",
    "                            sim.Izhikevich,\n",
    "                            sim.extra_models.IF_curr_dual_exp,\n",
    "                            sim.extra_models.IFCondExpStoc,\n",
    "                            sim.extra_models.IFCurDelta,\n",
    "                            sim.extra_models.IFCurrExpCa2Adaptive,\n",
    "                            sim.extra_models.Izhikevich_cond]):\n",
    "\n",
    "    pops['model_' + str(idx)] = make_pop(value) "
   ]
  },
  {
   "cell_type": "code",
   "execution_count": 7,
   "metadata": {},
   "outputs": [
    {
     "data": {
      "text/plain": [
       "dict_keys(['model_0', 'model_1', 'model_2', 'model_3', 'model_4', 'model_5', 'model_6', 'model_7', 'model_8'])"
      ]
     },
     "execution_count": 7,
     "metadata": {},
     "output_type": "execute_result"
    }
   ],
   "source": [
    "# check pops\n",
    "\n",
    "pops.keys()"
   ]
  },
  {
   "cell_type": "markdown",
   "metadata": {},
   "source": [
    "## make the thalamic input stimulus"
   ]
  },
  {
   "cell_type": "code",
   "execution_count": 8,
   "metadata": {},
   "outputs": [
    {
     "data": {
      "text/plain": [
       "dict_keys(['model_0', 'model_1', 'model_2', 'model_3', 'model_4', 'model_5', 'model_6', 'model_7', 'model_8', 'thalamus'])"
      ]
     },
     "execution_count": 8,
     "metadata": {},
     "output_type": "execute_result"
    }
   ],
   "source": [
    "# a sequence of ten spikes with regularly spaced spike times\n",
    "\n",
    "pops['thalamus'] = sim.Population(\n",
    "                            1, # one thalamic cell for each cell model\n",
    "                            sim.SpikeSourceArray(np.arange(50,60)), # ten sequential spike times\n",
    "                            structure = space.Line(dx=1.0, x0=0.0, y=0.0, z=0.0),\n",
    "                            )    \n",
    "\n",
    "pops.keys()"
   ]
  },
  {
   "cell_type": "markdown",
   "metadata": {},
   "source": [
    "## make the projections"
   ]
  },
  {
   "cell_type": "code",
   "execution_count": 9,
   "metadata": {},
   "outputs": [
    {
     "data": {
      "text/plain": [
       "dict_keys([('thalamus', 'model_0'), ('thalamus', 'model_1'), ('thalamus', 'model_2'), ('thalamus', 'model_3'), ('thalamus', 'model_4'), ('thalamus', 'model_5'), ('thalamus', 'model_6'), ('thalamus', 'model_7'), ('thalamus', 'model_8')])"
      ]
     },
     "execution_count": 9,
     "metadata": {},
     "output_type": "execute_result"
    }
   ],
   "source": [
    "projs = {}\n",
    "\n",
    "for i in range(9):\n",
    "    projs['thalamus', 'model_' + str(i)] = sim.Projection(\n",
    "                                    pops['thalamus'],\n",
    "                                    pops['model_' + str(i)],\n",
    "                                    sim.OneToOneConnector(),\n",
    "                                    synapse_type=sim.StaticSynapse(weight=0.1, delay=1.0),\n",
    "                                    receptor_type = 'excitatory',\n",
    "                                    space = space.Space(axes = 'x'),\n",
    "                                    label=None,\n",
    "                                )\n",
    "\n",
    "projs.keys()"
   ]
  },
  {
   "cell_type": "markdown",
   "metadata": {},
   "source": [
    "## run the simulation"
   ]
  },
  {
   "cell_type": "code",
   "execution_count": 10,
   "metadata": {},
   "outputs": [
    {
     "name": "stderr",
     "output_type": "stream",
     "text": [
      "2022-01-12 08:52:28 INFO: Simulating for 250 1.0ms timesteps using a hardware timestep of 1000us\n",
      "2022-01-12 08:52:28 INFO: Starting execution process\n",
      "2022-01-12 08:52:31 INFO: Time 0:00:03.192316 taken by SpallocMaxMachineGenerator\n",
      "Pre allocating resources for Extra Monitor support vertices\n",
      "|0%                          50%                         100%|\n",
      " ============================================================\n",
      "2022-01-12 08:52:40 INFO: Time 0:00:08.569167 taken by PreAllocateResourcesForExtraMonitorSupport\n",
      "Partitioning graph vertices\n",
      "|0%                          50%                         100%|\n",
      " ============================================================\n",
      "Partitioning graph edges\n",
      "|0%                          50%                         100%|\n",
      " ============================================================\n",
      "2022-01-12 08:52:45 INFO: Time 0:00:05.196386 taken by PartitionAndPlacePartitioner\n",
      "Created spalloc job 6244437\n",
      "2022-01-12 08:52:45 INFO: Created spalloc job 6244437\n",
      "Waiting for board power commands to complete.\n",
      "2022-01-12 08:52:45 INFO: Waiting for board power commands to complete.\n",
      "2022-01-12 08:52:50 INFO: Time 0:00:05.047166 taken by SpallocAllocator\n",
      "2022-01-12 08:52:50 INFO: Creating transceiver for 10.11.194.65\n",
      "2022-01-12 08:52:50 INFO: Working out if machine is booted\n",
      "2022-01-12 08:52:54 INFO: Attempting to boot machine\n",
      "2022-01-12 08:53:00 INFO: Found board with version [Version: SC&MP 3.2.5 at SpiNNaker:0:0:0 (built Thu Aug  1 08:15:06 2019)]\n",
      "2022-01-12 08:53:00 INFO: Machine communication successful\n",
      "2022-01-12 08:53:00 INFO: Detected a machine on IP address 10.11.194.65 which has 857 cores and 120.0 links\n",
      "2022-01-12 08:53:00 INFO: Time 0:00:09.633539 taken by MachineGenerator\n",
      "Generating partitioner report\n",
      "|0%                          50%                         100%|\n",
      " ============================================================\n",
      "2022-01-12 08:53:00 INFO: Time 0:00:00.017267 taken by PartitionerReport\n",
      "2022-01-12 08:53:00 INFO: Time 0:00:00.000543 taken by NetworkSpecificationReport\n",
      "Allocating virtual identifiers\n",
      "|0%                          50%                         100%|\n",
      " ============================================================\n",
      "2022-01-12 08:53:00 INFO: Time 0:00:00.036919 taken by MallocBasedChipIDAllocator\n",
      "Inserting extra monitors into graphs\n",
      "|0%                          50%                         100%|\n",
      " ============================================================\n",
      "2022-01-12 08:53:00 INFO: Time 0:00:00.033763 taken by InsertExtraMonitorVerticesToGraphs\n",
      "Writing the board chip report\n",
      "|0%                          50%                         100%|\n",
      " ============================================================\n",
      "2022-01-12 08:53:00 INFO: Time 0:00:00.006450 taken by BoardChipReport\n",
      "Filtering edges\n",
      "|0%                          50%                         100%|\n",
      " ============================================================\n",
      "2022-01-12 08:53:00 INFO: Time 0:00:00.040561 taken by GraphEdgeFilter\n",
      "Placing graph vertices\n",
      "|0%                          50%                         100%|\n",
      " ============================================================\n",
      "2022-01-12 08:53:00 INFO: Time 0:00:00.037632 taken by OneToOnePlacer\n",
      "Inserting edges between vertices which require FR speed up functionality.\n",
      "|0%                          50%                         100%|\n",
      " ============================================================\n",
      "2022-01-12 08:53:00 INFO: Time 0:00:00.066445 taken by InsertEdgesToExtraMonitorFunctionality\n",
      "Generating routing tables for data in system processes\n",
      "|0%                          50%                         100%|\n",
      " ============================================================\n",
      "2022-01-12 08:53:00 INFO: Time 0:00:00.009150 taken by DataInMulticastRoutingGenerator\n",
      "Generating fixed router routes\n",
      "|0%                          50%                         100%|\n",
      " ============================================================\n",
      "2022-01-12 08:53:00 INFO: Time 0:00:00.012215 taken by FixedRouteRouter\n",
      "Generating placement report\n",
      "|0%                          50%                         100%|\n",
      " ============================================================\n",
      "Generating placement by core report\n",
      "|0%                          50%                         100%|\n",
      " ============================================================\n",
      "2022-01-12 08:53:00 INFO: Time 0:00:00.061062 taken by PlacerReportWithApplicationGraph\n",
      "Routing\n",
      "|0%                          50%                         100%|\n",
      " ============================================================\n",
      "\n",
      "2022-01-12 08:53:00 INFO: Time 0:00:00.033432 taken by NerRoute\n",
      "Discovering tags\n",
      "|0%                          50%                         100%|\n",
      " ============================================================\n",
      "Allocating tags\n",
      "|0%                          50%                         100%|\n",
      " ============================================================\n",
      "2022-01-12 08:53:00 INFO: Time 0:00:00.046012 taken by BasicTagAllocator\n",
      "Reporting Tags\n",
      "|0%                          50%                         100%|\n",
      " ============================================================\n",
      "2022-01-12 08:53:00 INFO: Time 0:00:00.012719 taken by TagReport\n",
      "Getting number of keys required by each edge using application graph\n",
      "|0%                          50%                         100%|\n",
      " ============================================================\n",
      "2022-01-12 08:53:00 INFO: Time 0:00:00.047736 taken by EdgeToNKeysMapper\n",
      "Getting constraints for application graph\n",
      "|0%                          50%                         100%|\n",
      " ============================================================\n",
      "2022-01-12 08:53:00 INFO: Time 0:00:00.039941 taken by ProcessPartitionConstraints\n",
      "Allocating routing keys\n",
      "|0%                          50%                         100%|\n",
      " ============================================================\n",
      "2022-01-12 08:53:00 INFO: Time 0:00:00.013290 taken by MallocBasedRoutingInfoAllocator\n",
      "Generating Routing info report\n",
      "|0%                          50%                         100%|\n",
      " ============================================================\n",
      "2022-01-12 08:53:00 INFO: Time 0:00:00.039434 taken by routingInfoReports\n",
      "Generating routing tables\n",
      "|0%                          50%                         100%|\n",
      " ============================================================\n",
      "2022-01-12 08:53:00 INFO: Time 0:00:00.033378 taken by BasicRoutingTableGenerator\n",
      "Finding executable start types\n",
      "|0%                          50%                         100%|\n",
      " ============================================================\n",
      "2022-01-12 08:53:00 INFO: Time 0:00:00.036069 taken by LocateExecutableStartType\n",
      "Initialising buffers\n",
      "|0%                          50%                         100%|\n",
      " ============================================================\n",
      "2022-01-12 08:53:00 INFO: Time 0:00:00.033627 taken by BufferManagerCreator\n",
      "Generating data specifications\n",
      "|0%                          50%                         100%|\n",
      " ============================================================\n",
      "2022-01-12 08:53:00 INFO: Time 0:00:00.114922 taken by SpynnakerDataSpecificationWriter\n",
      "Preparing Routing Tables\n",
      "|0%                          50%                         100%|\n",
      " ============================================================\n",
      "2022-01-12 08:53:00 INFO: Time 0:00:00.007651 taken by RoutingSetup\n",
      "Finding binaries\n",
      "|0%                          50%                         100%|\n",
      " ============================================================\n",
      "2022-01-12 08:53:00 INFO: Time 0:00:00.033326 taken by GraphBinaryGatherer\n",
      "Running routing table compression on chip\n",
      "|0%                          50%                         100%|\n",
      " ============================================================\n",
      "2022-01-12 08:53:05 INFO: Time 0:00:04.525498 taken by MundyOnChipRouterCompression\n",
      "Generating Router table report\n",
      "|0%                          50%                         100%|\n",
      " ============================================================\n",
      "2022-01-12 08:53:05 INFO: Time 0:00:00.006186 taken by unCompressedRoutingTableReports\n",
      "loading fixed routes\n",
      "|0%                          50%                         100%|\n",
      " ============================================================\n",
      "2022-01-12 08:53:05 INFO: Time 0:00:00.046415 taken by LoadFixedRoutes\n",
      "Executing data specifications and loading data for system vertices\n",
      "|0%                          50%                         100%|\n",
      " ============================================================\n",
      "2022-01-12 08:53:05 INFO: Time 0:00:00.143699 taken by HostExecuteSystemDataSpecification\n",
      "Loading system executables onto the machine\n",
      "|0%                          50%                         100%|\n",
      " ============================================================\n",
      "2022-01-12 08:53:11 INFO: Time 0:00:05.723237 taken by LoadSystemExecutableImages\n",
      "Clearing tags\n",
      "|0%                          50%                         100%|\n",
      " ============================================================\n",
      "Loading Tags\n",
      "|0%                          50%                         100%|\n",
      " ============================================================\n",
      "2022-01-12 08:53:11 INFO: Time 0:00:00.028692 taken by TagsLoader\n",
      "Writing data\n",
      "|0%                          50%                         100%|\n",
      " ============================================================\n",
      "2022-01-12 08:53:11 INFO: Time 0:00:00.037667 taken by WriteMemoryIOData\n",
      "Executing data specifications and loading data for application vertices\n",
      "|0%                          50%                         100%|\n",
      " ============================================================\n",
      "2022-01-12 08:53:11 INFO: Time 0:00:00.168233 taken by HostExecuteApplicationDataSpecification\n",
      "Expanding Synapses\n",
      "|0%                          50%                         100%|\n",
      " ============================================================\n",
      "2022-01-12 08:53:12 INFO: Time 0:00:00.543783 taken by SynapseExpander\n",
      "Writing fixed route report\n",
      "|0%                          50%                         100%|\n",
      " ============================================================\n",
      "2022-01-12 08:53:12 INFO: Time 0:00:00.047108 taken by FixedRouteFromMachineReport\n",
      "Loading executables onto the machine\n",
      "|0%                          50%                         100%|\n",
      " ============================================================\n",
      "2022-01-12 08:53:46 INFO: Time 0:00:34.619651 taken by LoadApplicationExecutableImages\n",
      "Reading Routing Tables from Machine\n",
      "|0%                          50%                         100%|\n",
      " ============================================================\n",
      "2022-01-12 08:53:46 INFO: Time 0:00:00.014230 taken by RoutingTableFromMachineReport\n",
      "Generating compressed router table report\n",
      "|0%                          50%                         100%|\n",
      " ============================================================\n",
      "2022-01-12 08:53:46 INFO: Time 0:00:00.011752 taken by compressedRoutingTableReports\n",
      "Generating comparison of router table report\n",
      "|0%                          50%                         100%|\n",
      " ============================================================\n",
      "2022-01-12 08:53:46 INFO: Time 0:00:00.005707 taken by comparisonOfRoutingTablesReport\n",
      "2022-01-12 08:53:46 INFO: Running for 1 steps for a total of 250.0ms\n",
      "2022-01-12 08:53:46 INFO: Run 1 of 1\n",
      "Generating SDRAM usage report\n",
      "|0%                          50%                         100%|\n",
      " ============================================================\n",
      "2022-01-12 08:53:47 INFO: Time 0:00:00.106228 taken by SdramUsageReportPerChip\n",
      "Updating run time\n",
      "|0%                          50%                         100%|\n",
      " ============================================================\n",
      "2022-01-12 08:53:47 INFO: Time 0:00:00.029122 taken by ChipRuntimeUpdater\n",
      "2022-01-12 08:53:47 INFO: creating live event connection database in /home/spinnaker/CNT-2022/SpiNNaker/application_generated_data_files/2022-01-12-08-52-24-396128/run_1/input_output_database.db\n",
      "Creating graph description database\n",
      "|0%                          50%                         100%|\n",
      " ============================================================\n",
      "2022-01-12 08:53:47 INFO: Time 0:00:00.054960 taken by DatabaseInterface\n",
      "2022-01-12 08:53:47 INFO: ** Notifying external sources that the database is ready for reading **\n",
      "2022-01-12 08:53:47 INFO: Time 0:00:00.000847 taken by NotificationProtocol\n",
      "2022-01-12 08:53:47 INFO: *** Running simulation... *** \n",
      "Loading buffers\n",
      "|0%                          50%                         100%|\n",
      " ============================================================\n",
      "2022-01-12 08:53:47 INFO: ** Awaiting for a response from an external source to state its ready for the simulation to start **\n",
      "2022-01-12 08:53:47 INFO: ** Sending start / resume message to external sources to state the simulation has started or resumed. **\n",
      "2022-01-12 08:53:47 INFO: ** Awaiting for a response from an external source to state its ready for the simulation to start **\n",
      "2022-01-12 08:53:47 INFO: Application started; waiting 0.35s for it to stop\n",
      "2022-01-12 08:53:47 INFO: ** Sending pause / stop message to external sources to state the simulation has been paused or stopped. **\n",
      "2022-01-12 08:53:47 INFO: Time 0:00:00.449956 taken by ApplicationRunner\n",
      "Extracting buffers from the last run\n",
      "|0%                          50%                         100%|\n",
      " ============================================================\n",
      "2022-01-12 08:53:47 INFO: Time 0:00:00.132857 taken by BufferExtractor\n",
      "Getting provenance data from machine graph\n",
      "|0%                          50%                         100%|\n",
      " ============================================================\n",
      "Getting provenance data from application graph\n",
      "|0%                          50%                         100%|\n",
      " ============================================================\n",
      "2022-01-12 08:53:47 INFO: Time 0:00:00.081427 taken by GraphProvenanceGatherer\n",
      "Getting provenance data\n",
      "|0%                          50%                         100%|\n",
      " ============================================================\n",
      "2022-01-12 08:53:47 INFO: Time 0:00:00.044116 taken by PlacementsProvenanceGatherer\n",
      "Getting Router Provenance\n",
      "|0%                          50%                         100%|\n",
      " ============================================================\n",
      "2022-01-12 08:53:47 INFO: Time 0:00:00.064984 taken by RouterProvenanceGatherer\n",
      "Getting profile data\n",
      "|0%                          50%                         100%|\n",
      " ============================================================\n",
      "2022-01-12 08:53:47 INFO: Time 0:00:00.045815 taken by ProfileDataGatherer\n"
     ]
    },
    {
     "data": {
      "text/plain": [
       "250.0"
      ]
     },
     "execution_count": 10,
     "metadata": {},
     "output_type": "execute_result"
    }
   ],
   "source": [
    "sim.run(simtime) "
   ]
  },
  {
   "cell_type": "markdown",
   "metadata": {},
   "source": [
    "## save results"
   ]
  },
  {
   "cell_type": "code",
   "execution_count": 11,
   "metadata": {},
   "outputs": [
    {
     "name": "stderr",
     "output_type": "stream",
     "text": [
      "Getting v for <class 'spynnaker.pyNN.models.neuron.builds.if_cond_exp_base.IFCondExpBase'>\n",
      "|0%                          50%                         100%|\n",
      " ============================================================\n",
      "Getting v for <class 'spynnaker.pyNN.models.neuron.builds.if_cond_exp_base.IFCondExpBase'>\n",
      "|0%                          50%                         100%|\n",
      " ============================================================\n",
      "Getting v for <class 'spynnaker.pyNN.models.neuron.builds.if_cond_exp_base.IFCondExpBase'>\n",
      "|0%                          50%                         100%|\n",
      " ============================================================\n",
      "Getting v for <class 'spynnaker.pyNN.models.neuron.builds.if_cond_exp_base.IFCondExpBase'>\n",
      "|0%                          50%                         100%|\n",
      " ============================================================\n",
      "Getting v for <class 'spynnaker.pyNN.models.neuron.builds.if_cond_exp_base.IFCondExpBase'>\n",
      "|0%                          50%                         100%|\n",
      " ============================================================\n",
      "Getting v for <class 'spynnaker.pyNN.models.neuron.builds.if_curr_alpha.IFCurrAlpha'>\n",
      "|0%                          50%                         100%|\n",
      " ============================================================\n",
      "2022-01-12 08:53:47 WARNING: Warning getting data on a whole population when selective recording is active will result in only the requested neurons being returned in numerical order and without repeats.\n",
      "Getting v for <class 'spynnaker.pyNN.models.neuron.builds.if_curr_alpha.IFCurrAlpha'>\n",
      "|0%                          50%                         100%|\n",
      " ============================================================\n",
      "Getting v for <class 'spynnaker.pyNN.models.neuron.builds.if_curr_alpha.IFCurrAlpha'>\n",
      "|0%                          50%                         100%|\n",
      " ============================================================\n",
      "Getting v for <class 'spynnaker.pyNN.models.neuron.builds.if_curr_alpha.IFCurrAlpha'>\n",
      "|0%                          50%                         100%|\n",
      " ============================================================\n",
      "Getting v for <class 'spynnaker.pyNN.models.neuron.builds.if_curr_alpha.IFCurrAlpha'>\n",
      "|0%                          50%                         100%|\n",
      " ============================================================\n",
      "Getting v for <class 'spynnaker.pyNN.models.neuron.builds.if_curr_exp_base.IFCurrExpBase'>\n",
      "|0%                          50%                         100%|\n",
      " ============================================================\n",
      "Getting v for <class 'spynnaker.pyNN.models.neuron.builds.if_curr_exp_base.IFCurrExpBase'>\n",
      "|0%                          50%                         100%|\n",
      " ============================================================\n",
      "Getting v for <class 'spynnaker.pyNN.models.neuron.builds.if_curr_exp_base.IFCurrExpBase'>\n",
      "|0%                          50%                         100%|\n",
      " ============================================================\n",
      "Getting v for <class 'spynnaker.pyNN.models.neuron.builds.if_curr_exp_base.IFCurrExpBase'>\n",
      "|0%                          50%                         100%|\n",
      " ============================================================\n",
      "Getting v for <class 'spynnaker.pyNN.models.neuron.builds.if_curr_exp_base.IFCurrExpBase'>\n",
      "|0%                          50%                         100%|\n",
      " ============================================================\n",
      "Getting v for <class 'spynnaker.pyNN.models.neuron.builds.izk_curr_exp_base.IzkCurrExpBase'>\n",
      "|0%                          50%                         100%|\n",
      " ============================================================\n",
      "Getting v for <class 'spynnaker.pyNN.models.neuron.builds.izk_curr_exp_base.IzkCurrExpBase'>\n",
      "|0%                          50%                         100%|\n",
      " ============================================================\n",
      "Getting v for <class 'spynnaker.pyNN.models.neuron.builds.izk_curr_exp_base.IzkCurrExpBase'>\n",
      "|0%                          50%                         100%|\n",
      " ============================================================\n",
      "Getting v for <class 'spynnaker.pyNN.models.neuron.builds.izk_curr_exp_base.IzkCurrExpBase'>\n",
      "|0%                          50%                         100%|\n",
      " ============================================================\n",
      "Getting v for <class 'spynnaker.pyNN.models.neuron.builds.izk_curr_exp_base.IzkCurrExpBase'>\n",
      "|0%                          50%                         100%|\n",
      " ============================================================\n",
      "Getting v for <class 'spynnaker.pyNN.models.neuron.builds.if_curr_dual_exp_base.IFCurrDualExpBase'>\n",
      "|0%                          50%                         100%|\n",
      " ============================================================\n",
      "Getting v for <class 'spynnaker.pyNN.models.neuron.builds.if_curr_dual_exp_base.IFCurrDualExpBase'>\n",
      "|0%                          50%                         100%|\n",
      " ============================================================\n",
      "Getting v for <class 'spynnaker.pyNN.models.neuron.builds.if_curr_dual_exp_base.IFCurrDualExpBase'>\n",
      "|0%                          50%                         100%|\n",
      " ============================================================\n",
      "Getting v for <class 'spynnaker.pyNN.models.neuron.builds.if_curr_dual_exp_base.IFCurrDualExpBase'>\n",
      "|0%                          50%                         100%|\n",
      " ============================================================\n",
      "Getting v for <class 'spynnaker.pyNN.models.neuron.builds.if_curr_dual_exp_base.IFCurrDualExpBase'>\n",
      "|0%                          50%                         100%|\n",
      " ============================================================\n",
      "Getting v for <class 'spynnaker.pyNN.models.neuron.builds.if_cond_exp_stoc.IFCondExpStoc'>\n",
      "|0%                          50%                         100%|\n",
      " ============================================================\n",
      "Getting v for <class 'spynnaker.pyNN.models.neuron.builds.if_cond_exp_stoc.IFCondExpStoc'>\n",
      "|0%                          50%                         100%|\n",
      " ============================================================\n",
      "Getting v for <class 'spynnaker.pyNN.models.neuron.builds.if_cond_exp_stoc.IFCondExpStoc'>\n",
      "|0%                          50%                         100%|\n",
      " ============================================================\n",
      "Getting v for <class 'spynnaker.pyNN.models.neuron.builds.if_cond_exp_stoc.IFCondExpStoc'>\n",
      "|0%                          50%                         100%|\n",
      " ============================================================\n",
      "Getting v for <class 'spynnaker.pyNN.models.neuron.builds.if_cond_exp_stoc.IFCondExpStoc'>\n",
      "|0%                          50%                         100%|\n",
      " ============================================================\n",
      "Getting v for <class 'spynnaker.pyNN.models.neuron.builds.if_curr_delta.IFCurrDelta'>\n",
      "|0%                          50%                         100%|\n",
      " ============================================================\n",
      "Getting v for <class 'spynnaker.pyNN.models.neuron.builds.if_curr_delta.IFCurrDelta'>\n",
      "|0%                          50%                         100%|\n",
      " ============================================================\n",
      "Getting v for <class 'spynnaker.pyNN.models.neuron.builds.if_curr_delta.IFCurrDelta'>\n",
      "|0%                          50%                         100%|\n",
      " ============================================================\n",
      "Getting v for <class 'spynnaker.pyNN.models.neuron.builds.if_curr_delta.IFCurrDelta'>\n",
      "|0%                          50%                         100%|\n",
      " ============================================================\n",
      "Getting v for <class 'spynnaker.pyNN.models.neuron.builds.if_curr_delta.IFCurrDelta'>\n",
      "|0%                          50%                         100%|\n",
      " ============================================================\n",
      "Getting v for <class 'spynnaker.pyNN.models.neuron.builds.if_curr_exp_ca2_adaptive.IFCurrExpCa2Adaptive'>\n",
      "|0%                          50%                         100%|\n",
      " ============================================================\n",
      "Getting v for <class 'spynnaker.pyNN.models.neuron.builds.if_curr_exp_ca2_adaptive.IFCurrExpCa2Adaptive'>\n",
      "|0%                          50%                         100%|\n",
      " ============================================================\n",
      "Getting v for <class 'spynnaker.pyNN.models.neuron.builds.if_curr_exp_ca2_adaptive.IFCurrExpCa2Adaptive'>\n",
      "|0%                          50%                         100%|\n",
      " ============================================================\n",
      "Getting v for <class 'spynnaker.pyNN.models.neuron.builds.if_curr_exp_ca2_adaptive.IFCurrExpCa2Adaptive'>\n",
      "|0%                          50%                         100%|\n",
      " ============================================================\n",
      "Getting v for <class 'spynnaker.pyNN.models.neuron.builds.if_curr_exp_ca2_adaptive.IFCurrExpCa2Adaptive'>\n",
      "|0%                          50%                         100%|\n",
      " ============================================================\n",
      "Getting v for <class 'spynnaker.pyNN.models.neuron.builds.izk_cond_exp_base.IzkCondExpBase'>\n",
      "|0%                          50%                         100%|\n",
      " ============================================================\n",
      "Getting v for <class 'spynnaker.pyNN.models.neuron.builds.izk_cond_exp_base.IzkCondExpBase'>\n",
      "|0%                          50%                         100%|\n",
      " ============================================================\n",
      "Getting v for <class 'spynnaker.pyNN.models.neuron.builds.izk_cond_exp_base.IzkCondExpBase'>\n",
      "|0%                          50%                         100%|\n",
      " ============================================================\n",
      "Getting v for <class 'spynnaker.pyNN.models.neuron.builds.izk_cond_exp_base.IzkCondExpBase'>\n",
      "|0%                          50%                         100%|\n",
      " ============================================================\n",
      "Getting v for <class 'spynnaker.pyNN.models.neuron.builds.izk_cond_exp_base.IzkCondExpBase'>\n",
      "|0%                          50%                         100%|\n",
      " ============================================================\n"
     ]
    }
   ],
   "source": [
    "# save the results\n",
    "\n",
    "outputs = {}\n",
    "\n",
    "for i in range(9):\n",
    "    outputs['model_' + str(i)] = pops['model_' + str(i)].get_data()\n",
    "    for recording in ['v', 'gsyn_inh', 'gsyn_exc', 'spikes']:\n",
    "        pops['model_' + str(i)].write_data(fileName + '_' + str(recording) + '.pkl')\n"
   ]
  },
  {
   "cell_type": "markdown",
   "metadata": {},
   "source": [
    "## recover results"
   ]
  },
  {
   "cell_type": "code",
   "execution_count": 12,
   "metadata": {},
   "outputs": [],
   "source": [
    "# make the recover results function\n",
    "\n",
    "def recover_results(outputs):\n",
    "    results = {}\n",
    "    for key in outputs.keys(): \n",
    "        \n",
    "        # to get voltage and conductances\n",
    "        for analogsignal in outputs[key].segments[0].analogsignals:\n",
    "            print(analogsignal.name)\n",
    "            results[key, analogsignal.name] = analogsignal\n",
    "\n",
    "        # to get spikes\n",
    "        results[key, 'spikes'] = outputs[key].segments[0].spiketrains\n",
    "    return results\n"
   ]
  },
  {
   "cell_type": "code",
   "execution_count": 13,
   "metadata": {},
   "outputs": [
    {
     "name": "stdout",
     "output_type": "stream",
     "text": [
      "v\n",
      "v\n",
      "v\n",
      "v\n",
      "v\n",
      "v\n",
      "v\n",
      "v\n",
      "v\n"
     ]
    },
    {
     "data": {
      "text/plain": [
       "dict_keys([('model_0', 'v'), ('model_0', 'spikes'), ('model_1', 'v'), ('model_1', 'spikes'), ('model_2', 'v'), ('model_2', 'spikes'), ('model_3', 'v'), ('model_3', 'spikes'), ('model_4', 'v'), ('model_4', 'spikes'), ('model_5', 'v'), ('model_5', 'spikes'), ('model_6', 'v'), ('model_6', 'spikes'), ('model_7', 'v'), ('model_7', 'spikes'), ('model_8', 'v'), ('model_8', 'spikes')])"
      ]
     },
     "execution_count": 13,
     "metadata": {},
     "output_type": "execute_result"
    }
   ],
   "source": [
    "# recover results\n",
    "\n",
    "results = recover_results(outputs)\n",
    "results.keys()"
   ]
  },
  {
   "cell_type": "markdown",
   "metadata": {},
   "source": [
    "## check the voltage signature"
   ]
  },
  {
   "cell_type": "code",
   "execution_count": 14,
   "metadata": {},
   "outputs": [
    {
     "name": "stdout",
     "output_type": "stream",
     "text": [
      "Using matplotlib backend: module://ipympl.backend_nbagg\n"
     ]
    },
    {
     "data": {
      "application/vnd.jupyter.widget-view+json": {
       "model_id": "1774f4576e94493d84f011205c4d0dff",
       "version_major": 2,
       "version_minor": 0
      },
      "text/plain": [
       "Canvas(toolbar=Toolbar(toolitems=[('Home', 'Reset original view', 'home', 'home'), ('Back', 'Back to previous …"
      ]
     },
     "metadata": {},
     "output_type": "display_data"
    }
   ],
   "source": [
    "%matplotlib \n",
    "\n",
    "fig, axes = plt.subplots(3, 3, sharex=True, sharey=False, figsize=(11,7))\n",
    "fig.tight_layout(pad=3)\n",
    "fig.suptitle('voltage signature in cell models')\n",
    "\n",
    "axes_list = fig.axes\n",
    "idx = 0\n",
    "for i in range(9):\n",
    "    im = axes_list[i].plot(results['model_' + str(i), 'v'], label=str('model_' + str(i)))\n",
    "    #axes_list[i].set_xticklabels([])\n",
    "    axes_list[i].legend()\n",
    "    axes_list[i].grid(which='both')\n",
    "    if i==0 or i==3 or i==6:\n",
    "        axes_list[i].set_ylabel('[mv]')\n",
    "    if i==6 or i==7 or i==8:\n",
    "        axes_list[i].set_xlabel('[ms]')\n"
   ]
  },
  {
   "cell_type": "raw",
   "metadata": {},
   "source": [
    "Plot legend:\n",
    "    \n",
    "model_0 = sim.IF_cond_exp, \n",
    "model_1 = sim.IF_curr_alpha\n",
    "model_2 = sim.IF_curr_exp\n",
    "model_3 = sim.Izhikevich\n",
    "model_4 = sim.extra_models.IF_curr_dual_exp\n",
    "model_5 = sim.extra_models.IFCondExpStoc\n",
    "model_6 = sim.extra_models.IFCurDelta\n",
    "model_7 = sim.extra_models.IFCurrExpCa2Adaptive\n",
    "model_8 = sim.extra_models.Izhikevich_cond"
   ]
  },
  {
   "cell_type": "code",
   "execution_count": 15,
   "metadata": {},
   "outputs": [],
   "source": [
    "# end simulation\n",
    "\n",
    "sim.end()"
   ]
  },
  {
   "cell_type": "markdown",
   "metadata": {},
   "source": [
    "## Task 1: on the action potential of cell models\n",
    "\n",
    "- Have a look of the plot, you should observe the different voltage signatures having similarities as well as differences. <br>\n",
    "  Describe them or try making a classification by adopting criteria indicated in this bottom image<br>\n",
    "  \n",
    "  e.g., \n",
    "      - depolarization timing\n",
    "      - shape of depolarization\n",
    "      - action potential timing\n",
    "      - shape of repolarization\n",
    "      - presence/absence of refractory period\n",
    "      - resting state timing\n",
    "      \n",
    "      \n",
    "- This simulation has been done with standard parameters. <br>\n",
    "  Choose a parameter shared from all the models and tune it. <br>\n",
    "  Observe how the voltage trace of the action potential changes. <br>\n",
    "  To explore the default paramters, use e.g., `sim.IF_cond_exp.default_parameters` <br>\n",
    "  Change them by defining a new dictionary of pars for each model call e.g., pars[model_x]<br>\n",
    "  "
   ]
  },
  {
   "cell_type": "markdown",
   "metadata": {},
   "source": [
    "![](https://upload.wikimedia.org/wikipedia/commons/4/4a/Action_potential.svg)"
   ]
  },
  {
   "cell_type": "markdown",
   "metadata": {},
   "source": [
    "## Task 2: on the network of different cell models\n",
    "\n",
    "- The previous results are related to single behaviour of the given cell models.<br>\n",
    "  Try to make a population of 25 cells for each model and record their voltage.<br>\n",
    "  The input should be design as a sequence of ten input spikes separeted 150 ms for each model.<br>\n",
    "  E.g., the first model receives input at 50-59ms, the second at 200-209ms, the third at 350-359ms etc.<br>\n",
    "  Plot the results in a single plot showing the all traces that should appear sequentally displayed.<br>\n",
    "  Set the simtime at 1500ms."
   ]
  }
 ],
 "metadata": {
  "kernelspec": {
   "display_name": "sPyNNaker",
   "language": "python",
   "name": "spynnaker"
  },
  "language_info": {
   "codemirror_mode": {
    "name": "ipython",
    "version": 3
   },
   "file_extension": ".py",
   "mimetype": "text/x-python",
   "name": "python",
   "nbconvert_exporter": "python",
   "pygments_lexer": "ipython3",
   "version": "3.6.9"
  }
 },
 "nbformat": 4,
 "nbformat_minor": 4
}
